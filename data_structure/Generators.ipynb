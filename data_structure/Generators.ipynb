{
 "cells": [
  {
   "cell_type": "code",
   "execution_count": 13,
   "metadata": {
    "ExecuteTime": {
     "end_time": "2020-07-12T15:56:38.818458Z",
     "start_time": "2020-07-12T15:56:38.815824Z"
    }
   },
   "outputs": [],
   "source": [
    "import os\n",
    "import sys\n",
    "import cProfile\n",
    "import operator\n",
    "import itertools"
   ]
  },
  {
   "cell_type": "markdown",
   "metadata": {
    "ExecuteTime": {
     "end_time": "2020-07-12T16:04:11.560572Z",
     "start_time": "2020-07-12T16:04:11.558191Z"
    }
   },
   "source": [
    "#### Basic Usage of Generator"
   ]
  },
  {
   "cell_type": "markdown",
   "metadata": {},
   "source": [
    "Generators are sepecial function that returns a lazy iterator which don't store the object in memory.\n",
    "Generators can be created either through generator functions or expressions (also called generator comprehension, as oppose to list comprehension).\n",
    "\n",
    "Generator functions look just like a regular function, but it use the `yield` statement instead of `return`.Once the Python yield statement is hit, the program suspends function execution and returns the yielded value to the caller. (In contrast, `return` stops function execution completely.) When a function is suspended, the state of that function is saved. This includes any variable bindings local to the generator, the instruction pointer, the internal stack, and any exception handling. This allows you to resume function execution whenever you call one of the generator’s methods. In this way, all function evaluation picks back up right after yield. \n",
    "Until all values are evaluated, iteration on generator will exit, if you call `next()` again, `StopIteration` exception will be raised. "
   ]
  },
  {
   "cell_type": "code",
   "execution_count": 6,
   "metadata": {
    "ExecuteTime": {
     "end_time": "2020-07-12T15:48:49.692775Z",
     "start_time": "2020-07-12T15:48:49.689782Z"
    }
   },
   "outputs": [],
   "source": [
    "def csv_reader(file_name):\n",
    "    #Open() returns a generator object that you can lazily iterate through line by line, \n",
    "    #Comparatively, `file.read().split(\"\\n\")` will loads everything into memory at once \n",
    "    for row in open(file_name, \"r\"):\n",
    "        yield row\n",
    "        \n",
    "#csv_gen = (row for row in open(file_name))"
   ]
  },
  {
   "cell_type": "markdown",
   "metadata": {},
   "source": [
    "Once have a called generator, which needs to be initialized ahead, we can iterate over it be repeatedly calling the `next()`function. As the `infinite_sequence`, each time `next` is called, the previously yielded variable num is incremented and then yield again. "
   ]
  },
  {
   "cell_type": "code",
   "execution_count": 7,
   "metadata": {
    "ExecuteTime": {
     "end_time": "2020-07-12T15:49:00.825048Z",
     "start_time": "2020-07-12T15:49:00.822399Z"
    }
   },
   "outputs": [],
   "source": [
    "def infinite_sequence():\n",
    "    num = 0\n",
    "    while True:\n",
    "        yield num\n",
    "        num += 1"
   ]
  },
  {
   "cell_type": "code",
   "execution_count": 9,
   "metadata": {
    "ExecuteTime": {
     "end_time": "2020-07-12T15:50:23.270167Z",
     "start_time": "2020-07-12T15:50:23.265522Z"
    }
   },
   "outputs": [
    {
     "name": "stdout",
     "output_type": "stream",
     "text": [
      "type of num_gen <class 'generator'>\n",
      "Using next to iterate the item in generator\n",
      "0\n",
      "1\n",
      "2\n",
      "3\n"
     ]
    }
   ],
   "source": [
    "num_gen = infinite_sequence()\n",
    "print(\"type of num_gen\", type(num_gen))\n",
    "print(\"Using next to iterate the item in generator\")\n",
    "print(next(num_gen))\n",
    "print(next(num_gen))\n",
    "print(next(num_gen))\n",
    "print(next(num_gen))"
   ]
  },
  {
   "cell_type": "markdown",
   "metadata": {},
   "source": [
    "Similar to list comprehension, generator expression/comprehension allow programer to create a genearator object in a few line of code, without holding the entre object in memory before iteration.\n",
    "Instead of using bracket for list, just simply use parenthesis to turn it into generator.\n",
    "\n",
    "However, it can be faster to evaluate a short list comprehension than equivalent generator expression. "
   ]
  },
  {
   "cell_type": "code",
   "execution_count": 12,
   "metadata": {
    "ExecuteTime": {
     "end_time": "2020-07-12T15:55:14.798406Z",
     "start_time": "2020-07-12T15:55:14.794318Z"
    }
   },
   "outputs": [
    {
     "name": "stdout",
     "output_type": "stream",
     "text": [
      "inspect the size of list comprehension: 4272\n",
      "inspect the size of generator comprehension: 88\n"
     ]
    }
   ],
   "source": [
    "nums_squared_lc = [num**2 for num in range(500)]\n",
    "print(\"inspect the size of list comprehension:\", sys.getsizeof(nums_squared_lc))\n",
    "nums_squared_gc = (num**2 for num in range(500))\n",
    "print(\"inspect the size of generator comprehension:\", sys.getsizeof(nums_squared_gc))"
   ]
  },
  {
   "cell_type": "code",
   "execution_count": 17,
   "metadata": {
    "ExecuteTime": {
     "end_time": "2020-07-12T15:57:12.573913Z",
     "start_time": "2020-07-12T15:57:12.560635Z"
    }
   },
   "outputs": [
    {
     "name": "stdout",
     "output_type": "stream",
     "text": [
      "         5 function calls in 0.001 seconds\n",
      "\n",
      "   Ordered by: standard name\n",
      "\n",
      "   ncalls  tottime  percall  cumtime  percall filename:lineno(function)\n",
      "        1    0.001    0.001    0.001    0.001 <string>:1(<listcomp>)\n",
      "        1    0.000    0.000    0.001    0.001 <string>:1(<module>)\n",
      "        1    0.000    0.000    0.001    0.001 {built-in method builtins.exec}\n",
      "        1    0.000    0.000    0.000    0.000 {built-in method builtins.sum}\n",
      "        1    0.000    0.000    0.000    0.000 {method 'disable' of '_lsprof.Profiler' objects}\n",
      "\n",
      "\n",
      "-------------------\n",
      "         10005 function calls in 0.003 seconds\n",
      "\n",
      "   Ordered by: standard name\n",
      "\n",
      "   ncalls  tottime  percall  cumtime  percall filename:lineno(function)\n",
      "    10001    0.001    0.000    0.001    0.000 <string>:1(<genexpr>)\n",
      "        1    0.000    0.000    0.002    0.002 <string>:1(<module>)\n",
      "        1    0.000    0.000    0.003    0.003 {built-in method builtins.exec}\n",
      "        1    0.001    0.001    0.002    0.002 {built-in method builtins.sum}\n",
      "        1    0.000    0.000    0.000    0.000 {method 'disable' of '_lsprof.Profiler' objects}\n",
      "\n",
      "\n"
     ]
    }
   ],
   "source": [
    "cProfile.run('sum([i * 2 for i in range(10000)])')\n",
    "print(\"-------------------\")\n",
    "cProfile.run('sum((i * 2 for i in range(10000)))')"
   ]
  },
  {
   "cell_type": "markdown",
   "metadata": {
    "ExecuteTime": {
     "end_time": "2020-07-12T15:57:00.294292Z",
     "start_time": "2020-07-12T15:57:00.288651Z"
    }
   },
   "source": [
    "#### Advanced Generator Methods \n",
    "`.send()` will send a (modified) value back to the generator to be picked up after `yield` statement.\n",
    "\n",
    "`.throw()` is useful in any areas where you might need to catch an exception to controle where to stop iterating \n",
    "\n",
    "`.close()` alose allows you to stop a generator and it will raise `StopIteration` error, which often used to signal the end of a finite iterator."
   ]
  },
  {
   "cell_type": "code",
   "execution_count": 34,
   "metadata": {
    "ExecuteTime": {
     "end_time": "2020-07-12T16:48:22.166835Z",
     "start_time": "2020-07-12T16:48:22.159568Z"
    }
   },
   "outputs": [],
   "source": [
    "# palindrome detector case \n",
    "\n",
    "def is_palindrome(num):\n",
    "    # by default, single-digit number is not palindrome\n",
    "    if num //10 == 0:\n",
    "        return False\n",
    "    as_negative = -1 if num <0 else 1\n",
    "    \n",
    "    abs_num = abs(num)\n",
    "    reversed_num = 0\n",
    "    \n",
    "    while abs_num:\n",
    "        last_digit = abs_num % 10\n",
    "        abs_num = abs_num // 10\n",
    "        reversed_num = reversed_num * 10 + last_digit\n",
    "        \n",
    "    reversed_num= reversed_num * as_negative\n",
    "    if reversed_num == num:\n",
    "        return True\n",
    "    return False\n",
    "    \n",
    "    \n",
    "def infinite_palindrome():\n",
    "    num = 0\n",
    "    while True:\n",
    "        if is_palindrome(num):\n",
    "            # yield_val takes the value is yieled, allows us to manipulated the value, e.g. with .send() a value\n",
    "            # back to the generator. When the execution continues after `yiled`, it will take the value that is sent\n",
    "            yield_val = (yield num)\n",
    "            if yield_val is not None:\n",
    "                num = yield_val\n",
    "        num += 1\n",
    "        \n",
    "\n",
    "def execute_palinfrome_print():\n",
    "    pal_gen = infinite_palindrome()\n",
    "    \n",
    "    for pal_val in pal_gen:\n",
    "        print(pal_val)\n",
    "        digits = len(str(pal_val))\n",
    "        # once a palindrome value is found, it sends 10** digits to `yield_value`, then the program update num by increment of 1\n",
    "        # and check for palindrome again\n",
    "        if digits >= 5:\n",
    "            pal_gen.throw(ValueError(\"No need to look for larger palindrome!\"))\n",
    "            # pal_gen.close()\n",
    "        pal_gen.send(10**digits)\n",
    "        "
   ]
  },
  {
   "cell_type": "code",
   "execution_count": 26,
   "metadata": {
    "ExecuteTime": {
     "end_time": "2020-07-12T16:37:04.077927Z",
     "start_time": "2020-07-12T16:37:04.074617Z"
    }
   },
   "outputs": [],
   "source": [
    "palindrome_test_case = [(12321, True), (1001, True), (1010, False), (1234, False)]\n",
    "for test_num, expected in palindrome_test_case:\n",
    "    assert is_palindrome(test_num)== expected"
   ]
  },
  {
   "cell_type": "code",
   "execution_count": 35,
   "metadata": {
    "ExecuteTime": {
     "end_time": "2020-07-12T16:48:24.063440Z",
     "start_time": "2020-07-12T16:48:24.049498Z"
    }
   },
   "outputs": [
    {
     "name": "stdout",
     "output_type": "stream",
     "text": [
      "11\n",
      "111\n",
      "1111\n",
      "10101\n"
     ]
    },
    {
     "ename": "ValueError",
     "evalue": "No need to look for larger palindrome!",
     "output_type": "error",
     "traceback": [
      "\u001b[0;31m---------------------------------------------------------------------------\u001b[0m",
      "\u001b[0;31mValueError\u001b[0m                                Traceback (most recent call last)",
      "\u001b[0;32m<ipython-input-35-781589d245c2>\u001b[0m in \u001b[0;36m<module>\u001b[0;34m\u001b[0m\n\u001b[0;32m----> 1\u001b[0;31m \u001b[0mexecute_palinfrome_print\u001b[0m\u001b[0;34m(\u001b[0m\u001b[0;34m)\u001b[0m\u001b[0;34m\u001b[0m\u001b[0;34m\u001b[0m\u001b[0m\n\u001b[0m",
      "\u001b[0;32m<ipython-input-34-485179362ef7>\u001b[0m in \u001b[0;36mexecute_palinfrome_print\u001b[0;34m()\u001b[0m\n\u001b[1;32m     42\u001b[0m         \u001b[0;31m# and check for palindrome again\u001b[0m\u001b[0;34m\u001b[0m\u001b[0;34m\u001b[0m\u001b[0;34m\u001b[0m\u001b[0m\n\u001b[1;32m     43\u001b[0m         \u001b[0;32mif\u001b[0m \u001b[0mdigits\u001b[0m \u001b[0;34m>=\u001b[0m \u001b[0;36m5\u001b[0m\u001b[0;34m:\u001b[0m\u001b[0;34m\u001b[0m\u001b[0;34m\u001b[0m\u001b[0m\n\u001b[0;32m---> 44\u001b[0;31m             \u001b[0mpal_gen\u001b[0m\u001b[0;34m.\u001b[0m\u001b[0mthrow\u001b[0m\u001b[0;34m(\u001b[0m\u001b[0mValueError\u001b[0m\u001b[0;34m(\u001b[0m\u001b[0;34m\"No need to look for larger palindrome!\"\u001b[0m\u001b[0;34m)\u001b[0m\u001b[0;34m)\u001b[0m\u001b[0;34m\u001b[0m\u001b[0;34m\u001b[0m\u001b[0m\n\u001b[0m\u001b[1;32m     45\u001b[0m             \u001b[0;31m# pal_gen.close()\u001b[0m\u001b[0;34m\u001b[0m\u001b[0;34m\u001b[0m\u001b[0;34m\u001b[0m\u001b[0m\n\u001b[1;32m     46\u001b[0m         \u001b[0mpal_gen\u001b[0m\u001b[0;34m.\u001b[0m\u001b[0msend\u001b[0m\u001b[0;34m(\u001b[0m\u001b[0;36m10\u001b[0m\u001b[0;34m**\u001b[0m\u001b[0mdigits\u001b[0m\u001b[0;34m)\u001b[0m\u001b[0;34m\u001b[0m\u001b[0;34m\u001b[0m\u001b[0m\n",
      "\u001b[0;32m<ipython-input-34-485179362ef7>\u001b[0m in \u001b[0;36minfinite_palindrome\u001b[0;34m()\u001b[0m\n\u001b[1;32m     27\u001b[0m             \u001b[0;31m# yield_val takes the value is yieled, allows us to manipulated the value, e.g. with .send() a value\u001b[0m\u001b[0;34m\u001b[0m\u001b[0;34m\u001b[0m\u001b[0;34m\u001b[0m\u001b[0m\n\u001b[1;32m     28\u001b[0m             \u001b[0;31m# back to the generator. When the execution continues after `yiled`, it will take the value that is sent\u001b[0m\u001b[0;34m\u001b[0m\u001b[0;34m\u001b[0m\u001b[0;34m\u001b[0m\u001b[0m\n\u001b[0;32m---> 29\u001b[0;31m             \u001b[0myield_val\u001b[0m \u001b[0;34m=\u001b[0m \u001b[0;34m(\u001b[0m\u001b[0;32myield\u001b[0m \u001b[0mnum\u001b[0m\u001b[0;34m)\u001b[0m\u001b[0;34m\u001b[0m\u001b[0;34m\u001b[0m\u001b[0m\n\u001b[0m\u001b[1;32m     30\u001b[0m             \u001b[0;32mif\u001b[0m \u001b[0myield_val\u001b[0m \u001b[0;32mis\u001b[0m \u001b[0;32mnot\u001b[0m \u001b[0;32mNone\u001b[0m\u001b[0;34m:\u001b[0m\u001b[0;34m\u001b[0m\u001b[0;34m\u001b[0m\u001b[0m\n\u001b[1;32m     31\u001b[0m                 \u001b[0mnum\u001b[0m \u001b[0;34m=\u001b[0m \u001b[0myield_val\u001b[0m\u001b[0;34m\u001b[0m\u001b[0;34m\u001b[0m\u001b[0m\n",
      "\u001b[0;31mValueError\u001b[0m: No need to look for larger palindrome!"
     ]
    }
   ],
   "source": [
    "execute_palinfrome_print()"
   ]
  },
  {
   "cell_type": "markdown",
   "metadata": {
    "ExecuteTime": {
     "end_time": "2020-07-12T16:37:26.145511Z",
     "start_time": "2020-07-12T16:37:26.141722Z"
    }
   },
   "source": [
    "#### Creating Datapipeline with Generator"
   ]
  },
  {
   "cell_type": "code",
   "execution_count": 43,
   "metadata": {
    "ExecuteTime": {
     "end_time": "2020-07-12T18:43:35.953539Z",
     "start_time": "2020-07-12T18:43:35.949646Z"
    }
   },
   "outputs": [
    {
     "name": "stdout",
     "output_type": "stream",
     "text": [
      "fname_techcrunch: /Users/shisi/ipython_projects/data/techcrunch.csv\n"
     ]
    }
   ],
   "source": [
    "data_folder = os.path.dirname(os.path.dirname(os.getcwd())) + \"/data/\"\n",
    "fname_techcrunch = data_folder + \"techcrunch.csv\"\n",
    "print(\"fname_techcrunch:\", fname_techcrunch)"
   ]
  },
  {
   "cell_type": "code",
   "execution_count": 89,
   "metadata": {
    "ExecuteTime": {
     "end_time": "2020-07-12T19:01:43.781552Z",
     "start_time": "2020-07-12T19:01:43.771778Z"
    }
   },
   "outputs": [],
   "source": [
    "# create a generator expression lines to yield each line of a file\n",
    "lines = (line for line in open(fname_techcrunch))\n",
    "# iterate through `lines` generator and turn each line to a list of values\n",
    "line_values = (s.rstrip().split(\",\") for s in lines)\n",
    "# call `next()` once to get a list of the column names from your CSV file\n",
    "col_names = next(line_values)\n",
    "# create dictionaries where the keys are the column names across all line of values\n",
    "company_dicts = (dict(zip(col_names, data)) for data in line_values)"
   ]
  },
  {
   "cell_type": "code",
   "execution_count": 85,
   "metadata": {
    "ExecuteTime": {
     "end_time": "2020-07-12T18:59:59.324826Z",
     "start_time": "2020-07-12T18:59:59.316537Z"
    }
   },
   "outputs": [
    {
     "name": "stdout",
     "output_type": "stream",
     "text": [
      "Total series A fundraising: $4376015000\n"
     ]
    }
   ],
   "source": [
    "# filter for series A funding arounds\n",
    "funding = (\n",
    "    int(company_dict[\"raisedAmt\"])\n",
    "    for company_dict in company_dicts\n",
    "    if company_dict[\"round\"] == \"a\"\n",
    ")\n",
    "# get the total raised funding amount\n",
    "total_series_a = sum(funding)\n",
    "print(f\"Total series A fundraising: ${total_series_a}\")"
   ]
  },
  {
   "cell_type": "code",
   "execution_count": 90,
   "metadata": {
    "ExecuteTime": {
     "end_time": "2020-07-12T19:01:46.223894Z",
     "start_time": "2020-07-12T19:01:46.215033Z"
    }
   },
   "outputs": [
    {
     "name": "stdout",
     "output_type": "stream",
     "text": [
      "Average series A fundingraised: $7531867.469879518\n"
     ]
    }
   ],
   "source": [
    "# Bonus point: To get the average amount raised\n",
    "funding_arounds = ((1, int(company_dict[\"raisedAmt\"]))\n",
    "                    for company_dict in company_dicts\n",
    "                    if company_dict[\"round\"] == \"a\"\n",
    "                  )\n",
    "\n",
    "cnt_rounds, total_series_a = list(map(sum, zip(*funding_arounds)))\n",
    "\n",
    "avg_series_a = total_series_a / cnt_rounds\n",
    "print(f\"Average series A fundingraised: ${avg_series_a}\")"
   ]
  }
 ],
 "metadata": {
  "kernelspec": {
   "display_name": "Python 3",
   "language": "python",
   "name": "python3"
  },
  "language_info": {
   "codemirror_mode": {
    "name": "ipython",
    "version": 3
   },
   "file_extension": ".py",
   "mimetype": "text/x-python",
   "name": "python",
   "nbconvert_exporter": "python",
   "pygments_lexer": "ipython3",
   "version": "3.6.10"
  },
  "toc": {
   "base_numbering": 1,
   "nav_menu": {},
   "number_sections": true,
   "sideBar": true,
   "skip_h1_title": false,
   "title_cell": "Table of Contents",
   "title_sidebar": "Contents",
   "toc_cell": false,
   "toc_position": {},
   "toc_section_display": true,
   "toc_window_display": false
  }
 },
 "nbformat": 4,
 "nbformat_minor": 2
}
