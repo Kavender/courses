{
 "cells": [
  {
   "cell_type": "markdown",
   "metadata": {},
   "source": [
    "#### python itertools package"
   ]
  },
  {
   "cell_type": "code",
   "execution_count": 2,
   "metadata": {
    "ExecuteTime": {
     "end_time": "2020-03-03T03:49:32.740796Z",
     "start_time": "2020-03-03T03:49:32.738510Z"
    }
   },
   "outputs": [],
   "source": [
    "import itertools\n",
    "import random"
   ]
  },
  {
   "cell_type": "raw",
   "metadata": {},
   "source": [
    "Given a list of values inputs and a positive integer n, write a function that splits inputs into groups of length n. For simplicity, assume that the length of the input list is divisible by n. \n",
    "For example, if inputs = [1, 2, 3, 4, 5, 6] and n = 2, your function should return [(1, 2), (3, 4), (5, 6)]"
   ]
  },
  {
   "cell_type": "code",
   "execution_count": 2,
   "metadata": {
    "ExecuteTime": {
     "end_time": "2020-03-01T19:47:28.935565Z",
     "start_time": "2020-03-01T19:47:28.932490Z"
    }
   },
   "outputs": [],
   "source": [
    "def grouper_with_iter(inputs, n):\n",
    "    # function take any iterable as an argument, can process enormous iterables without trouble and uses much less memory.\n",
    "    iters = [iter(inputs)] * n\n",
    "    return zip(*iters)"
   ]
  },
  {
   "cell_type": "code",
   "execution_count": 3,
   "metadata": {
    "ExecuteTime": {
     "end_time": "2020-03-01T19:47:29.468454Z",
     "start_time": "2020-03-01T19:47:29.463776Z"
    }
   },
   "outputs": [
    {
     "name": "stdout",
     "output_type": "stream",
     "text": [
      "1000 [0, 1, 2, 3, 4]\n",
      "pair of two with iter/zip 500 [(0, 1), (2, 3), (4, 5), (6, 7), (8, 9)]\n",
      "pair of four with iter/zip [(1, 2, 3, 4), (5, 6, 7, 8)]\n"
     ]
    }
   ],
   "source": [
    "# %%time\n",
    "nums = list(range(1000))\n",
    "print(len(nums), nums[0:5])\n",
    "pairs_with_iter = list(grouper_with_iter(nums, 2))\n",
    "print(\"pair of two with iter/zip\", len(pairs_with_iter), pairs_with_iter[0:5])\n",
    "\n",
    "###HOWEVER, the problem with using grouper_with_iter() is that it doesn't handle the case, where the length arg is not \n",
    "###the factor of the length of input argument\n",
    "nums = [1, 2, 3, 4, 5, 6, 7, 8, 9, 10]\n",
    "print(\"pair of four with iter/zip\", list(grouper_with_iter(nums, 4))) #The elements 9 and 10 are missing from the grouped output"
   ]
  },
  {
   "cell_type": "code",
   "execution_count": 4,
   "metadata": {
    "ExecuteTime": {
     "end_time": "2020-03-01T19:47:30.515440Z",
     "start_time": "2020-03-01T19:47:30.511416Z"
    }
   },
   "outputs": [
    {
     "name": "stdout",
     "output_type": "stream",
     "text": [
      "zip uneven length of two sequences [(1, 'a'), (2, 'b'), (3, 'c')]\n",
      "better way to use zip.longest(): [(1, 'a'), (2, 'b'), (3, 'c'), (4, None), (5, None)]\n"
     ]
    }
   ],
   "source": [
    "### To do this, you can use itertools.zip_longest(), with `fillvalue` keywords, we can set default value for short sequence\n",
    "### It's assign None when missing value appears for shorter sequence\n",
    "\n",
    "x = [1, 2, 3, 4, 5]\n",
    "y = ['a', 'b', 'c']\n",
    "\n",
    "print(\"zip uneven length of two sequences\", list(zip(x, y)))\n",
    "print(\"better way to use zip.longest():\", list(itertools.zip_longest(x, y)))"
   ]
  },
  {
   "cell_type": "code",
   "execution_count": 5,
   "metadata": {
    "ExecuteTime": {
     "end_time": "2020-03-01T19:47:31.366769Z",
     "start_time": "2020-03-01T19:47:31.363630Z"
    }
   },
   "outputs": [],
   "source": [
    "def upgrade_grouper(inputs, n, fillvalue=None):\n",
    "    iters = [iter(inputs)] *n\n",
    "    return itertools.zip_longest(*iters, fillvalue=fillvalue)"
   ]
  },
  {
   "cell_type": "code",
   "execution_count": 6,
   "metadata": {
    "ExecuteTime": {
     "end_time": "2020-03-01T19:47:31.806274Z",
     "start_time": "2020-03-01T19:47:31.802020Z"
    }
   },
   "outputs": [
    {
     "name": "stdout",
     "output_type": "stream",
     "text": [
      "let's try out the improved version of upgrade_grouper() [(1, 2, 3, 4), (5, 6, 7, 8), (9, 10, None, None)]\n"
     ]
    }
   ],
   "source": [
    "print(\"let's try out the improved version of upgrade_grouper()\",\n",
    "     list(upgrade_grouper(nums, 4)))"
   ]
  },
  {
   "cell_type": "raw",
   "metadata": {},
   "source": [
    "You have three $20 dollar bills, five $10 dollar bills, two $5 dollar bills, and five $1 dollar bills. How many ways can you make change for a $100 dollar bill?"
   ]
  },
  {
   "cell_type": "code",
   "execution_count": 7,
   "metadata": {
    "ExecuteTime": {
     "end_time": "2020-03-01T19:47:32.701066Z",
     "start_time": "2020-03-01T19:47:32.698204Z"
    }
   },
   "outputs": [],
   "source": [
    "bills = [20, 20, 20, 10, 10, 10, 10, 10, 5, 5, 1, 1, 1, 1, 1]"
   ]
  },
  {
   "cell_type": "markdown",
   "metadata": {},
   "source": [
    "##### TODO: Is there a better way than brute force?"
   ]
  },
  {
   "cell_type": "code",
   "execution_count": 8,
   "metadata": {
    "ExecuteTime": {
     "end_time": "2020-03-01T19:47:34.975951Z",
     "start_time": "2020-03-01T19:47:34.960537Z"
    }
   },
   "outputs": [
    {
     "name": "stdout",
     "output_type": "stream",
     "text": [
      "all unique combination of bills to pay 100: {(20, 20, 20, 10, 10, 10, 5, 5), (20, 20, 20, 10, 10, 10, 5, 1, 1, 1, 1, 1), (20, 20, 10, 10, 10, 10, 10, 5, 5), (20, 20, 10, 10, 10, 10, 10, 5, 1, 1, 1, 1, 1), (20, 20, 20, 10, 10, 10, 10)}\n"
     ]
    }
   ],
   "source": [
    "# %%timeit\n",
    "makes_100 = []\n",
    "### the \"brute force\" way of solving the probelm\n",
    "for n in range(1, len(bills)+1):\n",
    "    for combination in itertools.combinations(bills, n):\n",
    "        if sum(combination) == 100:\n",
    "            makes_100.append(combination)\n",
    "print(\"all unique combination of bills to pay 100:\", set(makes_100))"
   ]
  },
  {
   "cell_type": "markdown",
   "metadata": {},
   "source": [
    "##### combinations_with_replacement(iterable, n)\n",
    "Return successive n-length combinations of elements in the iterable allowing individual elements to have successive repeats."
   ]
  },
  {
   "cell_type": "code",
   "execution_count": 9,
   "metadata": {
    "ExecuteTime": {
     "end_time": "2020-03-01T19:47:49.967552Z",
     "start_time": "2020-03-01T19:47:49.962083Z"
    }
   },
   "outputs": [
    {
     "name": "stdout",
     "output_type": "stream",
     "text": [
      "if we allow for replacement of the same amt of bill: 42\n"
     ]
    }
   ],
   "source": [
    "# How many ways are there to make change for a $100 bill using any number of $50, $20, $10, $5, and $1 dollar bills?\n",
    "makes_100 = []\n",
    "unique_bills = set(bills)\n",
    "\n",
    "for n in range(1, len(bills) + 1):\n",
    "    for combination in itertools.combinations_with_replacement(unique_bills, n):\n",
    "        if sum(combination) == 100:\n",
    "            makes_100.append(combination)\n",
    "print(\"if we allow for replacement of the same amt of bill:\", len(set(makes_100)))"
   ]
  },
  {
   "cell_type": "code",
   "execution_count": 10,
   "metadata": {
    "ExecuteTime": {
     "end_time": "2020-03-01T19:47:50.380609Z",
     "start_time": "2020-03-01T19:47:50.375229Z"
    }
   },
   "outputs": [
    {
     "name": "stdout",
     "output_type": "stream",
     "text": [
      "count 5 from 0: [0, 1, 2, 3, 4]\n",
      "count 5 time of even numbers [0, 2, 4, 6, 8]\n",
      "count 5 times of odds numbers [1, 3, 5, 7, 9]\n",
      "reverse count 5 times of negative numbers [-1, -1.5, -2.0, -2.5, -3.0]\n"
     ]
    }
   ],
   "source": [
    "##### itertools.count(): count numbers N times from a start_point (default=0) and a stepsize (`step`)\n",
    "#### itertools.count() is similar to the built-in range() function, but count() always returns an **infinite sequence**.\n",
    "num_counter = itertools.count()\n",
    "even_counter = itertools.count(step=2)\n",
    "odds_counter = itertools.count(start=1, step=2)\n",
    "negative_counter = itertools.count(start=-1, step=-0.5)\n",
    "\n",
    "Num_Times = 5\n",
    "print(f\"count {Num_Times} from 0:\", [next(num_counter) for _ in range(Num_Times)])\n",
    "\n",
    "print(f\"count {Num_Times} time of even numbers\", [next(even_counter) for _ in range(Num_Times)])\n",
    "\n",
    "print(f\"count {Num_Times} times of odds numbers\", [next(odds_counter) for _ in range(Num_Times)])\n",
    "\n",
    "print(f\"reverse count {Num_Times} times of negative numbers\", [next(negative_counter) for _ in range(Num_Times)])"
   ]
  },
  {
   "cell_type": "markdown",
   "metadata": {},
   "source": [
    "##### Iterate over Cartesian product of of two or more iterables with itertools.product() function"
   ]
  },
  {
   "cell_type": "code",
   "execution_count": 6,
   "metadata": {
    "ExecuteTime": {
     "end_time": "2020-03-03T03:54:20.052505Z",
     "start_time": "2020-03-03T03:54:20.049599Z"
    }
   },
   "outputs": [],
   "source": [
    "# In Poker cards, we have  list of ranks (ace, king, queen, jack, 10, 9, and so on) \n",
    "# and a list of suits (hearts, diamonds, clubs, and spades)\n",
    "ranks = ['A', 'K', 'Q', 'J', '10', '9', '8', '7', '6', '5', '4', '3', '2']\n",
    "suits = ['H', 'D', 'C', 'S']"
   ]
  },
  {
   "cell_type": "code",
   "execution_count": 7,
   "metadata": {
    "ExecuteTime": {
     "end_time": "2020-03-03T03:54:20.327709Z",
     "start_time": "2020-03-03T03:54:20.319247Z"
    }
   },
   "outputs": [
    {
     "name": "stdout",
     "output_type": "stream",
     "text": [
      "('A', 'H')\n"
     ]
    }
   ],
   "source": [
    "cards = itertools.product(ranks, suits)\n",
    "print(next(cards))"
   ]
  },
  {
   "cell_type": "code",
   "execution_count": 18,
   "metadata": {
    "ExecuteTime": {
     "end_time": "2020-03-01T19:54:21.037160Z",
     "start_time": "2020-03-01T19:54:21.033146Z"
    }
   },
   "outputs": [
    {
     "name": "stdout",
     "output_type": "stream",
     "text": [
      "('2', 'H')\n"
     ]
    }
   ],
   "source": [
    "def shuffle_deck(cards):\n",
    "    deck = list(cards)\n",
    "    random.shuffle(deck)\n",
    "    return iter(tuple(deck))\n",
    "\n",
    "cards = shuffle_deck(cards)\n",
    "print(next(cards))"
   ]
  },
  {
   "cell_type": "markdown",
   "metadata": {},
   "source": [
    "##### use islice() to slice a iterable \n",
    "pass it an iterable, a starting, and stopping point, and, just like slicing a list, the slice returned stops at the index just before the stopping point"
   ]
  },
  {
   "cell_type": "code",
   "execution_count": 3,
   "metadata": {
    "ExecuteTime": {
     "end_time": "2020-03-03T03:49:34.929065Z",
     "start_time": "2020-03-03T03:49:34.925009Z"
    }
   },
   "outputs": [
    {
     "name": "stdout",
     "output_type": "stream",
     "text": [
      "['C', 'D', 'E']\n",
      "[1, 3, 5]\n",
      "[3, 4, 5, 6, 7, 8, 9]\n"
     ]
    }
   ],
   "source": [
    "# Slice from index 2 to 4\n",
    "print(list(itertools.islice('ABCDEFG', 2, 5)))\n",
    "\n",
    "# Slice from beginning to index 4, in steps of 2\n",
    "print(list(itertools.islice([1, 2, 3, 4, 5], 0, 5, 2)))\n",
    "\n",
    "# Slice from index 3 to the end\n",
    "print(list(itertools.islice(range(10), 3, None)))"
   ]
  },
  {
   "cell_type": "code",
   "execution_count": 8,
   "metadata": {
    "ExecuteTime": {
     "end_time": "2020-03-03T03:54:23.779051Z",
     "start_time": "2020-03-03T03:54:23.774878Z"
    }
   },
   "outputs": [
    {
     "name": "stdout",
     "output_type": "stream",
     "text": [
      "cards cut: <itertools.chain object at 0x10e0fbba8>\n"
     ]
    }
   ],
   "source": [
    "# Make a cut of deck without making a whole copy of the deck for slicking\n",
    "\n",
    "def cut(deck, n):\n",
    "    deck1, deck2 = itertools.tee(deck, 2)\n",
    "    top = itertools.islice(deck1, n)\n",
    "    bottom = itertools.islice(deck2, n, None)\n",
    "    return itertools.chain(top, bottom)\n",
    "\n",
    "print(\"cards cut:\", cut(cards, 26))"
   ]
  },
  {
   "cell_type": "code",
   "execution_count": null,
   "metadata": {},
   "outputs": [],
   "source": []
  }
 ],
 "metadata": {
  "hide_input": false,
  "kernelspec": {
   "display_name": "Python 3",
   "language": "python",
   "name": "python3"
  },
  "language_info": {
   "codemirror_mode": {
    "name": "ipython",
    "version": 3
   },
   "file_extension": ".py",
   "mimetype": "text/x-python",
   "name": "python",
   "nbconvert_exporter": "python",
   "pygments_lexer": "ipython3",
   "version": "3.6.7"
  },
  "toc": {
   "base_numbering": 1,
   "nav_menu": {},
   "number_sections": true,
   "sideBar": true,
   "skip_h1_title": false,
   "title_cell": "Table of Contents",
   "title_sidebar": "Contents",
   "toc_cell": false,
   "toc_position": {},
   "toc_section_display": true,
   "toc_window_display": false
  },
  "varInspector": {
   "cols": {
    "lenName": 16,
    "lenType": 16,
    "lenVar": 40
   },
   "kernels_config": {
    "python": {
     "delete_cmd_postfix": "",
     "delete_cmd_prefix": "del ",
     "library": "var_list.py",
     "varRefreshCmd": "print(var_dic_list())"
    },
    "r": {
     "delete_cmd_postfix": ") ",
     "delete_cmd_prefix": "rm(",
     "library": "var_list.r",
     "varRefreshCmd": "cat(var_dic_list()) "
    }
   },
   "types_to_exclude": [
    "module",
    "function",
    "builtin_function_or_method",
    "instance",
    "_Feature"
   ],
   "window_display": false
  }
 },
 "nbformat": 4,
 "nbformat_minor": 2
}
