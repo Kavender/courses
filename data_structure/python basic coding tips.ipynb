{
 "cells": [
  {
   "cell_type": "markdown",
   "metadata": {},
   "source": [
    "#### Iterating through List"
   ]
  },
  {
   "cell_type": "raw",
   "metadata": {},
   "source": [
    "In FizzBuzz, you are given a list of integers. Your task is to do the following:\n",
    "numbers = [45, 22, 14, 65, 97, 72]\n",
    "Replace all integers that are evenly divisible by 3 with \"fizz\"\n",
    "Replace all integers divisible by 5 with \"buzz\"\n",
    "Replace all integers divisible by both 3 and 5 with \"fizzbuzz"
   ]
  },
  {
   "cell_type": "code",
   "execution_count": 1,
   "metadata": {
    "ExecuteTime": {
     "end_time": "2020-02-26T02:09:51.606631Z",
     "start_time": "2020-02-26T02:09:51.601685Z"
    }
   },
   "outputs": [
    {
     "name": "stdout",
     "output_type": "stream",
     "text": [
      "after replacement: ['fizzbuzz', 22, 14, 'fizz', 97, 'buzz']\n"
     ]
    }
   ],
   "source": [
    "numbers = [45, 22, 14, 65, 97, 72]\n",
    "\n",
    "for idx, number in enumerate(numbers):\n",
    "    if idx % 3 == 0 and idx % 5 == 0:\n",
    "        numbers[idx] = \"fizzbuzz\"\n",
    "    elif idx % 3 == 0:\n",
    "        numbers[idx] = \"fizz\"\n",
    "    elif idx % 5 == 0:\n",
    "        numbers[idx] = \"buzz\"\n",
    "\n",
    "print(\"after replacement:\", numbers)"
   ]
  },
  {
   "cell_type": "code",
   "execution_count": 2,
   "metadata": {
    "ExecuteTime": {
     "end_time": "2020-02-26T02:11:42.795165Z",
     "start_time": "2020-02-26T02:11:42.791350Z"
    }
   },
   "outputs": [
    {
     "name": "stdout",
     "output_type": "stream",
     "text": [
      "2 fizzbuzz\n",
      "3 22\n",
      "4 14\n",
      "5 fizz\n",
      "6 97\n",
      "7 buzz\n"
     ]
    }
   ],
   "source": [
    "# with start parameter of enumerate, we access all of the same elements of list, but starting from different index\n",
    "\n",
    "for idx, number in enumerate(numbers, start=2):\n",
    "    print(idx, number)"
   ]
  },
  {
   "cell_type": "markdown",
   "metadata": {},
   "source": [
    "#### Debug With breakpoint() Instead of print()"
   ]
  },
  {
   "cell_type": "raw",
   "metadata": {},
   "source": [
    "Python 3.7, you don’t need to In python 3.7, don't need to import anything and can just call breakpoint() at the location in your code where you’d like to drop into the debugger\n",
    "\n",
    "Python 3.6 and older, you can do the same by importing pdb explicitly:\n",
    "    `import pdb; pdb.set_trace()`"
   ]
  },
  {
   "cell_type": "markdown",
   "metadata": {},
   "source": [
    "#### Save Memory With Generators"
   ]
  },
  {
   "cell_type": "code",
   "execution_count": 7,
   "metadata": {
    "ExecuteTime": {
     "end_time": "2020-02-26T02:44:29.119878Z",
     "start_time": "2020-02-26T02:44:29.115861Z"
    }
   },
   "outputs": [
    {
     "name": "stdout",
     "output_type": "stream",
     "text": [
      "not memory efficient with list comprehension: 333833500\n",
      "with generator: 333833500\n"
     ]
    }
   ],
   "source": [
    "## instead of using list comprehension, where the creation of list requires memory resources\n",
    "print(\"not memory efficient with list comprehension:\", sum([i * i for i in range(1, 1001)]))\n",
    "\n",
    "# try to use the generator expression as below, the design allows generators to be used on massive sequences of data, because only one element exists in memory at a time.\n",
    "print(\"with generator:\", sum((i * i for i in range(1, 1001))))"
   ]
  },
  {
   "cell_type": "markdown",
   "metadata": {},
   "source": [
    "#### Handle Missing Dictionary Keys With collections.defaultdict()"
   ]
  },
  {
   "cell_type": "raw",
   "metadata": {},
   "source": [
    "Pretend you have a group of students, and you need to keep track of their grades on homework assignments. The input value is a list of tuples with the format (student_name, grade), but you want to easily look up all the grades for a single student without iterating over the list."
   ]
  },
  {
   "cell_type": "code",
   "execution_count": 8,
   "metadata": {
    "ExecuteTime": {
     "end_time": "2020-02-26T02:47:58.952103Z",
     "start_time": "2020-02-26T02:47:58.949059Z"
    }
   },
   "outputs": [],
   "source": [
    "grades = [\n",
    "...     ('elliot', 91),\n",
    "...     ('neelam', 98),\n",
    "...     ('bianca', 81),\n",
    "...     ('elliot', 88),\n",
    "... ]"
   ]
  },
  {
   "cell_type": "code",
   "execution_count": 10,
   "metadata": {
    "ExecuteTime": {
     "end_time": "2020-02-26T02:53:28.060047Z",
     "start_time": "2020-02-26T02:53:28.055230Z"
    }
   },
   "outputs": [
    {
     "name": "stdout",
     "output_type": "stream",
     "text": [
      "student grades aggregated: defaultdict(<class 'list'>, {'elliot': [91, 88], 'neelam': [98], 'bianca': [81]})\n"
     ]
    }
   ],
   "source": [
    "from collections import defaultdict\n",
    "\n",
    "# We can leveraging a defaultdict can lead to cleaner application code because you don’t have to worry about default values at the key level. \n",
    "# Instead, you can handle them once at the defaultdict level and afterwards act as if the key is always present.\n",
    "\n",
    "student_grades = defaultdict(list)\n",
    "for name, grade in grades:\n",
    "    student_grades[name].append(grade)\n",
    "\n",
    "print(\"student grades aggregated:\", student_grades)"
   ]
  },
  {
   "cell_type": "markdown",
   "metadata": {},
   "source": [
    "#### Generate Permutations and Combinations With itertools"
   ]
  },
  {
   "cell_type": "raw",
   "metadata": {},
   "source": [
    "itertools.permutations() builds a list of all permutations, meaning it’s a list of every possible grouping of input values with a length matching the count parameter. The r keyword argument lets us specify how many values go in each grouping:"
   ]
  },
  {
   "cell_type": "code",
   "execution_count": 13,
   "metadata": {
    "ExecuteTime": {
     "end_time": "2020-02-26T03:42:00.762896Z",
     "start_time": "2020-02-26T03:42:00.759402Z"
    }
   },
   "outputs": [
    {
     "name": "stdout",
     "output_type": "stream",
     "text": [
      "pair any two friends, bidirectional relations: [('Monique', 'Ashish'), ('Monique', 'Devon'), ('Monique', 'Bernie'), ('Ashish', 'Monique'), ('Ashish', 'Devon'), ('Ashish', 'Bernie'), ('Devon', 'Monique'), ('Devon', 'Ashish'), ('Devon', 'Bernie'), ('Bernie', 'Monique'), ('Bernie', 'Ashish'), ('Bernie', 'Devon')]\n"
     ]
    }
   ],
   "source": [
    "import itertools\n",
    "friends = ['Monique', 'Ashish', 'Devon', 'Bernie']\n",
    "print(\"pair any two friends, bidirectional relations:\", list(itertools.permutations(friends, 2)))"
   ]
  },
  {
   "cell_type": "raw",
   "metadata": {},
   "source": [
    "itertools.combinations() builds combinations. These are also the possible groupings of the input values, but now the order of the values doesn’t matter. "
   ]
  },
  {
   "cell_type": "code",
   "execution_count": 15,
   "metadata": {
    "ExecuteTime": {
     "end_time": "2020-02-26T03:42:36.468299Z",
     "start_time": "2020-02-26T03:42:36.465130Z"
    }
   },
   "outputs": [
    {
     "name": "stdout",
     "output_type": "stream",
     "text": [
      "unique pair of friends: [('Monique', 'Ashish'), ('Monique', 'Devon'), ('Monique', 'Bernie'), ('Ashish', 'Devon'), ('Ashish', 'Bernie'), ('Devon', 'Bernie')]\n"
     ]
    }
   ],
   "source": [
    "print(\"unique pair of friends:\", list(itertools.combinations(friends, r=2)))"
   ]
  },
  {
   "cell_type": "markdown",
   "metadata": {},
   "source": [
    "#### immutable vs hashable"
   ]
  },
  {
   "cell_type": "raw",
   "metadata": {},
   "source": [
    "immutable - a type of object that cannot be modified after created\n",
    "hashable - a type of object that can call `hash` on it\n",
    "all immutable objects are hashable, but not vice versa\n",
    "Python Set can only have hashable items. Set is not hashable by iteself.\n",
    "\n",
    "String, Tuple, Integers, Booleans are immutable.\n",
    "List, Dictionary are mutable."
   ]
  },
  {
   "cell_type": "code",
   "execution_count": null,
   "metadata": {},
   "outputs": [],
   "source": []
  }
 ],
 "metadata": {
  "kernelspec": {
   "display_name": "Python 3",
   "language": "python",
   "name": "python3"
  },
  "language_info": {
   "codemirror_mode": {
    "name": "ipython",
    "version": 3
   },
   "file_extension": ".py",
   "mimetype": "text/x-python",
   "name": "python",
   "nbconvert_exporter": "python",
   "pygments_lexer": "ipython3",
   "version": "3.6.7"
  },
  "toc": {
   "base_numbering": 1,
   "nav_menu": {},
   "number_sections": true,
   "sideBar": true,
   "skip_h1_title": false,
   "title_cell": "Table of Contents",
   "title_sidebar": "Contents",
   "toc_cell": false,
   "toc_position": {},
   "toc_section_display": true,
   "toc_window_display": false
  }
 },
 "nbformat": 4,
 "nbformat_minor": 2
}
