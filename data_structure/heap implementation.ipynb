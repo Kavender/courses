{
 "cells": [
  {
   "cell_type": "markdown",
   "metadata": {},
   "source": [
    "The goal is to write two heapify function for executing MinHeap and MaxHeap\n",
    "And write corresponding heapsort function"
   ]
  },
  {
   "cell_type": "code",
   "execution_count": 2,
   "metadata": {},
   "outputs": [],
   "source": [
    "def swap_element(data, pos1, pos2): \n",
    "    data[pos1], data[pos2] = data[pos2], data[pos1] \n",
    "    return data"
   ]
  },
  {
   "cell_type": "code",
   "execution_count": 99,
   "metadata": {},
   "outputs": [],
   "source": [
    "def heapify_maxheap(h_data, end_idx, node_idx):\n",
    "    left_child_idx = 2*node_idx + 1\n",
    "    right_child_idx = 2*node_idx + 2\n",
    "    # if it's already a heap, node_idx should be larger than both left and right children\n",
    "    largest_node_idx = node_idx\n",
    "    \n",
    "    for child_idx in [left_child_idx, right_child_idx]:\n",
    "        if child_idx > end_idx:\n",
    "           # do nothing, both node_idx has no children \n",
    "            continue\n",
    "        elif h_data[child_idx] < h_data[largest_node_idx]:\n",
    "            # do nothing, parent node is already larger\n",
    "            continue\n",
    "        else:\n",
    "            largest_node_idx = child_idx\n",
    "    if largest_node_idx != node_idx:\n",
    "        swap_element(h_data, node_idx, largest_node_idx)\n",
    "        heapify_maxheap(h_data, end_idx, largest_node_idx)"
   ]
  },
  {
   "cell_type": "code",
   "execution_count": 106,
   "metadata": {},
   "outputs": [],
   "source": [
    "def heap_sort_ascending(data):\n",
    "    ## use MaxHeap for ascending order sorting\n",
    "    # Build MaxHeap\n",
    "    len_data = len(data)\n",
    "    for node_idx in reversed(range(0, len_data)):\n",
    "        heapify_maxheap(data, len_data-1, node_idx)\n",
    "    \n",
    "    for node_idx in reversed(range(0, len_data)):\n",
    "        # swap the largest node (at index 0) to the end element\n",
    "        swap_element(data, 0, node_idx)\n",
    "        # remove the last (largest) element and re-heapify\n",
    "        heapify_maxheap(data, node_idx-1, 0)\n",
    "    "
   ]
  },
  {
   "cell_type": "code",
   "execution_count": 107,
   "metadata": {},
   "outputs": [
    {
     "name": "stdout",
     "output_type": "stream",
     "text": [
      "final data sorted: [3, 7, 8, 9, 11, 12, 14, 15, 22, 26]\n"
     ]
    }
   ],
   "source": [
    "test_data = [8, 12, 9, 7, 22, 3, 26, 14, 11, 15]\n",
    "heap_sort_ascending(test_data)\n",
    "print(\"final data sorted:\", test_data)"
   ]
  },
  {
   "cell_type": "code",
   "execution_count": 103,
   "metadata": {},
   "outputs": [],
   "source": [
    "def heapify_minheap(h_data, end_idx, node_idx):\n",
    "    # for minheap, node should be smaller of either left or right children\n",
    "    left_child_idx = 2*node_idx + 1\n",
    "    right_child_idx = 2*node_idx + 2\n",
    "    min_node_ix = node_idx\n",
    "    \n",
    "    for child_idx in [left_child_idx, right_child_idx]:\n",
    "        if child_idx > end_idx:\n",
    "            continue\n",
    "        elif h_data[child_idx] > h_data[min_node_ix]:\n",
    "            continue\n",
    "        else:\n",
    "            min_node_ix = child_idx\n",
    "    \n",
    "    if node_idx != min_node_ix:\n",
    "        swap_element(h_data, node_idx, min_node_ix)\n",
    "        heapify_minheap(h_data, end_idx, min_node_ix)\n"
   ]
  },
  {
   "cell_type": "code",
   "execution_count": 108,
   "metadata": {},
   "outputs": [],
   "source": [
    "def heap_sort_descending(data):\n",
    "    # build MinHeap to sort descendingly\n",
    "    len_data = len(data)\n",
    "    \n",
    "    for node_idx in reversed(range(0, len_data)):\n",
    "        heapify_minheap(data, len_data - 1, node_idx)\n",
    "    \n",
    "    for node_idx in reversed(range(0, len_data)):\n",
    "        swap_element(data, 0, node_idx)\n",
    "        heapify_minheap(data, node_idx-1, 0)"
   ]
  },
  {
   "cell_type": "code",
   "execution_count": 109,
   "metadata": {},
   "outputs": [
    {
     "name": "stdout",
     "output_type": "stream",
     "text": [
      "final data sorted: [26, 22, 15, 14, 12, 11, 9, 8, 7, 3]\n"
     ]
    }
   ],
   "source": [
    "test_data = [8, 12, 9, 7, 22, 3, 26, 14, 11, 15]\n",
    "heap_sort_descending(test_data)\n",
    "print(\"final data sorted:\", test_data)"
   ]
  },
  {
   "cell_type": "code",
   "execution_count": 69,
   "metadata": {},
   "outputs": [],
   "source": []
  },
  {
   "cell_type": "code",
   "execution_count": 70,
   "metadata": {},
   "outputs": [],
   "source": []
  },
  {
   "cell_type": "code",
   "execution_count": null,
   "metadata": {},
   "outputs": [],
   "source": []
  },
  {
   "cell_type": "code",
   "execution_count": null,
   "metadata": {},
   "outputs": [],
   "source": []
  },
  {
   "cell_type": "code",
   "execution_count": 85,
   "metadata": {},
   "outputs": [],
   "source": []
  },
  {
   "cell_type": "code",
   "execution_count": null,
   "metadata": {},
   "outputs": [],
   "source": []
  },
  {
   "cell_type": "code",
   "execution_count": null,
   "metadata": {},
   "outputs": [],
   "source": []
  },
  {
   "cell_type": "code",
   "execution_count": null,
   "metadata": {},
   "outputs": [],
   "source": []
  }
 ],
 "metadata": {
  "hide_input": false,
  "kernelspec": {
   "display_name": "Python 3",
   "language": "python",
   "name": "python3"
  },
  "language_info": {
   "codemirror_mode": {
    "name": "ipython",
    "version": 3
   },
   "file_extension": ".py",
   "mimetype": "text/x-python",
   "name": "python",
   "nbconvert_exporter": "python",
   "pygments_lexer": "ipython3",
   "version": "3.7.3"
  },
  "toc": {
   "base_numbering": 1,
   "nav_menu": {},
   "number_sections": true,
   "sideBar": true,
   "skip_h1_title": false,
   "title_cell": "Table of Contents",
   "title_sidebar": "Contents",
   "toc_cell": false,
   "toc_position": {},
   "toc_section_display": true,
   "toc_window_display": false
  },
  "varInspector": {
   "cols": {
    "lenName": 16,
    "lenType": 16,
    "lenVar": 40
   },
   "kernels_config": {
    "python": {
     "delete_cmd_postfix": "",
     "delete_cmd_prefix": "del ",
     "library": "var_list.py",
     "varRefreshCmd": "print(var_dic_list())"
    },
    "r": {
     "delete_cmd_postfix": ") ",
     "delete_cmd_prefix": "rm(",
     "library": "var_list.r",
     "varRefreshCmd": "cat(var_dic_list()) "
    }
   },
   "types_to_exclude": [
    "module",
    "function",
    "builtin_function_or_method",
    "instance",
    "_Feature"
   ],
   "window_display": false
  }
 },
 "nbformat": 4,
 "nbformat_minor": 2
}
