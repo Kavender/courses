{
 "cells": [
  {
   "cell_type": "code",
   "execution_count": 3,
   "metadata": {
    "ExecuteTime": {
     "end_time": "2020-05-03T18:43:13.992569Z",
     "start_time": "2020-05-03T18:43:13.989478Z"
    }
   },
   "outputs": [],
   "source": [
    "from random import randint\n",
    "from timeit import repeat"
   ]
  },
  {
   "cell_type": "markdown",
   "metadata": {},
   "source": [
    "O(n log2n) is the best possible worst-case runtime that can be achieved by a sorting algorithm.\n",
    "\n",
    "Resource: https://realpython.com/sorting-algorithms-python/, \n",
    "\n",
    "https://stackabuse.com/big-o-notation-and-algorithm-analysis-with-python-examples/"
   ]
  },
  {
   "cell_type": "code",
   "execution_count": 20,
   "metadata": {
    "ExecuteTime": {
     "end_time": "2020-05-03T18:48:06.124705Z",
     "start_time": "2020-05-03T18:48:06.120498Z"
    }
   },
   "outputs": [],
   "source": [
    "def run_sorting_algorithm(algorithm, array):\n",
    "    # Set up the context and prepare the call to the specified\n",
    "    # algorithm using the supplied array. Only import the\n",
    "    # algorithm function if it's not the built-in `sorted()`.\n",
    "    setup_code = f\"from __main__ import {algorithm}\" \\\n",
    "        if algorithm != \"sorted\" else \"\"\n",
    "\n",
    "    stmt = f\"{algorithm}({array})\"\n",
    "\n",
    "    # Execute the code ten different times and return the time\n",
    "    # in seconds that each execution took\n",
    "    times = repeat(setup=setup_code, stmt=stmt, repeat=3, number=10)\n",
    "\n",
    "    # Finally, display the name of the algorithm and the\n",
    "    # minimum time it took to run\n",
    "    print(f\"Algorithm: {algorithm}. Minimum execution time: {min(times)}\")"
   ]
  },
  {
   "cell_type": "code",
   "execution_count": 5,
   "metadata": {
    "ExecuteTime": {
     "end_time": "2020-05-03T18:44:07.865735Z",
     "start_time": "2020-05-03T18:44:07.845491Z"
    }
   },
   "outputs": [],
   "source": [
    "ARRAY_LENGTH = 10000\n",
    "array = [randint(0, 1000) for i in range(ARRAY_LENGTH)]"
   ]
  },
  {
   "cell_type": "code",
   "execution_count": 40,
   "metadata": {
    "ExecuteTime": {
     "end_time": "2020-05-03T21:12:42.292991Z",
     "start_time": "2020-05-03T21:12:42.182608Z"
    }
   },
   "outputs": [
    {
     "name": "stdout",
     "output_type": "stream",
     "text": [
      "sorted numbers: [137, 217, 327, 381, 570, 642, 690, 704, 855, 866]\n",
      "sorted numbers tuple: [137, 217, 327, 381, 570, 642, 690, 704, 855, 866]\n",
      "sorted numbers_set: [137, 217, 327, 381, 570, 642, 690, 704, 855, 866]\n",
      "setup code: \n",
      "Algorithm: sorted. Minimum execution time: 0.021266875322908163\n"
     ]
    }
   ],
   "source": [
    "numbers = array[0:10]\n",
    "numbers_tuple = tuple(array[0:10])\n",
    "numbers_set = set(array[0:10])\n",
    "print(\"sorted numbers:\", sorted(numbers))\n",
    "print(\"sorted numbers tuple:\", sorted(numbers_tuple))\n",
    "print(\"sorted numbers_set:\", sorted(numbers_set))\n",
    "\n",
    "run_sorting_algorithm(\"sorted\", array)"
   ]
  },
  {
   "cell_type": "markdown",
   "metadata": {},
   "source": [
    "list has a built-in .sort() func, which works similar as sorted() but don't apply to tuple, set, string and don't return any value."
   ]
  },
  {
   "cell_type": "code",
   "execution_count": 42,
   "metadata": {
    "ExecuteTime": {
     "end_time": "2020-05-03T21:25:33.480936Z",
     "start_time": "2020-05-03T21:25:33.468502Z"
    }
   },
   "outputs": [
    {
     "name": "stdout",
     "output_type": "stream",
     "text": [
      "before sorting applied: [704, 866, 217, 327, 137, 690, 855, 642, 570, 381]\n",
      "values already sorted: [137, 217, 327, 381, 570, 642, 690, 704, 855, 866]  & nothing being returned: None\n"
     ]
    }
   ],
   "source": [
    "try:\n",
    "    print(\"string doesn't support .sort()\", 'abcdhgf'.sort())\n",
    "except:\n",
    "    pass\n",
    "values_to_sort = array[0:10]\n",
    "print(\"before sorting applied:\", values_to_sort)\n",
    "sorted_value = values_to_sort.sort()\n",
    "print(\"values already sorted in place:\", values_to_sort, \" & nothing being returned:\", sorted_value)"
   ]
  },
  {
   "cell_type": "code",
   "execution_count": 44,
   "metadata": {
    "ExecuteTime": {
     "end_time": "2020-05-03T21:29:39.615196Z",
     "start_time": "2020-05-03T21:29:39.611101Z"
    }
   },
   "outputs": [
    {
     "name": "stdout",
     "output_type": "stream",
     "text": [
      "with key trick for mixed type [1, '2', '3', '4']\n"
     ]
    }
   ],
   "source": [
    "mixed_numbers = [1, \"2\", \"3\", \"4\"]\n",
    "try:\n",
    "    print(\"sorted mixed number type:\", sorted(mixed_numbers))\n",
    "except:\n",
    "    print(\"with key trick for mixed type\", sorted(mixed_numbers, key=int))"
   ]
  },
  {
   "cell_type": "markdown",
   "metadata": {},
   "source": [
    "#### Bubble Sort\n",
    "Sort the array in ascending order, each step “bubbles” the largest element to the end of the array, which leads to each iteration takes fewer steps than the previous iteration. With average- and worst-case complexity of O(n2), and best case to be O(n) if already sorted."
   ]
  },
  {
   "cell_type": "code",
   "execution_count": 9,
   "metadata": {
    "ExecuteTime": {
     "end_time": "2020-05-03T18:44:58.294042Z",
     "start_time": "2020-05-03T18:44:58.288648Z"
    }
   },
   "outputs": [],
   "source": [
    "def bubble_sort(array):\n",
    "    n = len(array)\n",
    "\n",
    "    for i in range(n):\n",
    "        # Create a flag that will allow the function to\n",
    "        # terminate early if there's nothing left to sort\n",
    "        already_sorted = True\n",
    "\n",
    "        # Start looking at each item of the list one by one,\n",
    "        # comparing it with its adjacent value. With each\n",
    "        # iteration, the portion of the array that you look at\n",
    "        # shrinks because the remaining items have already been\n",
    "        # sorted.\n",
    "        for j in range(n - i - 1):\n",
    "            if array[j] > array[j + 1]:\n",
    "                # If the item you're looking at is greater than its\n",
    "                # adjacent value, then swap them\n",
    "                array[j], array[j + 1] = array[j + 1], array[j]\n",
    "\n",
    "                # Since you had to swap two elements,\n",
    "                # set the `already_sorted` flag to `False` so the\n",
    "                # algorithm doesn't finish prematurely\n",
    "                already_sorted = False\n",
    "\n",
    "        # If there were no swaps during the last iteration,\n",
    "        # the array is already sorted, and you can terminate\n",
    "        if already_sorted:\n",
    "            break\n",
    "\n",
    "    return array"
   ]
  },
  {
   "cell_type": "code",
   "execution_count": 21,
   "metadata": {
    "ExecuteTime": {
     "end_time": "2020-05-03T18:52:37.524245Z",
     "start_time": "2020-05-03T18:48:08.407486Z"
    }
   },
   "outputs": [
    {
     "name": "stdout",
     "output_type": "stream",
     "text": [
      "setup code: from __main__ import bubble_sort\n",
      "Algorithm: bubble_sort. Minimum execution time: 88.46810892596841\n"
     ]
    }
   ],
   "source": [
    "# Call the function using the name of the sorting algorithm\n",
    "# and the array you just created\n",
    "run_sorting_algorithm(algorithm=\"bubble_sort\", array=array)"
   ]
  },
  {
   "cell_type": "markdown",
   "metadata": {
    "ExecuteTime": {
     "end_time": "2020-05-03T18:46:50.402363Z",
     "start_time": "2020-05-03T18:46:50.399727Z"
    }
   },
   "source": [
    "#### Insertion Sort\n",
    "Build the sorted list one element at a time by comparing each item with the rest of the list and inserting it into its correct position, With an O(n2) runtime complexity on the average case. Especially, on small data, insertion sort is a faster implementation than even more complex sorting algo."
   ]
  },
  {
   "cell_type": "code",
   "execution_count": 22,
   "metadata": {
    "ExecuteTime": {
     "end_time": "2020-05-03T19:03:09.148304Z",
     "start_time": "2020-05-03T19:03:09.143281Z"
    }
   },
   "outputs": [],
   "source": [
    "def insertion_sort(array):\n",
    "    # Loop from the second element of the array until\n",
    "    # the last element\n",
    "    for i in range(1, len(array)):\n",
    "        # This is the element we want to position in its\n",
    "        # correct place\n",
    "        key_item = array[i]\n",
    "\n",
    "        # Initialize the variable that will be used to\n",
    "        # find the correct position of the element referenced\n",
    "        # by `key_item`\n",
    "        j = i - 1\n",
    "\n",
    "        # Run through the list of items (the left\n",
    "        # portion of the array) and find the correct position\n",
    "        # of the element referenced by `key_item`. Do this only\n",
    "        # if `key_item` is smaller than its adjacent values.\n",
    "        while j >= 0 and array[j] > key_item:\n",
    "            # Shift the value one position to the left\n",
    "            # and reposition j to point to the next element\n",
    "            # (from right to left)\n",
    "            array[j + 1] = array[j]\n",
    "            j -= 1\n",
    "\n",
    "        # When you finish shifting the elements, you can position\n",
    "        # `key_item` in its correct location\n",
    "        array[j + 1] = key_item\n",
    "\n",
    "    return array"
   ]
  },
  {
   "cell_type": "code",
   "execution_count": 23,
   "metadata": {
    "ExecuteTime": {
     "end_time": "2020-05-03T19:07:12.319942Z",
     "start_time": "2020-05-03T19:05:15.155001Z"
    }
   },
   "outputs": [
    {
     "name": "stdout",
     "output_type": "stream",
     "text": [
      "setup code: from __main__ import insertion_sort\n",
      "Algorithm: insertion_sort. Minimum execution time: 38.96390027180314\n"
     ]
    }
   ],
   "source": [
    "run_sorting_algorithm(algorithm=\"insertion_sort\", array=array)"
   ]
  },
  {
   "cell_type": "markdown",
   "metadata": {
    "ExecuteTime": {
     "end_time": "2020-05-03T19:08:10.130489Z",
     "start_time": "2020-05-03T19:08:10.126361Z"
    }
   },
   "source": [
    "#### Merge Sort\n",
    "The implementation of the merge sort algorithm needs two different pieces:\n",
    "\n",
    "1. A function that recursively splits the input in half. Since the array is halved until a single element remains, the total number of halving operations performed by this function is log2n. Since merge() is called for each half, we get a total runtime of O(n log2n).\n",
    "2. A function that merges both halves, producing a sorted array, with linear runtime, O(n).\n",
    "3. Since merge sort creates copies of the array when calling itself recursively, which makes merge sort use much more memory than bubble sort and insertion sort, which are both able to sort the list in place."
   ]
  },
  {
   "cell_type": "code",
   "execution_count": 25,
   "metadata": {
    "ExecuteTime": {
     "end_time": "2020-05-03T19:52:45.384629Z",
     "start_time": "2020-05-03T19:52:45.381052Z"
    }
   },
   "outputs": [],
   "source": [
    "def merge_sort(array):\n",
    "    # If the input array contains fewer than two elements,\n",
    "    # then return it as the result of the function\n",
    "    if len(array) < 2:\n",
    "        return array\n",
    "\n",
    "    midpoint = len(array) // 2\n",
    "\n",
    "    # Sort the array by recursively splitting the input\n",
    "    # into two equal halves, sorting each half and merging them\n",
    "    # together into the final result\n",
    "    return merge(\n",
    "        left=merge_sort(array[:midpoint]),\n",
    "        right=merge_sort(array[midpoint:]))"
   ]
  },
  {
   "cell_type": "code",
   "execution_count": 26,
   "metadata": {
    "ExecuteTime": {
     "end_time": "2020-05-03T19:58:29.573183Z",
     "start_time": "2020-05-03T19:58:29.567694Z"
    }
   },
   "outputs": [],
   "source": [
    "def merge(left, right):\n",
    "    if not left:\n",
    "        return right\n",
    "    if not right:\n",
    "        return left\n",
    "    result = []\n",
    "    idx_left, idx_right = 0, 0\n",
    "    while idx_left<= len(left) - 1 and idx_right <= len(right)-1:\n",
    "        if left[idx_left] <= right[idx_right]:\n",
    "            result.append(left[idx_left])\n",
    "            idx_left += 1\n",
    "        else:\n",
    "            result.append(right[idx_right])\n",
    "            idx_right += 1\n",
    "    result.extend(left[idx_left:])\n",
    "    result.extend(right[idx_right:])\n",
    "    return result"
   ]
  },
  {
   "cell_type": "code",
   "execution_count": 29,
   "metadata": {
    "ExecuteTime": {
     "end_time": "2020-05-03T20:02:29.966126Z",
     "start_time": "2020-05-03T20:02:28.365185Z"
    }
   },
   "outputs": [
    {
     "name": "stdout",
     "output_type": "stream",
     "text": [
      "setup code: from __main__ import merge_sort\n",
      "Algorithm: merge_sort. Minimum execution time: 0.5131068797782063\n"
     ]
    }
   ],
   "source": [
    "run_sorting_algorithm(algorithm=\"merge_sort\", array=array)"
   ]
  },
  {
   "cell_type": "markdown",
   "metadata": {},
   "source": [
    "#### Quick Sort\n",
    "Quicksort first selects a pivot element and partitions the list around the pivot, putting every smaller element into a `low` array and every larger element into a `high` array.\n",
    "\n",
    "Quicksort’s efficiency often depends on the pivot selection. In the best-case scenario, the algorithm consistently picks the median element as the pivot. That would make each generated subproblem exactly half the size of the previous problem, leading to at most log2n levels. In the worst scenario, the algorithm pick either the smallest or the largest number, the unequal partition would leads to n-1 recursive calls, and O(n2) runtime."
   ]
  },
  {
   "cell_type": "code",
   "execution_count": 32,
   "metadata": {
    "ExecuteTime": {
     "end_time": "2020-05-03T20:17:06.877975Z",
     "start_time": "2020-05-03T20:17:06.872145Z"
    }
   },
   "outputs": [],
   "source": [
    "def quicksort(array):\n",
    "    # If the input array contains fewer than two elements,\n",
    "    # then return it as the result of the function\n",
    "    if len(array) < 2:\n",
    "        return array\n",
    "\n",
    "    low, high = [], []\n",
    "    # Select your `pivot` element randomly\n",
    "    pivot = array[randint(0, len(array)-1)]\n",
    "    \n",
    "    # Elements that are smaller than the `pivot` go to\n",
    "    # the `low` list. Elements that are larger than\n",
    "    # `pivot` go to the `high` list. Elements that are\n",
    "    # equal to `pivot` go to the `same` list.\n",
    "    for item in array:\n",
    "        if item < pivot:\n",
    "            low.append(item)\n",
    "        elif item > pivot:\n",
    "            high.append(item)\n",
    "    return quicksort(low) + [pivot] + quicksort(high)"
   ]
  },
  {
   "cell_type": "code",
   "execution_count": 34,
   "metadata": {
    "ExecuteTime": {
     "end_time": "2020-05-03T20:30:29.222813Z",
     "start_time": "2020-05-03T20:30:28.783528Z"
    }
   },
   "outputs": [
    {
     "name": "stdout",
     "output_type": "stream",
     "text": [
      "setup code: from __main__ import quicksort\n",
      "Algorithm: quicksort. Minimum execution time: 0.13136613368988037\n"
     ]
    }
   ],
   "source": [
    "run_sorting_algorithm(algorithm=\"quicksort\", array=array)"
   ]
  },
  {
   "cell_type": "markdown",
   "metadata": {},
   "source": [
    "#### Timsort\n",
    "Timsort algorithm is considered a hybrid sorting algorithm as a combination of insertion sort and merge sort."
   ]
  },
  {
   "cell_type": "code",
   "execution_count": 36,
   "metadata": {
    "ExecuteTime": {
     "end_time": "2020-05-03T20:43:10.972246Z",
     "start_time": "2020-05-03T20:43:10.966538Z"
    }
   },
   "outputs": [],
   "source": [
    "def insertion_sort(array, left=0, right=None):\n",
    "    if right is None:\n",
    "        right = len(array) - 1\n",
    "    \n",
    "    # Loop from the element indicated by `left` until the element indicated by `right`\n",
    "    for i in range(left + 1, right + 1):\n",
    "        # This is the element we want to position in its correct place\n",
    "        key_item = array[i]\n",
    "\n",
    "        # Initialize the variable that will be used to\n",
    "        # find the correct position of the element referenced\n",
    "        # by `key_item`\n",
    "        j = i - 1\n",
    "\n",
    "        # Run through the list of items (the left\n",
    "        # portion of the array) and find the correct position\n",
    "        # of the element referenced by `key_item`. Do this only\n",
    "        # if the `key_item` is smaller than its adjacent values.\n",
    "        while j >= left and array[j] > key_item:\n",
    "            # Shift the value one position to the left\n",
    "            # and reposition `j` to point to the next element\n",
    "            # (from right to left)\n",
    "            array[j + 1] = array[j]\n",
    "            j -= 1\n",
    "\n",
    "        # When you finish shifting the elements, position the `key_item` in its correct location\n",
    "        array[j + 1] = key_item\n",
    "\n",
    "    return array"
   ]
  },
  {
   "cell_type": "code",
   "execution_count": 37,
   "metadata": {
    "ExecuteTime": {
     "end_time": "2020-05-03T20:49:58.492277Z",
     "start_time": "2020-05-03T20:49:58.485719Z"
    }
   },
   "outputs": [],
   "source": [
    "def timsort(array):\n",
    "    # Picking a min_run value that’s a power of two ensures better performance when merging all the different runs that the algorithm creates.\n",
    "    min_run = 32\n",
    "    \n",
    "    # Start by slicing and sorting small portions of the input array. The size of these slices is defined by\n",
    "    # your `min_run` size. Timsort takes advantage of sorting small array.\n",
    "    n = len(array)\n",
    "    for i in range(0, n, min_run):\n",
    "        insertion_sort(array, i, min((i + min_run - 1), n - 1))\n",
    "    \n",
    "    # Now you can start merging the sorted slices.\n",
    "    # Start from `min_run`, doubling the size on each iteration until you surpass the length of the array.\n",
    "    size = min_run\n",
    "    while size < n:\n",
    "        # Determine the arrays that will be merged together\n",
    "        for start in range(0, n, size * 2):\n",
    "            # Compute the `midpoint` (where the first array ends and the second starts) and the `endpoint` (where the second array ends)\n",
    "            midpoint = start + size - 1\n",
    "            end = min((start + size * 2 - 1), (n-1))\n",
    "\n",
    "            # Merge the two subarrays.\n",
    "            # The `left` array should go from `start` to `midpoint + 1`, while the `right` array should go from `midpoint + 1` to `end + 1`.\n",
    "            merged_array = merge(\n",
    "                left=array[start:midpoint + 1],\n",
    "                right=array[midpoint + 1:end + 1])\n",
    "\n",
    "            # Finally, put the merged array back into your array\n",
    "            array[start:start + len(merged_array)] = merged_array\n",
    "\n",
    "        # Each iteration should double the size of your arrays\n",
    "        size *= 2\n",
    "\n",
    "    return array"
   ]
  },
  {
   "cell_type": "code",
   "execution_count": 38,
   "metadata": {
    "ExecuteTime": {
     "end_time": "2020-05-03T20:50:01.692611Z",
     "start_time": "2020-05-03T20:50:00.249347Z"
    }
   },
   "outputs": [
    {
     "name": "stdout",
     "output_type": "stream",
     "text": [
      "setup code: from __main__ import timsort\n",
      "Algorithm: timsort. Minimum execution time: 0.46197556192055345\n"
     ]
    }
   ],
   "source": [
    "run_sorting_algorithm(algorithm=\"timsort\", array=array)"
   ]
  },
  {
   "cell_type": "code",
   "execution_count": null,
   "metadata": {},
   "outputs": [],
   "source": []
  },
  {
   "cell_type": "code",
   "execution_count": null,
   "metadata": {},
   "outputs": [],
   "source": []
  }
 ],
 "metadata": {
  "kernelspec": {
   "display_name": "Python 3",
   "language": "python",
   "name": "python3"
  },
  "language_info": {
   "codemirror_mode": {
    "name": "ipython",
    "version": 3
   },
   "file_extension": ".py",
   "mimetype": "text/x-python",
   "name": "python",
   "nbconvert_exporter": "python",
   "pygments_lexer": "ipython3",
   "version": "3.6.10"
  },
  "toc": {
   "base_numbering": 1,
   "nav_menu": {},
   "number_sections": true,
   "sideBar": true,
   "skip_h1_title": false,
   "title_cell": "Table of Contents",
   "title_sidebar": "Contents",
   "toc_cell": false,
   "toc_position": {},
   "toc_section_display": true,
   "toc_window_display": false
  }
 },
 "nbformat": 4,
 "nbformat_minor": 4
}
