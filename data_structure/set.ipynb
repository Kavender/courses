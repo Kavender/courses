{
 "cells": [
  {
   "cell_type": "raw",
   "metadata": {},
   "source": [
    "1. Sets are unordered. The orginal order is not preserved. \n",
    "2. Set elements are unique. Duplicate elements are not allowed.\n",
    "3. A set itself may be modified, but the elements contained in the set must be of an immutable type.\n",
    "   The elements in a set can be objects of different types: `{42, 'foo', 3.14159, None}`\n",
    "4. Sets store elements in a manner that allows near-constant-time checks whether a value is in the set or not, unlike lists, which require linear-time lookups."
   ]
  },
  {
   "cell_type": "markdown",
   "metadata": {},
   "source": [
    "#### Method vs Opeartor on Set"
   ]
  },
  {
   "cell_type": "markdown",
   "metadata": {},
   "source": [
    "##### union of two set can be done with operation `|`"
   ]
  },
  {
   "cell_type": "code",
   "execution_count": 1,
   "metadata": {
    "ExecuteTime": {
     "end_time": "2020-02-25T03:44:58.575316Z",
     "start_time": "2020-02-25T03:44:58.570800Z"
    }
   },
   "outputs": [
    {
     "name": "stdout",
     "output_type": "stream",
     "text": [
      "with union method: {'baz', 'qux', 'foo', 'quux', 'bar'}\n",
      "with | opearation: {'baz', 'qux', 'foo', 'quux', 'bar'}\n"
     ]
    }
   ],
   "source": [
    "x1 = {'foo', 'bar', 'baz'}\n",
    "x2 = {'baz', 'qux', 'quux'}\n",
    "\n",
    "print(\"with union method:\", x1.union(x2))\n",
    "print(\"with | opearation:\", x1 | x2)"
   ]
  },
  {
   "cell_type": "code",
   "execution_count": 2,
   "metadata": {
    "ExecuteTime": {
     "end_time": "2020-02-25T03:47:18.454085Z",
     "start_time": "2020-02-25T03:47:18.450100Z"
    }
   },
   "outputs": [
    {
     "name": "stdout",
     "output_type": "stream",
     "text": [
      "union method on multiple set: {1, 2, 3, 4, 5, 6}\n",
      "| opearation on multiple set {1, 2, 3, 4, 5, 6}\n"
     ]
    }
   ],
   "source": [
    "# More than two sets may be specified with either the operator or the method:\n",
    "a = {1, 2, 3, 4}\n",
    "b = {2, 3, 4, 5}\n",
    "c = {3, 4, 5, 6}\n",
    "\n",
    "print(\"union method on multiple set:\", a.union(b, c))\n",
    "print(\"| opearation on multiple set\", a|b|c)"
   ]
  },
  {
   "cell_type": "markdown",
   "metadata": {},
   "source": [
    "##### x1.intersection(x2) and x1 & x2 return the set of elements common to both x1 and x2"
   ]
  },
  {
   "cell_type": "code",
   "execution_count": 4,
   "metadata": {
    "ExecuteTime": {
     "end_time": "2020-02-25T03:49:32.226561Z",
     "start_time": "2020-02-25T03:49:32.223005Z"
    }
   },
   "outputs": [
    {
     "name": "stdout",
     "output_type": "stream",
     "text": [
      "insersection method with two set {'baz'}\n",
      "& opeartion on two set: {'baz'}\n",
      "insersection on multiple sets: {3, 4}\n",
      "& opearation on multiple sets: {3, 4}\n"
     ]
    }
   ],
   "source": [
    "print(\"insersection method with two set\", x1.intersection(x2))\n",
    "print(\"& opeartion on two set:\", x1 & x2)\n",
    "\n",
    "print(\"insersection on multiple sets:\", a.intersection(b, c))\n",
    "print(\"& opearation on multiple sets:\", a & b & c)"
   ]
  },
  {
   "cell_type": "markdown",
   "metadata": {},
   "source": [
    "##### x1.difference(x2) and x1 - x2 return the set of all elements that are in x1 but not in x2"
   ]
  },
  {
   "cell_type": "code",
   "execution_count": 6,
   "metadata": {
    "ExecuteTime": {
     "end_time": "2020-02-25T03:52:09.571250Z",
     "start_time": "2020-02-25T03:52:09.567065Z"
    }
   },
   "outputs": [
    {
     "name": "stdout",
     "output_type": "stream",
     "text": [
      "difference method with two set: {'bar', 'foo'}\n",
      "- opearation with two set:  {'bar', 'foo'}\n",
      "difference on multiple sets: {1}\n",
      "- opearation on multiple sets: {1}\n"
     ]
    }
   ],
   "source": [
    "print(\"difference method with two set:\", x1.difference(x2))\n",
    "print(\"- opearation with two set: \", x1 - x2)\n",
    "\n",
    "\n",
    "print(\"difference on multiple sets:\", a.difference(b, c))\n",
    "print(\"- opearation on multiple sets:\", a - b - c)"
   ]
  },
  {
   "cell_type": "markdown",
   "metadata": {},
   "source": [
    "##### x1.symmetric_difference(x2) and x1 ^ x2 return the set of all elements in either x1 or x2, but not both"
   ]
  },
  {
   "cell_type": "code",
   "execution_count": 8,
   "metadata": {
    "ExecuteTime": {
     "end_time": "2020-02-25T03:54:08.689608Z",
     "start_time": "2020-02-25T03:54:08.686211Z"
    }
   },
   "outputs": [
    {
     "name": "stdout",
     "output_type": "stream",
     "text": [
      "symmetric difference on two sets: {'qux', 'foo', 'bar', 'quux'}\n",
      "^ opearation on multiple sets: {1, 3, 4, 6}\n"
     ]
    }
   ],
   "source": [
    "print(\"symmetric difference on two sets:\", x1.symmetric_difference(x2))\n",
    "\n",
    "print(\"^ opearation on multiple sets:\", a ^ b ^ c)\n"
   ]
  },
  {
   "cell_type": "markdown",
   "metadata": {},
   "source": [
    "##### x1.isdisjoint(x2) Determines whether or not two sets have any elements in common"
   ]
  },
  {
   "cell_type": "code",
   "execution_count": 11,
   "metadata": {
    "ExecuteTime": {
     "end_time": "2020-02-25T12:51:14.882191Z",
     "start_time": "2020-02-25T12:51:14.877944Z"
    }
   },
   "outputs": [
    {
     "name": "stdout",
     "output_type": "stream",
     "text": [
      "isdisjoint False  bc of the common of  {'baz'}\n",
      "after removing the common item from x2:  True\n"
     ]
    }
   ],
   "source": [
    "print(\"isdisjoint\", x1.isdisjoint(x2), \" bc of the common of \", x1 & x2)\n",
    "\n",
    "print(\"after removing the common item from x2: \", x1.isdisjoint(x2 - {'baz'}))"
   ]
  },
  {
   "cell_type": "markdown",
   "metadata": {},
   "source": [
    "##### x1.issubset(x2) Determine whether one set is a subset of the other. \n",
    "A superset is the reverse of a subset. A set x1 is considered a superset of another set x2 if x1 contains every element of x2."
   ]
  },
  {
   "cell_type": "code",
   "execution_count": 15,
   "metadata": {
    "ExecuteTime": {
     "end_time": "2020-02-25T12:59:30.683954Z",
     "start_time": "2020-02-25T12:59:30.680027Z"
    }
   },
   "outputs": [
    {
     "name": "stdout",
     "output_type": "stream",
     "text": [
      "x1 is subset of bigger set? True\n",
      "<= opearation, is x1 a subset of x2?  False\n",
      "x1 is a supper set of a smaller set? True\n",
      "=> opearation, is x1 a superset of x2 instead? False\n"
     ]
    }
   ],
   "source": [
    "print(\"x1 is subset of bigger set?\", x1.issubset({'foo', 'bar', 'baz', 'qux', 'quux'}))\n",
    "      \n",
    "print(\"<= opearation, is x1 a subset of x2? \", x1 <= x2)\n",
    "\n",
    "print(\"x1 is a supper set of a smaller set?\", x1.issuperset({'foo', 'bar'}))\n",
    "print(\"=> opearation, is x1 a superset of x2 instead?\", x1 >= x2)"
   ]
  },
  {
   "cell_type": "markdown",
   "metadata": {},
   "source": [
    "#### Modifying a Set"
   ]
  },
  {
   "cell_type": "markdown",
   "metadata": {},
   "source": [
    "##### Modify a set by union\n",
    "x1.update(x2) and x1 |= x2 add to x1 any elements in x2 that x1 does not already have。"
   ]
  },
  {
   "cell_type": "code",
   "execution_count": 19,
   "metadata": {
    "ExecuteTime": {
     "end_time": "2020-02-25T13:03:19.755674Z",
     "start_time": "2020-02-25T13:03:19.752054Z"
    }
   },
   "outputs": [
    {
     "name": "stdout",
     "output_type": "stream",
     "text": [
      "add x2 to x1: {'baz', 'qux', 'foo', 'quux', 'bar'}\n",
      "add new set to x1 {'baz', 'qux', 'foo', 'corge', 'quux', 'bar', 'garply'}\n"
     ]
    }
   ],
   "source": [
    "x1 = {'foo', 'bar', 'baz'}\n",
    "x2 = {'baz', 'qux', 'quux'}\n",
    "\n",
    "x1 |= x2\n",
    "print(\"add x2 to x1:\", x1)\n",
    "x1.update({'corge', 'garply'})\n",
    "print(\"add new set to x1\", x1)"
   ]
  },
  {
   "cell_type": "markdown",
   "metadata": {},
   "source": [
    "##### Modify a set by intersection.\n",
    "x1.intersection_update(x2) and x1 &= x2 update x1, retaining only elements found in both x1 and x2"
   ]
  },
  {
   "cell_type": "code",
   "execution_count": 20,
   "metadata": {
    "ExecuteTime": {
     "end_time": "2020-02-25T13:06:22.740185Z",
     "start_time": "2020-02-25T13:06:22.736504Z"
    }
   },
   "outputs": [
    {
     "name": "stdout",
     "output_type": "stream",
     "text": [
      "update x1 to retain only common in x2: {'baz', 'quux', 'qux'}\n",
      "additional intersaction: {'baz', 'qux'}\n"
     ]
    }
   ],
   "source": [
    "x1 &= x2\n",
    "print(\"update x1 to retain only common in x2:\", x1)\n",
    "\n",
    "x1.intersection_update(['baz', 'qux'])\n",
    "print(\"additional intersaction:\", x1)\n"
   ]
  },
  {
   "cell_type": "markdown",
   "metadata": {},
   "source": [
    "##### Modify a set by difference\n",
    "x1.difference_update(x2) and x1 -= x2 update x1, removing elements found in x2"
   ]
  },
  {
   "cell_type": "code",
   "execution_count": 21,
   "metadata": {
    "ExecuteTime": {
     "end_time": "2020-02-25T13:08:45.351608Z",
     "start_time": "2020-02-25T13:08:45.347004Z"
    }
   },
   "outputs": [
    {
     "name": "stdout",
     "output_type": "stream",
     "text": [
      "update x1 with distinct element left: {'bar', 'foo'}\n",
      "may end up removing all existing element: set()\n"
     ]
    }
   ],
   "source": [
    "x1 = {'foo', 'bar', 'baz'}\n",
    "x2 = {'baz', 'qux', 'quux'}\n",
    " \n",
    "x1 -= x2\n",
    "print(\"update x1 with distinct element left:\", x1)\n",
    "\n",
    "x1.difference_update(['foo', 'bar', 'qux'])\n",
    "print(\"may end up removing all existing element:\", x1)"
   ]
  },
  {
   "cell_type": "markdown",
   "metadata": {},
   "source": [
    "##### Modify a set by symmetric difference\n",
    "x1.symmetric_difference_update(x2) and x1 ^= x2 update x1, retaining elements found in either x1 or x2, but not both"
   ]
  },
  {
   "cell_type": "code",
   "execution_count": 22,
   "metadata": {
    "ExecuteTime": {
     "end_time": "2020-02-25T13:10:35.183993Z",
     "start_time": "2020-02-25T13:10:35.180116Z"
    }
   },
   "outputs": [
    {
     "name": "stdout",
     "output_type": "stream",
     "text": [
      "update x1 with unique element in both set: {'qux', 'quux', 'bar', 'foo'}\n",
      "what are the uncommon elements: {'foo', 'corge', 'bar', 'quux'}\n"
     ]
    }
   ],
   "source": [
    "x1 = {'foo', 'bar', 'baz'}\n",
    "x2 = {'baz', 'qux', 'quux'}\n",
    "\n",
    "x1 ^= x2\n",
    "print(\"update x1 with unique element in both set:\", x1)\n",
    "\n",
    "x1.symmetric_difference_update(['qux', 'corge'])\n",
    "print(\"what are the uncommon elements:\", x1)"
   ]
  },
  {
   "cell_type": "code",
   "execution_count": 27,
   "metadata": {
    "ExecuteTime": {
     "end_time": "2020-02-25T13:15:29.936034Z",
     "start_time": "2020-02-25T13:15:29.931497Z"
    }
   },
   "outputs": [
    {
     "data": {
      "text/plain": [
       "{300, 400, 500, 'a', 'b', 'c'}"
      ]
     },
     "execution_count": 27,
     "metadata": {},
     "output_type": "execute_result"
    }
   ],
   "source": []
  },
  {
   "cell_type": "code",
   "execution_count": null,
   "metadata": {},
   "outputs": [],
   "source": []
  }
 ],
 "metadata": {
  "kernelspec": {
   "display_name": "Python 3",
   "language": "python",
   "name": "python3"
  },
  "language_info": {
   "codemirror_mode": {
    "name": "ipython",
    "version": 3
   },
   "file_extension": ".py",
   "mimetype": "text/x-python",
   "name": "python",
   "nbconvert_exporter": "python",
   "pygments_lexer": "ipython3",
   "version": "3.6.7"
  },
  "toc": {
   "base_numbering": 1,
   "nav_menu": {},
   "number_sections": true,
   "sideBar": true,
   "skip_h1_title": false,
   "title_cell": "Table of Contents",
   "title_sidebar": "Contents",
   "toc_cell": false,
   "toc_position": {},
   "toc_section_display": true,
   "toc_window_display": true
  }
 },
 "nbformat": 4,
 "nbformat_minor": 2
}
