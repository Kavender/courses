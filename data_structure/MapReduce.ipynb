{
 "cells": [
  {
   "cell_type": "markdown",
   "metadata": {},
   "source": [
    "### Intro to MapReduce algorithm\n",
    "* Use a `mapper` function to turn each item into zero or more key-value pairs \n",
    "* Collect together all the pairs with identical keys\n",
    "* Use a `reducer` function on each collection of grouped values to produce output values for the correponding key"
   ]
  },
  {
   "cell_type": "code",
   "execution_count": null,
   "metadata": {},
   "outputs": [],
   "source": [
    "from nltk.tokenize import word_tokenize\n",
    "from collections import defaultdict\n",
    "from functools import partial\n",
    "from collections import Counter"
   ]
  },
  {
   "cell_type": "code",
   "execution_count": 2,
   "metadata": {
    "ExecuteTime": {
     "end_time": "2020-04-06T01:11:51.947496Z",
     "start_time": "2020-04-06T01:11:51.942820Z"
    }
   },
   "outputs": [],
   "source": [
    "# example: count words in document\n",
    "\n",
    "def wc_mapper(document):\n",
    "    for word in word_tokenize(document):\n",
    "        yield (word, 1)\n",
    "\n",
    "def wc_reducer(word, counts):\n",
    "    # sum up the count for one word\n",
    "    yiled (word, sum(counts))"
   ]
  },
  {
   "cell_type": "code",
   "execution_count": 4,
   "metadata": {
    "ExecuteTime": {
     "end_time": "2020-04-06T01:31:37.282332Z",
     "start_time": "2020-04-06T01:31:37.244428Z"
    }
   },
   "outputs": [],
   "source": [
    "# collect the result from wc_mapper and feed them to wc_reducer.\n",
    "\n",
    "def word_count(documents):\n",
    "    collector = defaultdict(list)\n",
    "    \n",
    "    for document in documents:\n",
    "        for word, count in wc_mapper(document):\n",
    "            collector[word].append(count)\n",
    "    \n",
    "    return [output for word, counts in collector.items()\n",
    "            for output in wc_reducer(word, counts)]"
   ]
  },
  {
   "cell_type": "markdown",
   "metadata": {
    "ExecuteTime": {
     "end_time": "2020-04-06T01:29:55.787445Z",
     "start_time": "2020-04-06T01:29:55.785264Z"
    }
   },
   "source": [
    "#### Generic reduce function"
   ]
  },
  {
   "cell_type": "code",
   "execution_count": 29,
   "metadata": {
    "ExecuteTime": {
     "end_time": "2020-04-07T01:29:41.429893Z",
     "start_time": "2020-04-07T01:29:41.425520Z"
    }
   },
   "outputs": [],
   "source": [
    "# def map_reduce(inputs, mapper, reducer):\n",
    "#     collector = defaultdict(list)\n",
    "    \n",
    "#     for input in inputs:\n",
    "#         for key, value in mapper(input):\n",
    "#             collector[key].append(value)\n",
    "    \n",
    "#     return [output for key, value in collector.items()\n",
    "#             for output in reducer(key, value)]\n",
    "\n",
    "def map_reduce(inputs, mapper, reducer):\n",
    "    \"\"\"runs MapReduce on the inputs using mapper and reducer\"\"\" \n",
    "    collector = defaultdict(list)\n",
    "    for input in inputs:\n",
    "        for key, value in mapper(input):\n",
    "            collector[key].append(value)\n",
    "    return [output for key, values in collector.items() \n",
    "            for output in reducer(key,values)]\n",
    "\n",
    "#word_counts = map_reduce(documents, wc_mapper, wc_reducer)"
   ]
  },
  {
   "cell_type": "code",
   "execution_count": 10,
   "metadata": {
    "ExecuteTime": {
     "end_time": "2020-04-06T02:25:50.840164Z",
     "start_time": "2020-04-06T02:25:50.830089Z"
    }
   },
   "outputs": [],
   "source": [
    "# generic reducer function\n",
    "def reduce_value_using(aggregation_fn, key, value):\n",
    "    # reduce a key-value pair by applying aggregation_fn to the value\n",
    "    yield (key, aggregation_fn(value))\n",
    "    \n",
    "def value_reducer(aggregation_fn):\n",
    "    \"\"\"turns a function (value -> output) into a reducer that maps (key, values) - > (key, output)\n",
    "    \"\"\"\n",
    "    return partial(reduce_value_using, aggregation_fn)"
   ]
  },
  {
   "cell_type": "code",
   "execution_count": 11,
   "metadata": {
    "ExecuteTime": {
     "end_time": "2020-04-06T02:26:34.985349Z",
     "start_time": "2020-04-06T02:26:34.968011Z"
    }
   },
   "outputs": [],
   "source": [
    "sum_reducer = value_reducer(sum)\n",
    "max_reducer = value_reducer(max)\n",
    "count_distinct_reducer = value_reducer(lambda values: len(set(values)))"
   ]
  },
  {
   "cell_type": "markdown",
   "metadata": {},
   "source": [
    "#### Find the most common words each user put in status update"
   ]
  },
  {
   "cell_type": "code",
   "execution_count": 13,
   "metadata": {
    "ExecuteTime": {
     "end_time": "2020-04-07T01:15:06.522324Z",
     "start_time": "2020-04-07T01:15:06.479034Z"
    }
   },
   "outputs": [],
   "source": [
    "def words_per_user_mapper(status_update):\n",
    "    user = status_update[\"username\"]\n",
    "    for word in word_tokenize(status_update[\"text\"]):\n",
    "        yield (user, (word, 1))\n",
    "\n",
    "def most_popular_word_reducer(user, words_and_counts):\n",
    "    word_counts = Counter()\n",
    "    for word, count in words_and_counts:\n",
    "        word_counts[word] += count\n",
    "    word, count = word_counts.most_common(1)[0]\n",
    "    yield (user, (word, count))"
   ]
  },
  {
   "cell_type": "code",
   "execution_count": 14,
   "metadata": {
    "ExecuteTime": {
     "end_time": "2020-04-07T01:15:49.516147Z",
     "start_time": "2020-04-07T01:15:49.513023Z"
    }
   },
   "outputs": [],
   "source": [
    "#user_words = map_reduce(status_updates, words_per_user_mapper, most_popular_word_reducer)"
   ]
  },
  {
   "cell_type": "markdown",
   "metadata": {},
   "source": [
    "#### Find the number of distinct status-likers for each user"
   ]
  },
  {
   "cell_type": "code",
   "execution_count": 15,
   "metadata": {
    "ExecuteTime": {
     "end_time": "2020-04-07T01:17:09.545723Z",
     "start_time": "2020-04-07T01:17:09.536193Z"
    }
   },
   "outputs": [],
   "source": [
    "def liker_mapper(status_update):\n",
    "    user = status_update[\"username\"]\n",
    "    for liker in status_update[\"liked_by\"]:\n",
    "        yield (user, liker)"
   ]
  },
  {
   "cell_type": "code",
   "execution_count": 16,
   "metadata": {
    "ExecuteTime": {
     "end_time": "2020-04-07T01:17:55.964098Z",
     "start_time": "2020-04-07T01:17:55.961320Z"
    }
   },
   "outputs": [],
   "source": [
    "#distinct_liker_per_user = map_reduce(status_updates, liker_mapper, count_distinct_reducer)"
   ]
  },
  {
   "cell_type": "markdown",
   "metadata": {},
   "source": [
    "#### Sparse Matrix Multiplication\n",
    "More efficient way to store data for large matrix (esp when it's sparse) is to represent as a list of tuples, instead of list of list \n",
    "\n",
    "(name, i, j, value) where `name` identifies the matri x,and wherei, j, value indicates a location with non-zero value."
   ]
  },
  {
   "cell_type": "code",
   "execution_count": 23,
   "metadata": {
    "ExecuteTime": {
     "end_time": "2020-04-07T01:27:45.515985Z",
     "start_time": "2020-04-07T01:27:45.511471Z"
    }
   },
   "outputs": [],
   "source": [
    "def matrix_multiply_mapper(m, element):\n",
    "    \"\"\"m is the common dimension (columns of A, rows of B) element is a tuple (matrix_name, i, j, value)\"\"\"\n",
    "    name, i, j, value = element\n",
    "    if name == \"A\":\n",
    "        # A_ij is the jth entry in the sum for each C_ik, k=1..m \n",
    "        for k in range(m):\n",
    "            # group with other entries for C_ik\n",
    "            yield((i, k), (j, value))\n",
    "    else:\n",
    "        # B_ij is the i-th entry in the sum for each C_kj\n",
    "        for k in range(m):\n",
    "            # group with other entries for C_kj\n",
    "            yield((k, j), (i, value))"
   ]
  },
  {
   "cell_type": "code",
   "execution_count": 19,
   "metadata": {
    "ExecuteTime": {
     "end_time": "2020-04-07T01:25:53.165638Z",
     "start_time": "2020-04-07T01:25:53.151883Z"
    }
   },
   "outputs": [],
   "source": [
    "def matrix_multiply_reducer(m, key, indexed_values): \n",
    "    results_by_index = defaultdict(list)\n",
    "    for index, value in indexed_values:\n",
    "        results_by_index[index].append(value)\n",
    "    # sum up all the products of the positions with two results\n",
    "    sum_product = sum(results[0] * results[1]\n",
    "    for results in results_by_index.values()\n",
    "      if len(results) == 2)"
   ]
  },
  {
   "cell_type": "code",
   "execution_count": 24,
   "metadata": {
    "ExecuteTime": {
     "end_time": "2020-04-07T01:27:46.926086Z",
     "start_time": "2020-04-07T01:27:46.922507Z"
    }
   },
   "outputs": [],
   "source": [
    "A = [[3, 2, 0],\n",
    "        [0, 0, 0]]\n",
    "B = [[4, -1, 0], [10, 0, 0],\n",
    "    [0, 0, 0]]\n",
    "# can be rewrite as :\n",
    "\n",
    "entries = [(\"A\", 0, 0, 3), (\"A\", 0, 1, 2),\n",
    "(\"B\", 0, 0, 4), (\"B\", 0, 1, -1), (\"B\", 1, 0, 10)]"
   ]
  },
  {
   "cell_type": "code",
   "execution_count": 31,
   "metadata": {
    "ExecuteTime": {
     "end_time": "2020-04-07T01:33:35.998232Z",
     "start_time": "2020-04-07T01:33:35.995227Z"
    }
   },
   "outputs": [],
   "source": [
    "# mapper = partial(matrix_multiply_mapper, 3) \n",
    "# reducer = partial(matrix_multiply_reducer, 3)\n",
    "\n",
    "# map_reduce(entries, mapper, reducer)"
   ]
  },
  {
   "cell_type": "code",
   "execution_count": null,
   "metadata": {},
   "outputs": [],
   "source": []
  }
 ],
 "metadata": {
  "kernelspec": {
   "display_name": "base",
   "language": "python",
   "name": "base"
  },
  "language_info": {
   "codemirror_mode": {
    "name": "ipython",
    "version": 3
   },
   "file_extension": ".py",
   "mimetype": "text/x-python",
   "name": "python",
   "nbconvert_exporter": "python",
   "pygments_lexer": "ipython3",
   "version": "3.6.7"
  },
  "toc": {
   "base_numbering": 1,
   "nav_menu": {},
   "number_sections": true,
   "sideBar": true,
   "skip_h1_title": false,
   "title_cell": "Table of Contents",
   "title_sidebar": "Contents",
   "toc_cell": false,
   "toc_position": {},
   "toc_section_display": true,
   "toc_window_display": false
  }
 },
 "nbformat": 4,
 "nbformat_minor": 2
}
