{
 "cells": [
  {
   "cell_type": "code",
   "execution_count": 27,
   "metadata": {
    "ExecuteTime": {
     "end_time": "2020-07-20T16:43:48.236896Z",
     "start_time": "2020-07-20T16:43:48.233933Z"
    }
   },
   "outputs": [],
   "source": [
    "import unittest\n",
    "from unittest.mock import Mock, patch\n",
    "import json\n",
    "import datetime\n",
    "import requests\n",
    "from requests.exceptions import Timeout, ConnectionError\n",
    "# https://realpython.com/lessons/python-mock-object-library-summary/"
   ]
  },
  {
   "cell_type": "markdown",
   "metadata": {},
   "source": [
    "### What Is Mocking?"
   ]
  },
  {
   "cell_type": "markdown",
   "metadata": {},
   "source": [
    "A mock object substitutes and imitates a real object within a testing environment. Replacing the actual request with a mock object would allow you to simulate external service outages and successful responses in a predictable way. Thus, it controls the code behavior during testing."
   ]
  },
  {
   "cell_type": "markdown",
   "metadata": {},
   "source": [
    "unnittest.mock provide a base class for mocking objects called Mock, which you will use to imitate real objects in your codebase"
   ]
  },
  {
   "cell_type": "code",
   "execution_count": 2,
   "metadata": {
    "ExecuteTime": {
     "end_time": "2020-07-20T15:11:08.794790Z",
     "start_time": "2020-07-20T15:11:08.783663Z"
    }
   },
   "outputs": [
    {
     "name": "stdout",
     "output_type": "stream",
     "text": [
      "investigate mock object created: <Mock id='140637683881632'>\n"
     ]
    }
   ],
   "source": [
    "mock = Mock()\n",
    "print(\"investigate mock object created:\", mock)"
   ]
  },
  {
   "cell_type": "markdown",
   "metadata": {},
   "source": [
    "A Mock simulate any object that it replaces. To achieve such flexibility, it creates attributes when access them. Aka, it could create new attributes that didn't exists (WARMING). "
   ]
  },
  {
   "cell_type": "markdown",
   "metadata": {},
   "source": [
    "Notice two key characteristics of this mocked version of dumps():\n",
    "\n",
    "1. Unlike the real dumps(), this mocked method requires no arguments. In fact, it will accept any arguments that you pass to it.\n",
    "\n",
    "2. The return value of dumps() is also a Mock. The capability of Mock to recursively define other mocks allows for you to use mocks in complex situations:"
   ]
  },
  {
   "cell_type": "code",
   "execution_count": 6,
   "metadata": {
    "ExecuteTime": {
     "end_time": "2020-07-20T15:17:19.234553Z",
     "start_time": "2020-07-20T15:17:19.230278Z"
    }
   },
   "outputs": [
    {
     "name": "stdout",
     "output_type": "stream",
     "text": [
      "<Mock name='mock.some_attribute' id='140637683904808'>\n",
      "<Mock name='mock.dumps()' id='140637683882920'>\n",
      "<Mock name='mock.dumpyfy()' id='140637683882864'>\n"
     ]
    }
   ],
   "source": [
    "print(mock.some_attribute)\n",
    "\n",
    "## let's try mock the entire json lib, so when we call json.dumps(), mock object will create the method .dumps to match the lib interface\n",
    "json = Mock()\n",
    "print(json.dumps())\n",
    "# but when you make a typo of the real method, mock json will still be accessible\n",
    "print(json.dumpyfy())"
   ]
  },
  {
   "cell_type": "markdown",
   "metadata": {},
   "source": [
    "#### Attributes and Inspection\n",
    "Mock instances store data on how you used them, so you can view the attributes to understand how your application used an object."
   ]
  },
  {
   "cell_type": "code",
   "execution_count": 7,
   "metadata": {
    "ExecuteTime": {
     "end_time": "2020-07-20T15:24:20.953678Z",
     "start_time": "2020-07-20T15:24:20.936961Z"
    }
   },
   "outputs": [
    {
     "data": {
      "text/plain": [
       "<Mock name='mock.loads()' id='140637681369328'>"
      ]
     },
     "execution_count": 7,
     "metadata": {},
     "output_type": "execute_result"
    }
   ],
   "source": [
    "json = Mock()\n",
    "json.loads(s='{\"key\": \"value\"}')"
   ]
  },
  {
   "cell_type": "code",
   "execution_count": 8,
   "metadata": {
    "ExecuteTime": {
     "end_time": "2020-07-20T15:33:01.229497Z",
     "start_time": "2020-07-20T15:33:01.225365Z"
    }
   },
   "outputs": [
    {
     "name": "stdout",
     "output_type": "stream",
     "text": [
      "num of times called loads 1\n",
      "last loads call: call(s='{\"key\": \"value\"}')\n",
      "list of loads call: [call(s='{\"key\": \"value\"}')]\n"
     ]
    }
   ],
   "source": [
    "# inspect mock usage \n",
    "print(\"num of times called loads\", json.loads.call_count)\n",
    "print(\"last loads call:\", json.loads.call_args)\n",
    "print(\"list of loads call:\", json.loads.call_args_list)"
   ]
  },
  {
   "cell_type": "markdown",
   "metadata": {},
   "source": [
    "#### Return Value and Side Effect\n",
    "We can specify a function’s return value to control the code's behavior during tests.\n",
    "When you want to make functions return different values when you call them more than once or define what happens when you call the mocked function (e.g. raise exception), can use .side_effect. "
   ]
  },
  {
   "cell_type": "code",
   "execution_count": 18,
   "metadata": {
    "ExecuteTime": {
     "end_time": "2020-07-20T15:44:03.952778Z",
     "start_time": "2020-07-20T15:44:03.947793Z"
    }
   },
   "outputs": [],
   "source": [
    "# Save a couple of test days\n",
    "tuesday = datetime.datetime(year=2019, month=1, day=1)\n",
    "saturday = datetime.datetime(year=2019, month=1, day=5)\n",
    "\n",
    "def is_weekday():\n",
    "    today = datetime.datetime.today()\n",
    "    return (0<= today.weekday() < 5)\n",
    "\n",
    "\n",
    "def get_holidays():\n",
    "    r = requests.get('http://localhost/api/holidays')\n",
    "    if r.status_code == 200:\n",
    "        return r.json()\n",
    "    return None"
   ]
  },
  {
   "cell_type": "code",
   "execution_count": 16,
   "metadata": {
    "ExecuteTime": {
     "end_time": "2020-07-20T15:40:07.407349Z",
     "start_time": "2020-07-20T15:40:07.396417Z"
    }
   },
   "outputs": [
    {
     "name": "stdout",
     "output_type": "stream",
     "text": [
      "AS of today is_weekday() True\n"
     ]
    }
   ],
   "source": [
    "print(\"AS of today is_weekday()\", is_weekday())\n",
    "\n",
    "datetime = Mock()\n",
    "# Mock .today() to return Tuesday\n",
    "datetime.datetime.today.return_value = tuesday\n",
    "assert is_weekday()\n",
    "# Mock .today() to return Saturday\n",
    "datetime.datetime.today.return_value = saturday\n",
    "assert not is_weekday()"
   ]
  },
  {
   "cell_type": "markdown",
   "metadata": {
    "ExecuteTime": {
     "end_time": "2020-07-20T15:45:10.818984Z",
     "start_time": "2020-07-20T15:45:10.816364Z"
    }
   },
   "source": [
    "#### Configuring Your Mock\n",
    "Can configure a Mock to set up some of the object’s behaviors, e.g. .return_value, .side_effect, with .configure_mock()"
   ]
  },
  {
   "cell_type": "code",
   "execution_count": 22,
   "metadata": {
    "ExecuteTime": {
     "end_time": "2020-07-20T16:29:32.528202Z",
     "start_time": "2020-07-20T16:29:32.523627Z"
    }
   },
   "outputs": [
    {
     "data": {
      "text/plain": [
       "True"
      ]
     },
     "execution_count": 22,
     "metadata": {},
     "output_type": "execute_result"
    }
   ],
   "source": [
    "mock = Mock()\n",
    "mock.configure_mock(name = \"Test mock\", return_value=True)\n",
    "mock()"
   ]
  },
  {
   "cell_type": "code",
   "execution_count": 25,
   "metadata": {
    "ExecuteTime": {
     "end_time": "2020-07-20T16:31:18.991478Z",
     "start_time": "2020-07-20T16:31:18.987515Z"
    }
   },
   "outputs": [
    {
     "name": "stdout",
     "output_type": "stream",
     "text": [
      "<Mock id='140637704625960'>\n",
      "{'12/25': 'Christmas', '7/4': 'Independence Day'}\n"
     ]
    }
   ],
   "source": [
    "holidays = {'12/25': 'Christmas', '7/4': 'Independence Day'}\n",
    "response_mock = Mock(**{'json.return_value': holidays})\n",
    "print(response_mock)\n",
    "print(response_mock.json.return_value)"
   ]
  },
  {
   "cell_type": "markdown",
   "metadata": {},
   "source": [
    "### patch()\n",
    "patch() looks up an object in a given module and replaces that object with a Mock. And it can be used as a decorator or a context manager.\n",
    "\n",
    "A good rule of thumb is to patch() the object where it is looked up."
   ]
  },
  {
   "cell_type": "code",
   "execution_count": 29,
   "metadata": {
    "ExecuteTime": {
     "end_time": "2020-07-20T16:44:15.953382Z",
     "start_time": "2020-07-20T16:44:15.949615Z"
    }
   },
   "outputs": [],
   "source": [
    "class TestCalendar(unittest.TestCase):\n",
    "    def test_get_holidays_timeout(self):\n",
    "        with patch('my_calendar.requests') as mock_requests:\n",
    "            mock_requests.get.side_effect = Timeout\n",
    "            with self.assertRaises(Timeout):\n",
    "                get_holidays()\n",
    "                mock_requests.get.assert_called_once()"
   ]
  },
  {
   "cell_type": "markdown",
   "metadata": {},
   "source": [
    "#### with patch.object(), you can mock one method instead of the entire object.\n",
    "object() takes the same configuration params that patch() does, as the first param is the path to the target object. The second parameter is the attribute of the target object that plan to mock."
   ]
  },
  {
   "cell_type": "code",
   "execution_count": 28,
   "metadata": {
    "ExecuteTime": {
     "end_time": "2020-07-20T16:43:51.353043Z",
     "start_time": "2020-07-20T16:43:51.349595Z"
    }
   },
   "outputs": [],
   "source": [
    "class TestCalendar(unittest.TestCase):\n",
    "    @patch.object(requests, 'get', side_effect=requests.exceptions.Timeout)\n",
    "    def test_get_holidays_timeout(self, mock_requests):\n",
    "            with self.assertRaises(requests.exceptions.Timeout):\n",
    "                get_holidays()"
   ]
  },
  {
   "cell_type": "markdown",
   "metadata": {},
   "source": [
    "### Use Specification to avoid common problem\n",
    "As mock creates new attributes and methods when you access, even misspelled or not existing attributes, you can still able to test, though not meaningful. \n",
    "\n",
    "To prevent, you can pass an object specification to the `spec` parameter, which accepts a list of names or another object and defines the mock’s interface. If you attempt to access an attribute that does not belong to the specification, Mock will raise an AttributeError"
   ]
  },
  {
   "cell_type": "code",
   "execution_count": 30,
   "metadata": {
    "ExecuteTime": {
     "end_time": "2020-07-21T00:28:18.323339Z",
     "start_time": "2020-07-21T00:28:18.255943Z"
    }
   },
   "outputs": [],
   "source": [
    "calendar = Mock(spec=['is_weekday', 'get_holidays'])"
   ]
  },
  {
   "cell_type": "code",
   "execution_count": 32,
   "metadata": {
    "ExecuteTime": {
     "end_time": "2020-07-21T00:28:51.060817Z",
     "start_time": "2020-07-21T00:28:51.035747Z"
    }
   },
   "outputs": [
    {
     "name": "stdout",
     "output_type": "stream",
     "text": [
      "<Mock name='mock.is_weekday()' id='140637715496296'>\n"
     ]
    },
    {
     "ename": "AttributeError",
     "evalue": "Mock object has no attribute 'not_available_func'",
     "output_type": "error",
     "traceback": [
      "\u001b[0;31m---------------------------------------------------------------------------\u001b[0m",
      "\u001b[0;31mAttributeError\u001b[0m                            Traceback (most recent call last)",
      "\u001b[0;32m<ipython-input-32-a9ea0b801425>\u001b[0m in \u001b[0;36m<module>\u001b[0;34m\u001b[0m\n\u001b[1;32m      1\u001b[0m \u001b[0mprint\u001b[0m\u001b[0;34m(\u001b[0m\u001b[0mcalendar\u001b[0m\u001b[0;34m.\u001b[0m\u001b[0mis_weekday\u001b[0m\u001b[0;34m(\u001b[0m\u001b[0;34m)\u001b[0m\u001b[0;34m)\u001b[0m\u001b[0;34m\u001b[0m\u001b[0;34m\u001b[0m\u001b[0m\n\u001b[0;32m----> 2\u001b[0;31m \u001b[0mprint\u001b[0m\u001b[0;34m(\u001b[0m\u001b[0mcalendar\u001b[0m\u001b[0;34m.\u001b[0m\u001b[0mnot_available_func\u001b[0m\u001b[0;34m(\u001b[0m\u001b[0;34m)\u001b[0m\u001b[0;34m)\u001b[0m\u001b[0;34m\u001b[0m\u001b[0;34m\u001b[0m\u001b[0m\n\u001b[0m",
      "\u001b[0;32m~/anaconda3/lib/python3.6/unittest/mock.py\u001b[0m in \u001b[0;36m__getattr__\u001b[0;34m(self, name)\u001b[0m\n\u001b[1;32m    580\u001b[0m         \u001b[0;32melif\u001b[0m \u001b[0mself\u001b[0m\u001b[0;34m.\u001b[0m\u001b[0m_mock_methods\u001b[0m \u001b[0;32mis\u001b[0m \u001b[0;32mnot\u001b[0m \u001b[0;32mNone\u001b[0m\u001b[0;34m:\u001b[0m\u001b[0;34m\u001b[0m\u001b[0;34m\u001b[0m\u001b[0m\n\u001b[1;32m    581\u001b[0m             \u001b[0;32mif\u001b[0m \u001b[0mname\u001b[0m \u001b[0;32mnot\u001b[0m \u001b[0;32min\u001b[0m \u001b[0mself\u001b[0m\u001b[0;34m.\u001b[0m\u001b[0m_mock_methods\u001b[0m \u001b[0;32mor\u001b[0m \u001b[0mname\u001b[0m \u001b[0;32min\u001b[0m \u001b[0m_all_magics\u001b[0m\u001b[0;34m:\u001b[0m\u001b[0;34m\u001b[0m\u001b[0;34m\u001b[0m\u001b[0m\n\u001b[0;32m--> 582\u001b[0;31m                 \u001b[0;32mraise\u001b[0m \u001b[0mAttributeError\u001b[0m\u001b[0;34m(\u001b[0m\u001b[0;34m\"Mock object has no attribute %r\"\u001b[0m \u001b[0;34m%\u001b[0m \u001b[0mname\u001b[0m\u001b[0;34m)\u001b[0m\u001b[0;34m\u001b[0m\u001b[0;34m\u001b[0m\u001b[0m\n\u001b[0m\u001b[1;32m    583\u001b[0m         \u001b[0;32melif\u001b[0m \u001b[0m_is_magic\u001b[0m\u001b[0;34m(\u001b[0m\u001b[0mname\u001b[0m\u001b[0;34m)\u001b[0m\u001b[0;34m:\u001b[0m\u001b[0;34m\u001b[0m\u001b[0;34m\u001b[0m\u001b[0m\n\u001b[1;32m    584\u001b[0m             \u001b[0;32mraise\u001b[0m \u001b[0mAttributeError\u001b[0m\u001b[0;34m(\u001b[0m\u001b[0mname\u001b[0m\u001b[0;34m)\u001b[0m\u001b[0;34m\u001b[0m\u001b[0;34m\u001b[0m\u001b[0m\n",
      "\u001b[0;31mAttributeError\u001b[0m: Mock object has no attribute 'not_available_func'"
     ]
    }
   ],
   "source": [
    "print(calendar.is_weekday())\n",
    "print(calendar.not_available_func())"
   ]
  },
  {
   "cell_type": "code",
   "execution_count": null,
   "metadata": {},
   "outputs": [],
   "source": []
  }
 ],
 "metadata": {
  "kernelspec": {
   "display_name": "Python 3",
   "language": "python",
   "name": "python3"
  },
  "language_info": {
   "codemirror_mode": {
    "name": "ipython",
    "version": 3
   },
   "file_extension": ".py",
   "mimetype": "text/x-python",
   "name": "python",
   "nbconvert_exporter": "python",
   "pygments_lexer": "ipython3",
   "version": "3.6.10"
  },
  "toc": {
   "base_numbering": 1,
   "nav_menu": {},
   "number_sections": true,
   "sideBar": true,
   "skip_h1_title": false,
   "title_cell": "Table of Contents",
   "title_sidebar": "Contents",
   "toc_cell": false,
   "toc_position": {},
   "toc_section_display": true,
   "toc_window_display": false
  }
 },
 "nbformat": 4,
 "nbformat_minor": 4
}
