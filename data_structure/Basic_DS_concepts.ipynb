{
 "cells": [
  {
   "cell_type": "code",
   "execution_count": 9,
   "metadata": {
    "ExecuteTime": {
     "end_time": "2020-03-02T03:22:09.422333Z",
     "start_time": "2020-03-02T03:22:09.419344Z"
    }
   },
   "outputs": [],
   "source": [
    "from pprint import pprint"
   ]
  },
  {
   "cell_type": "markdown",
   "metadata": {},
   "source": [
    "#### Iterating through List"
   ]
  },
  {
   "cell_type": "raw",
   "metadata": {},
   "source": [
    "In FizzBuzz, you are given a list of integers. Your task is to do the following:\n",
    "numbers = [45, 22, 14, 65, 97, 72]\n",
    "Replace all integers that are evenly divisible by 3 with \"fizz\"\n",
    "Replace all integers divisible by 5 with \"buzz\"\n",
    "Replace all integers divisible by both 3 and 5 with \"fizzbuzz"
   ]
  },
  {
   "cell_type": "code",
   "execution_count": 1,
   "metadata": {
    "ExecuteTime": {
     "end_time": "2020-02-26T02:09:51.606631Z",
     "start_time": "2020-02-26T02:09:51.601685Z"
    }
   },
   "outputs": [
    {
     "name": "stdout",
     "output_type": "stream",
     "text": [
      "after replacement: ['fizzbuzz', 22, 14, 'fizz', 97, 'buzz']\n"
     ]
    }
   ],
   "source": [
    "numbers = [45, 22, 14, 65, 97, 72]\n",
    "\n",
    "for idx, number in enumerate(numbers):\n",
    "    if idx % 3 == 0 and idx % 5 == 0:\n",
    "        numbers[idx] = \"fizzbuzz\"\n",
    "    elif idx % 3 == 0:\n",
    "        numbers[idx] = \"fizz\"\n",
    "    elif idx % 5 == 0:\n",
    "        numbers[idx] = \"buzz\"\n",
    "\n",
    "print(\"after replacement:\", numbers)"
   ]
  },
  {
   "cell_type": "code",
   "execution_count": 2,
   "metadata": {
    "ExecuteTime": {
     "end_time": "2020-02-26T02:11:42.795165Z",
     "start_time": "2020-02-26T02:11:42.791350Z"
    }
   },
   "outputs": [
    {
     "name": "stdout",
     "output_type": "stream",
     "text": [
      "2 fizzbuzz\n",
      "3 22\n",
      "4 14\n",
      "5 fizz\n",
      "6 97\n",
      "7 buzz\n"
     ]
    }
   ],
   "source": [
    "# with start parameter of enumerate, we access all of the same elements of list, but starting from different index\n",
    "\n",
    "for idx, number in enumerate(numbers, start=2):\n",
    "    print(idx, number)"
   ]
  },
  {
   "cell_type": "markdown",
   "metadata": {},
   "source": [
    "#### Debug With breakpoint() Instead of print()"
   ]
  },
  {
   "cell_type": "raw",
   "metadata": {},
   "source": [
    "Python 3.7, you don’t need to In python 3.7, don't need to import anything and can just call breakpoint() at the location in your code where you’d like to drop into the debugger\n",
    "\n",
    "Python 3.6 and older, you can do the same by importing pdb explicitly:\n",
    "    `import pdb; pdb.set_trace()`"
   ]
  },
  {
   "cell_type": "markdown",
   "metadata": {},
   "source": [
    "#### Save Memory With Generators"
   ]
  },
  {
   "cell_type": "code",
   "execution_count": 7,
   "metadata": {
    "ExecuteTime": {
     "end_time": "2020-02-26T02:44:29.119878Z",
     "start_time": "2020-02-26T02:44:29.115861Z"
    }
   },
   "outputs": [
    {
     "name": "stdout",
     "output_type": "stream",
     "text": [
      "not memory efficient with list comprehension: 333833500\n",
      "with generator: 333833500\n"
     ]
    }
   ],
   "source": [
    "## instead of using list comprehension, where the creation of list requires memory resources\n",
    "print(\"not memory efficient with list comprehension:\", sum([i * i for i in range(1, 1001)]))\n",
    "\n",
    "# try to use the generator expression as below, the design allows generators to be used on massive sequences of data, because only one element exists in memory at a time.\n",
    "print(\"with generator:\", sum((i * i for i in range(1, 1001))))"
   ]
  },
  {
   "cell_type": "markdown",
   "metadata": {},
   "source": [
    "#### Handle Missing Dictionary Keys With collections.defaultdict()"
   ]
  },
  {
   "cell_type": "raw",
   "metadata": {},
   "source": [
    "Pretend you have a group of students, and you need to keep track of their grades on homework assignments. The input value is a list of tuples with the format (student_name, grade), but you want to easily look up all the grades for a single student without iterating over the list."
   ]
  },
  {
   "cell_type": "code",
   "execution_count": 8,
   "metadata": {
    "ExecuteTime": {
     "end_time": "2020-02-26T02:47:58.952103Z",
     "start_time": "2020-02-26T02:47:58.949059Z"
    }
   },
   "outputs": [],
   "source": [
    "grades = [\n",
    "...     ('elliot', 91),\n",
    "...     ('neelam', 98),\n",
    "...     ('bianca', 81),\n",
    "...     ('elliot', 88),\n",
    "... ]"
   ]
  },
  {
   "cell_type": "code",
   "execution_count": 10,
   "metadata": {
    "ExecuteTime": {
     "end_time": "2020-02-26T02:53:28.060047Z",
     "start_time": "2020-02-26T02:53:28.055230Z"
    }
   },
   "outputs": [
    {
     "name": "stdout",
     "output_type": "stream",
     "text": [
      "student grades aggregated: defaultdict(<class 'list'>, {'elliot': [91, 88], 'neelam': [98], 'bianca': [81]})\n"
     ]
    }
   ],
   "source": [
    "from collections import defaultdict\n",
    "\n",
    "# We can leveraging a defaultdict can lead to cleaner application code because you don’t have to worry about default values at the key level. \n",
    "# Instead, you can handle them once at the defaultdict level and afterwards act as if the key is always present.\n",
    "\n",
    "student_grades = defaultdict(list)\n",
    "for name, grade in grades:\n",
    "    student_grades[name].append(grade)\n",
    "\n",
    "print(\"student grades aggregated:\", student_grades)"
   ]
  },
  {
   "cell_type": "markdown",
   "metadata": {},
   "source": [
    "#### Generate Permutations and Combinations With itertools"
   ]
  },
  {
   "cell_type": "raw",
   "metadata": {},
   "source": [
    "itertools.permutations() builds a list of all permutations, meaning it’s a list of every possible grouping of input values with a length matching the count parameter. The r keyword argument lets us specify how many values go in each grouping:"
   ]
  },
  {
   "cell_type": "code",
   "execution_count": 13,
   "metadata": {
    "ExecuteTime": {
     "end_time": "2020-02-26T03:42:00.762896Z",
     "start_time": "2020-02-26T03:42:00.759402Z"
    }
   },
   "outputs": [
    {
     "name": "stdout",
     "output_type": "stream",
     "text": [
      "pair any two friends, bidirectional relations: [('Monique', 'Ashish'), ('Monique', 'Devon'), ('Monique', 'Bernie'), ('Ashish', 'Monique'), ('Ashish', 'Devon'), ('Ashish', 'Bernie'), ('Devon', 'Monique'), ('Devon', 'Ashish'), ('Devon', 'Bernie'), ('Bernie', 'Monique'), ('Bernie', 'Ashish'), ('Bernie', 'Devon')]\n"
     ]
    }
   ],
   "source": [
    "import itertools\n",
    "friends = ['Monique', 'Ashish', 'Devon', 'Bernie']\n",
    "print(\"pair any two friends, bidirectional relations:\", list(itertools.permutations(friends, 2)))"
   ]
  },
  {
   "cell_type": "raw",
   "metadata": {},
   "source": [
    "itertools.combinations() builds combinations. These are also the possible groupings of the input values, but now the order of the values doesn’t matter. "
   ]
  },
  {
   "cell_type": "code",
   "execution_count": 15,
   "metadata": {
    "ExecuteTime": {
     "end_time": "2020-02-26T03:42:36.468299Z",
     "start_time": "2020-02-26T03:42:36.465130Z"
    }
   },
   "outputs": [
    {
     "name": "stdout",
     "output_type": "stream",
     "text": [
      "unique pair of friends: [('Monique', 'Ashish'), ('Monique', 'Devon'), ('Monique', 'Bernie'), ('Ashish', 'Devon'), ('Ashish', 'Bernie'), ('Devon', 'Bernie')]\n"
     ]
    }
   ],
   "source": [
    "print(\"unique pair of friends:\", list(itertools.combinations(friends, r=2)))"
   ]
  },
  {
   "cell_type": "markdown",
   "metadata": {},
   "source": [
    "#### immutable vs hashable"
   ]
  },
  {
   "cell_type": "raw",
   "metadata": {},
   "source": [
    "immutable - a type of object that cannot be modified after created\n",
    "hashable - a type of object that can call `hash` on it\n",
    "all immutable objects are hashable, but not vice versa\n",
    "Python Set can only have hashable items. Set is not hashable by iteself.\n",
    "\n",
    "String, Tuple, Integers, Booleans are immutable.\n",
    "List, Dictionary are mutable."
   ]
  },
  {
   "cell_type": "code",
   "execution_count": null,
   "metadata": {},
   "outputs": [],
   "source": []
  },
  {
   "cell_type": "markdown",
   "metadata": {},
   "source": [
    "#### Relational vs non-relational  DB"
   ]
  },
  {
   "cell_type": "raw",
   "metadata": {},
   "source": [
    "A relational database is one where data is stored in the form of a table. Each table has a schema, which is the columns and types a record is required to have. Each schema must have at least one primary key and each table can be related to other tables using foreign keys."
   ]
  },
  {
   "cell_type": "raw",
   "metadata": {},
   "source": [
    "Records in Non-relational db can be saved with different schemas and with a different, nested structure. Records can still have primary keys, but a change in the schema is done on an entry-by-entry basis.\n",
    "Speed is also affected by whether or not there are indices present in the database. Indices are extremely important and allow you to quickly search through a table and find a match for some column specified in the query"
   ]
  },
  {
   "cell_type": "markdown",
   "metadata": {},
   "source": [
    "##### working on relationship db example"
   ]
  },
  {
   "cell_type": "code",
   "execution_count": 1,
   "metadata": {
    "ExecuteTime": {
     "end_time": "2020-03-02T03:17:58.715999Z",
     "start_time": "2020-03-02T03:17:58.712019Z"
    }
   },
   "outputs": [],
   "source": [
    "import sqlite3\n",
    "\n",
    "db = sqlite3.connect(':memory:')  # Using an in-memory database\n",
    "cur = db.cursor()"
   ]
  },
  {
   "cell_type": "code",
   "execution_count": 2,
   "metadata": {
    "ExecuteTime": {
     "end_time": "2020-03-02T03:19:33.443324Z",
     "start_time": "2020-03-02T03:19:33.431177Z"
    }
   },
   "outputs": [
    {
     "data": {
      "text/plain": [
       "<sqlite3.Cursor at 0x108e2f5e0>"
      ]
     },
     "execution_count": 2,
     "metadata": {},
     "output_type": "execute_result"
    }
   ],
   "source": [
    "## create tables\n",
    "cur.execute('''CREATE TABLE IF NOT EXISTS Customer (\n",
    "                id integer PRIMARY KEY,\n",
    "                firstname varchar(255),\n",
    "                lastname varchar(255) )''')\n",
    "cur.execute('''CREATE TABLE IF NOT EXISTS Item (\n",
    "                id integer PRIMARY KEY,\n",
    "                title varchar(255),\n",
    "                price decimal )''')\n",
    "cur.execute('''CREATE TABLE IF NOT EXISTS BoughtItem (\n",
    "                ordernumber integer PRIMARY KEY,\n",
    "                customerid integer,\n",
    "                itemid integer,\n",
    "                price decimal,\n",
    "                CONSTRAINT customerid\n",
    "                    FOREIGN KEY (customerid) REFERENCES Customer(id),\n",
    "                CONSTRAINT itemid\n",
    "                    FOREIGN KEY (itemid) REFERENCES Item(id) )''')"
   ]
  },
  {
   "cell_type": "code",
   "execution_count": 3,
   "metadata": {
    "ExecuteTime": {
     "end_time": "2020-03-02T03:19:52.833410Z",
     "start_time": "2020-03-02T03:19:52.827788Z"
    }
   },
   "outputs": [
    {
     "data": {
      "text/plain": [
       "<sqlite3.Cursor at 0x108e2f5e0>"
      ]
     },
     "execution_count": 3,
     "metadata": {},
     "output_type": "execute_result"
    }
   ],
   "source": [
    "###populate table with data\n",
    "cur.execute('''INSERT INTO Customer(firstname, lastname)\n",
    "               VALUES ('Bob', 'Adams'),\n",
    "                      ('Amy', 'Smith'),\n",
    "                      ('Rob', 'Bennet');''')\n",
    "cur.execute('''INSERT INTO Item(title, price)\n",
    "               VALUES ('USB', 10.2),\n",
    "                      ('Mouse', 12.23),\n",
    "                      ('Monitor', 199.99);''')\n",
    "cur.execute('''INSERT INTO BoughtItem(customerid, itemid, price)\n",
    "               VALUES (1, 1, 10.2),\n",
    "                      (1, 2, 12.23),\n",
    "                      (1, 3, 199.99),\n",
    "                      (2, 3, 180.00),\n",
    "                      (3, 2, 11.23);''') # Discounted price "
   ]
  },
  {
   "cell_type": "code",
   "execution_count": 4,
   "metadata": {
    "ExecuteTime": {
     "end_time": "2020-03-02T03:20:00.861767Z",
     "start_time": "2020-03-02T03:20:00.858285Z"
    }
   },
   "outputs": [
    {
     "name": "stdout",
     "output_type": "stream",
     "text": [
      "[(1, 10.2), (2, 11.73), (3, 189.995)]\n"
     ]
    }
   ],
   "source": [
    "cur.execute('''SELECT itemid, AVG(price) FROM BoughtItem GROUP BY itemid''')\n",
    "print(cur.fetchall())"
   ]
  },
  {
   "cell_type": "code",
   "execution_count": 10,
   "metadata": {
    "ExecuteTime": {
     "end_time": "2020-03-02T03:22:12.505087Z",
     "start_time": "2020-03-02T03:22:12.500494Z"
    }
   },
   "outputs": [
    {
     "name": "stdout",
     "output_type": "stream",
     "text": [
      "[(4, 0, 0, 'SCAN TABLE BoughtItem AS boughtitem'),\n",
      " (6,\n",
      "  0,\n",
      "  0,\n",
      "  'SEARCH TABLE Customer AS customer USING INTEGER PRIMARY KEY (rowid=?)'),\n",
      " (9, 0, 0, 'SEARCH TABLE Item AS item USING INTEGER PRIMARY KEY (rowid=?)')]\n"
     ]
    }
   ],
   "source": [
    "### use EXPLAIN QUERY PLAN to describe the steps the database takes to execute the query\n",
    "cur.execute('''EXPLAIN QUERY PLAN SELECT customer.firstname, item.title, \n",
    "                item.price, boughtitem.price FROM BoughtItem as boughtitem\n",
    "                INNER JOIN Customer as customer on (customer.id = boughtitem.customerid)\n",
    "                INNER JOIN Item as item on (item.id = boughtitem.itemid)''')\n",
    "pprint(cur.fetchall())"
   ]
  },
  {
   "cell_type": "markdown",
   "metadata": {},
   "source": [
    "##### working on non-relational example"
   ]
  },
  {
   "cell_type": "raw",
   "metadata": {},
   "source": [
    "If you have a constantly changing schema, such as financial regulatory information, then NoSQL can modify the records and nest related information."
   ]
  },
  {
   "cell_type": "code",
   "execution_count": 15,
   "metadata": {
    "ExecuteTime": {
     "end_time": "2020-03-02T03:31:02.152292Z",
     "start_time": "2020-03-02T03:31:02.148164Z"
    }
   },
   "outputs": [],
   "source": [
    "# !pip install pymongo\n",
    "import pymongo\n",
    "client = pymongo.MongoClient('localhost', 27017)"
   ]
  },
  {
   "cell_type": "code",
   "execution_count": 17,
   "metadata": {
    "ExecuteTime": {
     "end_time": "2020-03-02T03:33:30.836066Z",
     "start_time": "2020-03-02T03:33:30.833087Z"
    }
   },
   "outputs": [],
   "source": [
    "# Note: This database is not created until it is populated by some data\n",
    "db = client[\"example_database\"]\n",
    "\n",
    "customers = db[\"customers\"]\n",
    "items = db[\"items\"]\n",
    "\n",
    "customers_data = [{ \"firstname\": \"Bob\", \"lastname\": \"Adams\" },\n",
    "                  { \"firstname\": \"Amy\", \"lastname\": \"Smith\" },\n",
    "                  { \"firstname\": \"Rob\", \"lastname\": \"Bennet\" },]\n",
    "items_data = [{ \"title\": \"USB\", \"price\": 10.2 },\n",
    "              { \"title\": \"Mouse\", \"price\": 12.23 },\n",
    "              { \"title\": \"Monitor\", \"price\": 199.99 },]\n",
    "customers.insert_many(customers_data)\n",
    "items.insert_many(items_data)"
   ]
  },
  {
   "cell_type": "code",
   "execution_count": null,
   "metadata": {
    "ExecuteTime": {
     "end_time": "2020-03-02T03:34:29.880090Z",
     "start_time": "2020-03-02T03:33:59.838252Z"
    }
   },
   "outputs": [],
   "source": [
    "customers.distinct(\"firstname\")"
   ]
  },
  {
   "cell_type": "markdown",
   "metadata": {},
   "source": [
    "##### Common Aspects of the ETL Process and Big Data Workflows"
   ]
  },
  {
   "cell_type": "raw",
   "metadata": {},
   "source": [
    "Both workflows follow the Producer-Consumer pattern. A worker (the Producer) produces data of some kind and outputs it to a pipeline. This pipeline can take many forms, including network messages and triggers. These workers typically work in an asynchronous manner and are executed in separate processes.\n",
    "In big data, the mapper can be seen as the Producer, while the reducer is effectively the Consumer."
   ]
  },
  {
   "cell_type": "code",
   "execution_count": null,
   "metadata": {},
   "outputs": [],
   "source": []
  },
  {
   "cell_type": "markdown",
   "metadata": {},
   "source": [
    "#### Explore Data with Pandas "
   ]
  },
  {
   "cell_type": "code",
   "execution_count": 1,
   "metadata": {
    "ExecuteTime": {
     "end_time": "2020-03-03T03:06:23.793961Z",
     "start_time": "2020-03-03T03:06:22.894525Z"
    }
   },
   "outputs": [],
   "source": [
    "import os\n",
    "import pandas as pd\n",
    "import requests\n",
    "import urllib.parse as urlparse\n",
    "# Jupyter notebooks will allow you to scroll all conlapsed data/column (...) with configuration as below\n",
    "pd.set_option(\"display.max.columns\", None)\n",
    "# Set float column to display only two decimal\n",
    "pd.set_option(\"display.precision\", 2)"
   ]
  },
  {
   "cell_type": "code",
   "execution_count": 2,
   "metadata": {
    "ExecuteTime": {
     "end_time": "2020-03-03T03:06:23.799425Z",
     "start_time": "2020-03-03T03:06:23.795934Z"
    }
   },
   "outputs": [],
   "source": [
    "def read_df_from_csv_url(url, download_folder= None):\n",
    "    \"toDo: expand to more generic data reading func/class\"\n",
    "    target_csv_path = url.split(\"/\")[-1]\n",
    "    if download_folder:\n",
    "        target_csv_path = os.path.join(download_folder, target_csv_path)\n",
    "\n",
    "    response = requests.get(download_url)\n",
    "    response.raise_for_status()    # Check that the request was successful\n",
    "    with open(target_csv_path, \"wb\") as f:\n",
    "        f.write(response.content)\n",
    "    print(\"Download ready.\")\n",
    "    df = pd.read_csv(target_csv_path)\n",
    "    return df"
   ]
  },
  {
   "cell_type": "code",
   "execution_count": 3,
   "metadata": {
    "ExecuteTime": {
     "end_time": "2020-03-03T03:06:26.270085Z",
     "start_time": "2020-03-03T03:06:23.911048Z"
    }
   },
   "outputs": [
    {
     "name": "stdout",
     "output_type": "stream",
     "text": [
      "Download ready.\n"
     ]
    },
    {
     "data": {
      "text/html": [
       "<div>\n",
       "<style scoped>\n",
       "    .dataframe tbody tr th:only-of-type {\n",
       "        vertical-align: middle;\n",
       "    }\n",
       "\n",
       "    .dataframe tbody tr th {\n",
       "        vertical-align: top;\n",
       "    }\n",
       "\n",
       "    .dataframe thead th {\n",
       "        text-align: right;\n",
       "    }\n",
       "</style>\n",
       "<table border=\"1\" class=\"dataframe\">\n",
       "  <thead>\n",
       "    <tr style=\"text-align: right;\">\n",
       "      <th></th>\n",
       "      <th>gameorder</th>\n",
       "      <th>game_id</th>\n",
       "      <th>lg_id</th>\n",
       "      <th>_iscopy</th>\n",
       "      <th>year_id</th>\n",
       "      <th>date_game</th>\n",
       "      <th>seasongame</th>\n",
       "      <th>is_playoffs</th>\n",
       "      <th>team_id</th>\n",
       "      <th>fran_id</th>\n",
       "      <th>pts</th>\n",
       "      <th>elo_i</th>\n",
       "      <th>elo_n</th>\n",
       "      <th>win_equiv</th>\n",
       "      <th>opp_id</th>\n",
       "      <th>opp_fran</th>\n",
       "      <th>opp_pts</th>\n",
       "      <th>opp_elo_i</th>\n",
       "      <th>opp_elo_n</th>\n",
       "      <th>game_location</th>\n",
       "      <th>game_result</th>\n",
       "      <th>forecast</th>\n",
       "      <th>notes</th>\n",
       "    </tr>\n",
       "  </thead>\n",
       "  <tbody>\n",
       "    <tr>\n",
       "      <th>0</th>\n",
       "      <td>1</td>\n",
       "      <td>194611010TRH</td>\n",
       "      <td>NBA</td>\n",
       "      <td>0</td>\n",
       "      <td>1947</td>\n",
       "      <td>11/1/1946</td>\n",
       "      <td>1</td>\n",
       "      <td>0</td>\n",
       "      <td>TRH</td>\n",
       "      <td>Huskies</td>\n",
       "      <td>66</td>\n",
       "      <td>1300.0</td>\n",
       "      <td>1293.28</td>\n",
       "      <td>40.29</td>\n",
       "      <td>NYK</td>\n",
       "      <td>Knicks</td>\n",
       "      <td>68</td>\n",
       "      <td>1300.00</td>\n",
       "      <td>1306.72</td>\n",
       "      <td>H</td>\n",
       "      <td>L</td>\n",
       "      <td>0.64</td>\n",
       "      <td>NaN</td>\n",
       "    </tr>\n",
       "    <tr>\n",
       "      <th>1</th>\n",
       "      <td>1</td>\n",
       "      <td>194611010TRH</td>\n",
       "      <td>NBA</td>\n",
       "      <td>1</td>\n",
       "      <td>1947</td>\n",
       "      <td>11/1/1946</td>\n",
       "      <td>1</td>\n",
       "      <td>0</td>\n",
       "      <td>NYK</td>\n",
       "      <td>Knicks</td>\n",
       "      <td>68</td>\n",
       "      <td>1300.0</td>\n",
       "      <td>1306.72</td>\n",
       "      <td>41.71</td>\n",
       "      <td>TRH</td>\n",
       "      <td>Huskies</td>\n",
       "      <td>66</td>\n",
       "      <td>1300.00</td>\n",
       "      <td>1293.28</td>\n",
       "      <td>A</td>\n",
       "      <td>W</td>\n",
       "      <td>0.36</td>\n",
       "      <td>NaN</td>\n",
       "    </tr>\n",
       "    <tr>\n",
       "      <th>2</th>\n",
       "      <td>2</td>\n",
       "      <td>194611020CHS</td>\n",
       "      <td>NBA</td>\n",
       "      <td>0</td>\n",
       "      <td>1947</td>\n",
       "      <td>11/2/1946</td>\n",
       "      <td>1</td>\n",
       "      <td>0</td>\n",
       "      <td>CHS</td>\n",
       "      <td>Stags</td>\n",
       "      <td>63</td>\n",
       "      <td>1300.0</td>\n",
       "      <td>1309.65</td>\n",
       "      <td>42.01</td>\n",
       "      <td>NYK</td>\n",
       "      <td>Knicks</td>\n",
       "      <td>47</td>\n",
       "      <td>1306.72</td>\n",
       "      <td>1297.07</td>\n",
       "      <td>H</td>\n",
       "      <td>W</td>\n",
       "      <td>0.63</td>\n",
       "      <td>NaN</td>\n",
       "    </tr>\n",
       "  </tbody>\n",
       "</table>\n",
       "</div>"
      ],
      "text/plain": [
       "   gameorder       game_id lg_id  _iscopy  year_id  date_game  seasongame  \\\n",
       "0          1  194611010TRH   NBA        0     1947  11/1/1946           1   \n",
       "1          1  194611010TRH   NBA        1     1947  11/1/1946           1   \n",
       "2          2  194611020CHS   NBA        0     1947  11/2/1946           1   \n",
       "\n",
       "   is_playoffs team_id  fran_id  pts   elo_i    elo_n  win_equiv opp_id  \\\n",
       "0            0     TRH  Huskies   66  1300.0  1293.28      40.29    NYK   \n",
       "1            0     NYK   Knicks   68  1300.0  1306.72      41.71    TRH   \n",
       "2            0     CHS    Stags   63  1300.0  1309.65      42.01    NYK   \n",
       "\n",
       "  opp_fran  opp_pts  opp_elo_i  opp_elo_n game_location game_result  forecast  \\\n",
       "0   Knicks       68    1300.00    1306.72             H           L      0.64   \n",
       "1  Huskies       66    1300.00    1293.28             A           W      0.36   \n",
       "2   Knicks       47    1306.72    1297.07             H           W      0.63   \n",
       "\n",
       "  notes  \n",
       "0   NaN  \n",
       "1   NaN  \n",
       "2   NaN  "
      ]
     },
     "execution_count": 3,
     "metadata": {},
     "output_type": "execute_result"
    }
   ],
   "source": [
    "download_url = \"https://raw.githubusercontent.com/fivethirtyeight/data/master/nba-elo/nbaallelo.csv\"\n",
    "df_nba = read_df_from_csv_url(download_url)\n",
    "df_nba.head(3)"
   ]
  },
  {
   "cell_type": "code",
   "execution_count": 6,
   "metadata": {
    "ExecuteTime": {
     "end_time": "2020-03-03T03:07:47.069737Z",
     "start_time": "2020-03-03T03:07:46.988951Z"
    }
   },
   "outputs": [
    {
     "data": {
      "text/html": [
       "<div>\n",
       "<style scoped>\n",
       "    .dataframe tbody tr th:only-of-type {\n",
       "        vertical-align: middle;\n",
       "    }\n",
       "\n",
       "    .dataframe tbody tr th {\n",
       "        vertical-align: top;\n",
       "    }\n",
       "\n",
       "    .dataframe thead th {\n",
       "        text-align: right;\n",
       "    }\n",
       "</style>\n",
       "<table border=\"1\" class=\"dataframe\">\n",
       "  <thead>\n",
       "    <tr style=\"text-align: right;\">\n",
       "      <th></th>\n",
       "      <th>gameorder</th>\n",
       "      <th>game_id</th>\n",
       "      <th>lg_id</th>\n",
       "      <th>_iscopy</th>\n",
       "      <th>year_id</th>\n",
       "      <th>date_game</th>\n",
       "      <th>seasongame</th>\n",
       "      <th>is_playoffs</th>\n",
       "      <th>team_id</th>\n",
       "      <th>fran_id</th>\n",
       "      <th>pts</th>\n",
       "      <th>elo_i</th>\n",
       "      <th>elo_n</th>\n",
       "      <th>win_equiv</th>\n",
       "      <th>opp_id</th>\n",
       "      <th>opp_fran</th>\n",
       "      <th>opp_pts</th>\n",
       "      <th>opp_elo_i</th>\n",
       "      <th>opp_elo_n</th>\n",
       "      <th>game_location</th>\n",
       "      <th>game_result</th>\n",
       "      <th>forecast</th>\n",
       "      <th>notes</th>\n",
       "    </tr>\n",
       "  </thead>\n",
       "  <tbody>\n",
       "    <tr>\n",
       "      <th>68901</th>\n",
       "      <td>34451</td>\n",
       "      <td>199205030LAC</td>\n",
       "      <td>NBA</td>\n",
       "      <td>0</td>\n",
       "      <td>1992</td>\n",
       "      <td>5/3/1992</td>\n",
       "      <td>86</td>\n",
       "      <td>1</td>\n",
       "      <td>LAC</td>\n",
       "      <td>Clippers</td>\n",
       "      <td>115</td>\n",
       "      <td>1546.90</td>\n",
       "      <td>1556.0</td>\n",
       "      <td>47.89</td>\n",
       "      <td>UTA</td>\n",
       "      <td>Jazz</td>\n",
       "      <td>107</td>\n",
       "      <td>1647.51</td>\n",
       "      <td>1638.41</td>\n",
       "      <td>H</td>\n",
       "      <td>W</td>\n",
       "      <td>0.50</td>\n",
       "      <td>at Anaheim, CA (Anaheim Convention Center)</td>\n",
       "    </tr>\n",
       "    <tr>\n",
       "      <th>68903</th>\n",
       "      <td>34452</td>\n",
       "      <td>199205030LAL</td>\n",
       "      <td>NBA</td>\n",
       "      <td>0</td>\n",
       "      <td>1992</td>\n",
       "      <td>5/3/1992</td>\n",
       "      <td>86</td>\n",
       "      <td>1</td>\n",
       "      <td>LAL</td>\n",
       "      <td>Lakers</td>\n",
       "      <td>76</td>\n",
       "      <td>1489.65</td>\n",
       "      <td>1474.4</td>\n",
       "      <td>39.40</td>\n",
       "      <td>POR</td>\n",
       "      <td>Trailblazers</td>\n",
       "      <td>102</td>\n",
       "      <td>1655.12</td>\n",
       "      <td>1670.37</td>\n",
       "      <td>H</td>\n",
       "      <td>L</td>\n",
       "      <td>0.41</td>\n",
       "      <td>at Las Vegas, NV</td>\n",
       "    </tr>\n",
       "  </tbody>\n",
       "</table>\n",
       "</div>"
      ],
      "text/plain": [
       "       gameorder       game_id lg_id  _iscopy  year_id date_game  seasongame  \\\n",
       "68901      34451  199205030LAC   NBA        0     1992  5/3/1992          86   \n",
       "68903      34452  199205030LAL   NBA        0     1992  5/3/1992          86   \n",
       "\n",
       "       is_playoffs team_id   fran_id  pts    elo_i   elo_n  win_equiv opp_id  \\\n",
       "68901            1     LAC  Clippers  115  1546.90  1556.0      47.89    UTA   \n",
       "68903            1     LAL    Lakers   76  1489.65  1474.4      39.40    POR   \n",
       "\n",
       "           opp_fran  opp_pts  opp_elo_i  opp_elo_n game_location game_result  \\\n",
       "68901          Jazz      107    1647.51    1638.41             H           W   \n",
       "68903  Trailblazers      102    1655.12    1670.37             H           L   \n",
       "\n",
       "       forecast                                       notes  \n",
       "68901      0.50  at Anaheim, CA (Anaheim Convention Center)  \n",
       "68903      0.41                            at Las Vegas, NV  "
      ]
     },
     "execution_count": 6,
     "metadata": {},
     "output_type": "execute_result"
    }
   ],
   "source": [
    "#In the spring of 1992, two teams from Los Angeles had to play a home game at another court.\n",
    "df_nba[(df_nba[\"_iscopy\"] == 0) &\n",
    "        (df_nba[\"team_id\"].str.startswith(\"LA\")) &\n",
    "        (df_nba[\"year_id\"]==1992) &\n",
    "        (df_nba[\"notes\"].notnull())\n",
    "]"
   ]
  },
  {
   "cell_type": "code",
   "execution_count": 13,
   "metadata": {
    "ExecuteTime": {
     "end_time": "2020-03-03T03:13:59.021087Z",
     "start_time": "2020-03-03T03:13:59.001243Z"
    }
   },
   "outputs": [
    {
     "data": {
      "text/plain": [
       "game_result  is_playoffs\n",
       "L            0              15\n",
       "             1               5\n",
       "W            0              67\n",
       "             1              16\n",
       "Name: game_id, dtype: int64"
      ]
     },
     "execution_count": 13,
     "metadata": {},
     "output_type": "execute_result"
    }
   ],
   "source": [
    "df_nba[(df_nba['fran_id'] == 'Warriors') &\n",
    "       (df_nba['year_id'] ==2015)].groupby(['game_result', 'is_playoffs']).game_id.count()"
   ]
  },
  {
   "cell_type": "code",
   "execution_count": 17,
   "metadata": {
    "ExecuteTime": {
     "end_time": "2020-03-03T03:25:51.775463Z",
     "start_time": "2020-03-03T03:25:51.769857Z"
    }
   },
   "outputs": [
    {
     "data": {
      "text/plain": [
       "0    L\n",
       "1    W\n",
       "Name: game_result, dtype: category\n",
       "Categories (2, object): [L, W]"
      ]
     },
     "execution_count": 17,
     "metadata": {},
     "output_type": "execute_result"
    }
   ],
   "source": [
    "df_nba[\"game_result\"] = pd.Categorical(df_nba[\"game_result\"])\n",
    "df_nba['game_result'].head(2)"
   ]
  },
  {
   "cell_type": "code",
   "execution_count": 18,
   "metadata": {
    "ExecuteTime": {
     "end_time": "2020-03-03T03:30:45.838822Z",
     "start_time": "2020-03-03T03:30:45.522122Z"
    }
   },
   "outputs": [],
   "source": [
    " %matplotlib inline"
   ]
  },
  {
   "cell_type": "code",
   "execution_count": 20,
   "metadata": {
    "ExecuteTime": {
     "end_time": "2020-03-03T03:31:09.352111Z",
     "start_time": "2020-03-03T03:31:09.192948Z"
    }
   },
   "outputs": [
    {
     "data": {
      "text/plain": [
       "<matplotlib.axes._subplots.AxesSubplot at 0x11a8e16a0>"
      ]
     },
     "execution_count": 20,
     "metadata": {},
     "output_type": "execute_result"
    },
    {
     "data": {
      "image/png": "[encoded data removed]",
      "text/plain": [
       "<Figure size 432x288 with 1 Axes>"
      ]
     },
     "metadata": {},
     "output_type": "display_data"
    }
   ],
   "source": [
    "df_nba[df_nba[\"fran_id\"] == \"Knicks\"].groupby(\"year_id\")[\"pts\"].sum().plot()"
   ]
  },
  {
   "cell_type": "code",
   "execution_count": 21,
   "metadata": {
    "ExecuteTime": {
     "end_time": "2020-03-03T03:31:59.170174Z",
     "start_time": "2020-03-03T03:31:59.098242Z"
    }
   },
   "outputs": [
    {
     "data": {
      "text/plain": [
       "<matplotlib.axes._subplots.AxesSubplot at 0x11b7e3d68>"
      ]
     },
     "execution_count": 21,
     "metadata": {},
     "output_type": "execute_result"
    },
    {
     "data": {
      "image/png": "[encoded data removed]",
      "text/plain": [
       "<Figure size 432x288 with 1 Axes>"
      ]
     },
     "metadata": {},
     "output_type": "display_data"
    }
   ],
   "source": [
    "df_nba[(df_nba[\"fran_id\"] == \"Heat\") &\n",
    "    (df_nba[\"year_id\"] == 2013)][\"game_result\"].value_counts().plot(kind=\"pie\")"
   ]
  },
  {
   "cell_type": "code",
   "execution_count": null,
   "metadata": {},
   "outputs": [],
   "source": []
  }
 ],
 "metadata": {
  "kernelspec": {
   "display_name": "Python 3",
   "language": "python",
   "name": "python3"
  },
  "language_info": {
   "codemirror_mode": {
    "name": "ipython",
    "version": 3
   },
   "file_extension": ".py",
   "mimetype": "text/x-python",
   "name": "python",
   "nbconvert_exporter": "python",
   "pygments_lexer": "ipython3",
   "version": "3.6.7"
  },
  "toc": {
   "base_numbering": 1,
   "nav_menu": {},
   "number_sections": true,
   "sideBar": true,
   "skip_h1_title": false,
   "title_cell": "Table of Contents",
   "title_sidebar": "Contents",
   "toc_cell": false,
   "toc_position": {},
   "toc_section_display": true,
   "toc_window_display": false
  }
 },
 "nbformat": 4,
 "nbformat_minor": 2
}
