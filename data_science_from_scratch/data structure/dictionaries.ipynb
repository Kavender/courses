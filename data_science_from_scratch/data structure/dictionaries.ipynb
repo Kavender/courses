{
 "cells": [
  {
   "cell_type": "raw",
   "metadata": {},
   "source": [
    "1. Dictionaries map keys to values and store them in an array or collection.\n",
    "2. The keys must be of a `hashable` type, which means that they must have a hash value that never changes during the key’s lifetime. AKA, mutable objects can’t be used as dictionary keys.\n",
    "3. In Python 3.6 and beyond, dictionaries are ordered data structures, which means that they keep their elements in the same order in which they were introduced. In lower verion of Python3 and Python2.7, they're not sorted.\n",
    "4. Python dictionaries are similar to lists in that they are mutable and can be nested to any arbitrary depth (constrained only by available memory).\n"
   ]
  },
  {
   "cell_type": "raw",
   "metadata": {},
   "source": [
    "The following are all immutable objects:\n",
    "Object\t          Type\n",
    "'foo'\t          `string`\n",
    "len\t              `built-in function`\n",
    "(3+2j)\t          `complex`\n",
    "('foo', 'bar')\t  `tuple`"
   ]
  },
  {
   "cell_type": "code",
   "execution_count": 26,
   "metadata": {
    "ExecuteTime": {
     "end_time": "2020-02-24T17:23:27.915955Z",
     "start_time": "2020-02-24T17:23:27.913722Z"
    }
   },
   "outputs": [],
   "source": [
    "import itertools"
   ]
  },
  {
   "cell_type": "markdown",
   "metadata": {},
   "source": [
    "##### Modifying Values and Keys"
   ]
  },
  {
   "cell_type": "code",
   "execution_count": 1,
   "metadata": {
    "ExecuteTime": {
     "end_time": "2020-02-24T16:29:29.216583Z",
     "start_time": "2020-02-24T16:29:29.197710Z"
    }
   },
   "outputs": [
    {
     "name": "stdout",
     "output_type": "stream",
     "text": [
      "increased prices {'apple': 0.44, 'orange': 0.39, 'banana': 0.28}\n"
     ]
    }
   ],
   "source": [
    "# The values, for example, can be modified whenever you need, but you’ll need to use the original dictionary and the key that maps the value you want to modify:\n",
    "prices = {'apple': 0.40, 'orange': 0.35, 'banana': 0.25}\n",
    "\n",
    "# increase item price by 10%\n",
    "for k, v in prices.items():\n",
    "    prices[k] = round(v * 1.1, 2)\n",
    "\n",
    "print(\"increased prices\", prices)"
   ]
  },
  {
   "cell_type": "code",
   "execution_count": 5,
   "metadata": {
    "ExecuteTime": {
     "end_time": "2020-02-24T16:34:08.075599Z",
     "start_time": "2020-02-24T16:34:07.958787Z"
    }
   },
   "outputs": [
    {
     "name": "stdout",
     "output_type": "stream",
     "text": [
      "filter out orgnae: {'apple': 0.4, 'banana': 0.25}\n"
     ]
    },
    {
     "ename": "RuntimeError",
     "evalue": "dictionary changed size during iteration",
     "output_type": "error",
     "traceback": [
      "\u001b[0;31m---------------------------------------------------------------------------\u001b[0m",
      "\u001b[0;31mRuntimeError\u001b[0m                              Traceback (most recent call last)",
      "\u001b[0;32m<ipython-input-5-2980004159ce>\u001b[0m in \u001b[0;36m<module>\u001b[0;34m\u001b[0m\n\u001b[1;32m     14\u001b[0m \u001b[0;31m# However, if you try to remove a key from prices by using .keys() directly, then Python will raise a RuntimeError telling you that the dictionary’s size has changed during iteration:\u001b[0m\u001b[0;34m\u001b[0m\u001b[0;34m\u001b[0m\u001b[0;34m\u001b[0m\u001b[0m\n\u001b[1;32m     15\u001b[0m \u001b[0mprices\u001b[0m \u001b[0;34m=\u001b[0m \u001b[0;34m{\u001b[0m\u001b[0;34m'apple'\u001b[0m\u001b[0;34m:\u001b[0m \u001b[0;36m0.40\u001b[0m\u001b[0;34m,\u001b[0m \u001b[0;34m'orange'\u001b[0m\u001b[0;34m:\u001b[0m \u001b[0;36m0.35\u001b[0m\u001b[0;34m,\u001b[0m \u001b[0;34m'banana'\u001b[0m\u001b[0;34m:\u001b[0m \u001b[0;36m0.25\u001b[0m\u001b[0;34m}\u001b[0m\u001b[0;34m\u001b[0m\u001b[0;34m\u001b[0m\u001b[0m\n\u001b[0;32m---> 16\u001b[0;31m \u001b[0;32mfor\u001b[0m \u001b[0mkey\u001b[0m \u001b[0;32min\u001b[0m \u001b[0mprices\u001b[0m\u001b[0;34m:\u001b[0m\u001b[0;34m\u001b[0m\u001b[0;34m\u001b[0m\u001b[0m\n\u001b[0m\u001b[1;32m     17\u001b[0m     \u001b[0;32mif\u001b[0m \u001b[0mfilter_orange\u001b[0m\u001b[0;34m(\u001b[0m\u001b[0mkey\u001b[0m\u001b[0;34m)\u001b[0m\u001b[0;34m:\u001b[0m\u001b[0;34m\u001b[0m\u001b[0;34m\u001b[0m\u001b[0m\n\u001b[1;32m     18\u001b[0m         \u001b[0;32mdel\u001b[0m \u001b[0mprices\u001b[0m\u001b[0;34m[\u001b[0m\u001b[0mkey\u001b[0m\u001b[0;34m]\u001b[0m\u001b[0;34m\u001b[0m\u001b[0;34m\u001b[0m\u001b[0m\n",
      "\u001b[0;31mRuntimeError\u001b[0m: dictionary changed size during iteration"
     ]
    }
   ],
   "source": [
    "# The keys can be added or removed from a dictionary by converting the view returned by .keys() into a list object:\n",
    "prices = {'apple': 0.40, 'orange': 0.35, 'banana': 0.25}\n",
    "\n",
    "## safe way to iterate through dictionary while modify the key based on condition\n",
    "filter_orange = lambda x: x == 'orange'\n",
    "\n",
    "for key in list(prices.keys()): # inefficient memory consumption\n",
    "    if filter_orange(key):\n",
    "        del prices[key]\n",
    "\n",
    "print(\"filter out orgnae:\", prices)\n",
    "\n",
    "\n",
    "# However, if you try to remove a key from prices by using .keys() directly, then Python will raise a RuntimeError telling you that the dictionary’s size has changed during iteration:\n",
    "prices = {'apple': 0.40, 'orange': 0.35, 'banana': 0.25}\n",
    "for key in prices:\n",
    "    if filter_orange(key):\n",
    "        del prices[key]"
   ]
  },
  {
   "cell_type": "markdown",
   "metadata": {
    "ExecuteTime": {
     "end_time": "2020-02-24T16:42:53.266932Z",
     "start_time": "2020-02-24T16:42:53.264254Z"
    }
   },
   "source": [
    "##### Iterating in Sorted Order"
   ]
  },
  {
   "cell_type": "code",
   "execution_count": 8,
   "metadata": {
    "ExecuteTime": {
     "end_time": "2020-02-24T16:44:19.167905Z",
     "start_time": "2020-02-24T16:44:19.161823Z"
    }
   },
   "outputs": [
    {
     "name": "stdout",
     "output_type": "stream",
     "text": [
      "apple -> 5600.0\n",
      "banana -> 5000.0\n",
      "orange -> 3500.0\n"
     ]
    }
   ],
   "source": [
    "incomes = {'apple': 5600.00, 'orange': 3500.00, 'banana': 5000.00}\n",
    "\n",
    "## sort by value descending\n",
    "for k, v in sorted(incomes.items(), key=lambda tup: tup[1], reverse=True):\n",
    "    print(k, \"->\", v)"
   ]
  },
  {
   "cell_type": "markdown",
   "metadata": {},
   "source": [
    "##### Iterating Destructively With .popitem()"
   ]
  },
  {
   "cell_type": "code",
   "execution_count": 9,
   "metadata": {
    "ExecuteTime": {
     "end_time": "2020-02-24T16:49:24.856330Z",
     "start_time": "2020-02-24T16:49:24.849028Z"
    }
   },
   "outputs": [
    {
     "name": "stdout",
     "output_type": "stream",
     "text": [
      "('pet', 'dog') has been removed from dictionary\n",
      "('fruit', 'apple') has been removed from dictionary\n",
      "('color', 'blue') has been removed from dictionary\n",
      "empty dictionary, stop\n"
     ]
    }
   ],
   "source": [
    "# we can use .popitem() while iterate through a dictionary in Python and delete its items sequentially.\n",
    "# for empty dictionary, it will raise KeyError\n",
    "a_dict = {'color': 'blue', 'fruit': 'apple', 'pet': 'dog'}\n",
    "\n",
    "while True:\n",
    "    try:\n",
    "        item = a_dict.popitem()\n",
    "        print(f\"{item} has been removed from dictionary\")\n",
    "    except KeyError:\n",
    "        print(\"empty dictionary, stop\")\n",
    "        break"
   ]
  },
  {
   "cell_type": "markdown",
   "metadata": {},
   "source": [
    "##### apply map(), filter(), reduce() on dictionary"
   ]
  },
  {
   "cell_type": "code",
   "execution_count": 22,
   "metadata": {
    "ExecuteTime": {
     "end_time": "2020-02-24T17:10:03.551094Z",
     "start_time": "2020-02-24T17:10:03.546495Z"
    }
   },
   "outputs": [],
   "source": [
    "discount = lambda cat_price: (cat_price[0], round(cat_price[1] * 0.9, 2))\n",
    "target_price = 0.4\n",
    "lower_than_target = lambda cat_price: cat_price[1] < target_price"
   ]
  },
  {
   "cell_type": "code",
   "execution_count": 23,
   "metadata": {
    "ExecuteTime": {
     "end_time": "2020-02-24T17:10:03.711570Z",
     "start_time": "2020-02-24T17:10:03.706667Z"
    }
   },
   "outputs": [
    {
     "name": "stdout",
     "output_type": "stream",
     "text": [
      "after discount applied: {'apple': 0.36, 'orange': 0.32, 'banana': 0.23}\n",
      "price lower than 0.4: {'orange': 0.35, 'banana': 0.25}\n"
     ]
    }
   ],
   "source": [
    "prices = {'apple': 0.40, 'orange': 0.35, 'banana': 0.25}\n",
    "discounted_prices = dict(map(discount, prices.items()))\n",
    "print(\"after discount applied:\", discounted_prices)\n",
    "\n",
    "lower_prices = dict(filter(lower_than_target, prices.items()))\n",
    "print(f\"price lower than {target_price}:\", lower_prices)"
   ]
  },
  {
   "cell_type": "markdown",
   "metadata": {
    "ExecuteTime": {
     "end_time": "2020-02-24T17:09:10.040593Z",
     "start_time": "2020-02-24T17:09:10.035123Z"
    }
   },
   "source": [
    "##### Using itertools"
   ]
  },
  {
   "cell_type": "code",
   "execution_count": 27,
   "metadata": {
    "ExecuteTime": {
     "end_time": "2020-02-24T17:23:30.747678Z",
     "start_time": "2020-02-24T17:23:30.741317Z"
    }
   },
   "outputs": [
    {
     "name": "stdout",
     "output_type": "stream",
     "text": [
      "('apple', 0.4)\n",
      "('orange', 0.35)\n",
      "('banana', 0.25)\n",
      "('apple', 0.4)\n",
      "('orange', 0.35)\n",
      "('banana', 0.25)\n",
      "('apple', 0.4)\n",
      "('orange', 0.35)\n",
      "('banana', 0.25)\n"
     ]
    }
   ],
   "source": [
    "#### iterate through dictionary multiple times in a single loop with `cycle`\n",
    "\n",
    "prices = {'apple': 0.40, 'orange': 0.35, 'banana': 0.25}\n",
    "times = 3  # Define how many times you need to iterate through prices\n",
    "total_items = times * len(prices)\n",
    "\n",
    "for item in itertools.cycle(prices.items()):\n",
    "    if not total_items:\n",
    "        break\n",
    "    total_items -= 1\n",
    "    print(item)"
   ]
  },
  {
   "cell_type": "code",
   "execution_count": 28,
   "metadata": {
    "ExecuteTime": {
     "end_time": "2020-02-24T17:24:53.087696Z",
     "start_time": "2020-02-24T17:24:53.081325Z"
    }
   },
   "outputs": [
    {
     "name": "stdout",
     "output_type": "stream",
     "text": [
      "('apple', 0.4)\n",
      "('orange', 0.35)\n",
      "('banana', 0.25)\n",
      "('pepper', 0.2)\n",
      "('onion', 0.55)\n",
      "('tomato', 0.42)\n"
     ]
    }
   ],
   "source": [
    "#itertools also provides chain(*iterables), which gets some iterables as arguments and makes an iterator that yields elements from the first iterable until it’s exhausted, then iterates over the next iterable and so on, until all of them are exhausted.\n",
    "\n",
    "fruit_prices = {'apple': 0.40, 'orange': 0.35, 'banana': 0.25}\n",
    "vegetable_prices = {'pepper': 0.20, 'onion': 0.55, 'tomato': 0.42}\n",
    "\n",
    "for item in itertools.chain(fruit_prices.items(), vegetable_prices.items()):\n",
    "    print(item)"
   ]
  },
  {
   "cell_type": "code",
   "execution_count": 31,
   "metadata": {
    "ExecuteTime": {
     "end_time": "2020-02-24T17:26:54.703778Z",
     "start_time": "2020-02-24T17:26:54.699334Z"
    }
   },
   "outputs": [
    {
     "name": "stdout",
     "output_type": "stream",
     "text": [
      "apple -> 0.4\n",
      "orange -> 0.35\n",
      "banana -> 0.25\n",
      "pepper -> 0.2\n",
      "onion -> 0.55\n",
      "tomato -> 0.42\n"
     ]
    }
   ],
   "source": [
    "# Alternatively, we can unpack Dictionary with **\n",
    "\n",
    "for k, v in {**fruit_prices, **vegetable_prices}.items():\n",
    "    print(k, \"->\", v)"
   ]
  },
  {
   "cell_type": "code",
   "execution_count": null,
   "metadata": {},
   "outputs": [],
   "source": []
  }
 ],
 "metadata": {
  "hide_input": false,
  "kernelspec": {
   "display_name": "Python 3",
   "language": "python",
   "name": "python3"
  },
  "language_info": {
   "codemirror_mode": {
    "name": "ipython",
    "version": 3
   },
   "file_extension": ".py",
   "mimetype": "text/x-python",
   "name": "python",
   "nbconvert_exporter": "python",
   "pygments_lexer": "ipython3",
   "version": "3.7.3"
  },
  "toc": {
   "base_numbering": 1,
   "nav_menu": {},
   "number_sections": true,
   "sideBar": true,
   "skip_h1_title": false,
   "title_cell": "Table of Contents",
   "title_sidebar": "Contents",
   "toc_cell": false,
   "toc_position": {},
   "toc_section_display": true,
   "toc_window_display": false
  },
  "varInspector": {
   "cols": {
    "lenName": 16,
    "lenType": 16,
    "lenVar": 40
   },
   "kernels_config": {
    "python": {
     "delete_cmd_postfix": "",
     "delete_cmd_prefix": "del ",
     "library": "var_list.py",
     "varRefreshCmd": "print(var_dic_list())"
    },
    "r": {
     "delete_cmd_postfix": ") ",
     "delete_cmd_prefix": "rm(",
     "library": "var_list.r",
     "varRefreshCmd": "cat(var_dic_list()) "
    }
   },
   "types_to_exclude": [
    "module",
    "function",
    "builtin_function_or_method",
    "instance",
    "_Feature"
   ],
   "window_display": false
  }
 },
 "nbformat": 4,
 "nbformat_minor": 2
}
