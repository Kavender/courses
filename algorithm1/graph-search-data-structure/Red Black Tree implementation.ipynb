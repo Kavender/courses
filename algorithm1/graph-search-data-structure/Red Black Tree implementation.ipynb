{
 "cells": [
  {
   "cell_type": "code",
   "execution_count": null,
   "metadata": {},
   "outputs": [],
   "source": [
    "\"\"\"\n",
    "RESOURCES: http://pages.cs.wisc.edu/~skrentny/cs367-common/readings/Red-Black-Trees/\n",
    "\"\"\""
   ]
  },
  {
   "cell_type": "code",
   "execution_count": 15,
   "metadata": {},
   "outputs": [],
   "source": [
    "class RB_Node:\n",
    "    def __init__(self):\n",
    "        self.color = \"B\" # or \"Red\"\n",
    "        self.value = None\n",
    "        self.left = None\n",
    "        self.right = None\n",
    "        self.parent = None\n",
    "        self.is_root = False\n",
    "    def setColor(self, color):\n",
    "        self.color = color\n",
    "    def isBlack(self):\n",
    "        return self.color == \"B\"\n",
    "    def isRed(self):\n",
    "        return self.color == \"R\"\n",
    "    def getSibling(self):\n",
    "        if self.parent:\n",
    "            if parent.left != self:\n",
    "                return parent.right\n",
    "            elif parent.right != self:\n",
    "                return parent.left\n",
    "        return None\n",
    "    def getUncle(self):\n",
    "        if self.parent:\n",
    "            return self.parent.getSibling()\n",
    "        return None"
   ]
  },
  {
   "cell_type": "code",
   "execution_count": 16,
   "metadata": {},
   "outputs": [],
   "source": [
    "def insert_node(root, node):\n",
    "    if root is None:\n",
    "        # Case 1: if tree is empty, set node to the root as Black\n",
    "        root = node\n",
    "        root.is_root = True\n",
    "    elif root.value < node.value:\n",
    "        # insert to the right child\n",
    "        if root.right:\n",
    "            \n",
    "            insert_node(root.right, node)\n",
    "        else:\n",
    "            root.right = node\n",
    "            node.parent = root.right\n",
    "    else:\n",
    "        if root.left: \n",
    "            insert_node(root.left, node)\n",
    "        else:\n",
    "            root.left = node\n",
    "            node.parent = root.left"
   ]
  },
  {
   "cell_type": "code",
   "execution_count": 17,
   "metadata": {},
   "outputs": [],
   "source": [
    "def insert_rb_node(root, node):\n",
    "    insert_node(root, node)\n",
    "    # case 1 is handled above\n",
    "    # case 2 parent is black\n",
    "    if node.parent.isBlack():\n",
    "        pass\n",
    "    # case 3 parent is red\n",
    "    if node.parent.isRed():\n",
    "        uncle = node.getUncle()\n",
    "        if uncle.isRed():\n",
    "            # case 3.1, parent and uncle are red, violate P4, recolor parent&uncle to black, grandparent to red\n",
    "            node.getUncle.setColor('B')\n",
    "            node.parent.setColor('B')\n",
    "            if node.parent.parent.is_root:\n",
    "                node.parent.parent.setColor('R')\n",
    "        else:\n",
    "            # case 3.2, parent is red while uncle is black or null\n",
    "            \n",
    "\n"
   ]
  },
  {
   "cell_type": "code",
   "execution_count": 4,
   "metadata": {},
   "outputs": [],
   "source": [
    "root = RB_Node()\n",
    "\n",
    "for i in [1,2,3,4]:\n",
    "    node = RB_Node()\n",
    "    node.setRed() # node.setBlack()\n",
    "    root.setLeftChild(node) # root.setRightChild(node)\n",
    "    \n"
   ]
  }
 ],
 "metadata": {
  "kernelspec": {
   "display_name": "Python 3",
   "language": "python",
   "name": "python3"
  },
  "language_info": {
   "codemirror_mode": {
    "name": "ipython",
    "version": 3
   },
   "file_extension": ".py",
   "mimetype": "text/x-python",
   "name": "python",
   "nbconvert_exporter": "python",
   "pygments_lexer": "ipython3",
   "version": "3.6.7"
  }
 },
 "nbformat": 4,
 "nbformat_minor": 2
}
