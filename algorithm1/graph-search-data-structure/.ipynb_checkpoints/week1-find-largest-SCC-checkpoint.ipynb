{
 "cells": [
  {
   "cell_type": "markdown",
   "metadata": {},
   "source": [
    "The file contains the edges of a directed graph. Vertices are labeled as positive integers from 1 to 875714. Every row indicates an edge, the vertex label in first column is the tail and the vertex label in second column is the head (recall the graph is directed, and the edges are directed from the first column vertex to the second column vertex). So for example, the 11^{th}11 \n",
    "th\n",
    "  row looks liks : \"2 47646\". This just means that the vertex with label 2 has an outgoing edge to the vertex with label 47646\n",
    "\n",
    "Your task is to code up the algorithm from the video lectures for computing strongly connected components (SCCs), and to run this algorithm on the given graph.\n",
    "\n",
    "Output Format: You should output the sizes of the 5 largest SCCs in the given graph, in decreasing order of sizes, separated by commas (avoid any spaces). So if your algorithm computes the sizes of the five largest SCCs to be 500, 400, 300, 200 and 100, then your answer should be \"500,400,300,200,100\" (without the quotes). If your algorithm finds less than 5 SCCs, then write 0 for the remaining terms. Thus, if your algorithm computes only 3 SCCs whose sizes are 400, 300, and 100, then your answer should be \"400,300,100,0,0\" (without the quotes). (Note also that your answer should not have any spaces in it.)\n",
    "\n",
    "WARNING: This is the most challenging programming assignment of the course. Because of the size of the graph you may have to manage memory carefully. The best way to do this depends on your programming language and environment, and we strongly suggest that you exchange tips for doing this on the discussion forums."
   ]
  },
  {
   "cell_type": "code",
   "execution_count": 214,
   "metadata": {},
   "outputs": [],
   "source": [
    "import os\n",
    "import sys\n",
    "from collections import deque\n",
    "from operator import itemgetter"
   ]
  },
  {
   "cell_type": "code",
   "execution_count": 5,
   "metadata": {},
   "outputs": [],
   "source": [
    "data_folder = os.path.join(os.path.dirname(os.path.dirname(os.getcwd())), 'data')\n",
    "fname_input = data_folder +\"/SCC.txt\""
   ]
  },
  {
   "cell_type": "code",
   "execution_count": 139,
   "metadata": {},
   "outputs": [
    {
     "name": "stdout",
     "output_type": "stream",
     "text": [
      "double check on the input read: 739453 739453 714547\n"
     ]
    }
   ],
   "source": [
    "# chnage to two adjacent list for efficiency refactoring\n",
    "lst_tails, lst_heads = [], []\n",
    "reversed_graph = {}\n",
    "\n",
    "\n",
    "with open(fname_input, \"r\") as f:\n",
    "    prev_tail = 0\n",
    "    head_list = []\n",
    "    for line in f:\n",
    "        tail, head = [int(v) for v in line.split()]\n",
    "        reversed_graph.setdefault(head, []).append(tail)\n",
    "        if tail == prev_tail:\n",
    "            head_list.append(head)\n",
    "        else:\n",
    "            if prev_tail:\n",
    "                lst_tails.append(prev_tail)\n",
    "                lst_heads.append(head_list)\n",
    "            head_list=[head]\n",
    "            prev_tail = tail\n",
    "print(\"double check on the input read:\", len(lst_tails), len(lst_heads), len(reversed_graph))"
   ]
  },
  {
   "cell_type": "code",
   "execution_count": 140,
   "metadata": {},
   "outputs": [
    {
     "name": "stdout",
     "output_type": "stream",
     "text": [
      "check first run pass with reversed edges: 714547 714547\n"
     ]
    }
   ],
   "source": [
    "reversed_tails, reversed_heads = [], []\n",
    "for tail, head_list in reversed_graph.items():\n",
    "    reversed_tails.append(tail)\n",
    "    reversed_heads.append(head_list)\n",
    "print(\"check first run pass with reversed edges:\", len(reversed_tails), len(reversed_heads))"
   ]
  },
  {
   "cell_type": "code",
   "execution_count": 211,
   "metadata": {},
   "outputs": [],
   "source": [
    "def DFS_Loop(lst_tails, lst_nodes, sorted_lst):\n",
    "    global time\n",
    "    time = 0\n",
    "    global source_vertex\n",
    "    source_vertex = None\n",
    "    global finished_nodes\n",
    "    finished_nodes = []\n",
    "    global leaders\n",
    "    leaders = {}\n",
    "    global visited\n",
    "    visited = set()\n",
    "    for node_i in sorted_lst:\n",
    "        if node_i in visited:\n",
    "            continue\n",
    "        source_vertex = node_i\n",
    "        DFS(lst_tails, lst_nodes, node_i)\n"
   ]
  },
  {
   "cell_type": "code",
   "execution_count": 210,
   "metadata": {},
   "outputs": [],
   "source": [
    "def DFS(lst_tails, lst_nodes, node_i):\n",
    "    global visited\n",
    "    global source_vertex\n",
    "    global leaders\n",
    "    visited.add(node_i)\n",
    "    \n",
    "    leaders.setdefault(source_vertex, []).append(node_i)\n",
    "    try:\n",
    "        pos_node = lst_tails.index(node_i)\n",
    "        arc = lst_nodes[pos_node]\n",
    "        #print((node_i, arc))\n",
    "    except ValueError:\n",
    "        arc = []\n",
    "    for node_j in arc:\n",
    "        if node_j not in visited:\n",
    "            DFS(lst_tails, lst_nodes, node_j)\n",
    "    \n",
    "    global time\n",
    "    time += 1\n",
    "    global finished_nodes\n",
    "    finished_nodes.append(node_i)\n",
    "    #print(finished_nodes)"
   ]
  },
  {
   "cell_type": "code",
   "execution_count": 184,
   "metadata": {},
   "outputs": [],
   "source": [
    "test_tails = [1, 2, 3,4,]\n",
    "test_heads = [[2], [3], [1]]\n",
    "\n",
    "r_test_tails = [1,2,3]\n",
    "r_test_heads = [[3],[1], [2]]"
   ]
  },
  {
   "cell_type": "code",
   "execution_count": 208,
   "metadata": {},
   "outputs": [],
   "source": [
    "r_t2_tails = [1,2,3,4,5,6,7,8,9]\n",
    "r_t2_heads = [[7], [5],[9],[1],[8],[3,8],[4,9],[2],[6]]\n",
    "t2_tails = [1,2,3,4,5,6,7,8,9]\n",
    "t2_heads = [[4],[8],[6],[7],[2],[9],[1],[5,6],[3,7]]"
   ]
  },
  {
   "cell_type": "code",
   "execution_count": 215,
   "metadata": {
    "scrolled": true
   },
   "outputs": [
    {
     "name": "stdout",
     "output_type": "stream",
     "text": [
      "[3, 5, 2, 8, 6, 9, 1, 4, 7]\n",
      "---------\n",
      "{7: [7, 1, 4], 9: [9, 3, 6], 8: [8, 5, 2]}\n"
     ]
    }
   ],
   "source": [
    "leaders = {}\n",
    "finished_nodes = []\n",
    "DFS_Loop(r_t2_tails, r_t2_heads, reversed(r_t2_tails))\n",
    "print(finished_nodes)\n",
    "print(\"---------\")\n",
    "DFS_Loop(t2_tails, t2_heads, reversed(finished_nodes))\n",
    "print(leaders)"
   ]
  },
  {
   "cell_type": "code",
   "execution_count": 186,
   "metadata": {},
   "outputs": [
    {
     "name": "stdout",
     "output_type": "stream",
     "text": [
      "[2, 1, 3]\n",
      "{3: [3, 1, 2]}\n"
     ]
    }
   ],
   "source": [
    "leaders = {}\n",
    "finished_nodes = []\n",
    "DFS_Loop(r_test_tails, r_test_heads)\n",
    "DFS_Loop(finished_nodes, test_heads)\n",
    "print(finished_nodes)\n",
    "print(leaders)"
   ]
  },
  {
   "cell_type": "code",
   "execution_count": null,
   "metadata": {
    "scrolled": true
   },
   "outputs": [],
   "source": [
    "sys.setrecursionlimit(1000000)\n",
    "leaders = {}\n",
    "finished_nodes = []\n",
    "DFS_Loop(reversed_tails, reversed_heads, reversed(reversed_tails))\n",
    "DFS_Loop(lst_tails, lst_heads, reversed(finished_nodes))\n",
    "print(len(leaders))"
   ]
  },
  {
   "cell_type": "code",
   "execution_count": 31,
   "metadata": {},
   "outputs": [],
   "source": [
    "def scc_finder(leaders):\n",
    "    # from the highest \n",
    "    lst_scc_size = []\n",
    "    for leader_node in leaders:\n",
    "        lst_scc_size.append((leader_node, len(leaders[leader_node])))\n",
    "    sorted_scc_size = sorted(lst_scc_size, key = itemgetter(1), reverse=True)\n",
    "    return sorted_scc_size"
   ]
  },
  {
   "cell_type": "code",
   "execution_count": 112,
   "metadata": {},
   "outputs": [
    {
     "data": {
      "text/plain": [
       "695495"
      ]
     },
     "execution_count": 112,
     "metadata": {},
     "output_type": "execute_result"
    }
   ],
   "source": []
  },
  {
   "cell_type": "code",
   "execution_count": null,
   "metadata": {},
   "outputs": [],
   "source": []
  }
 ],
 "metadata": {
  "kernelspec": {
   "display_name": "Python 3",
   "language": "python",
   "name": "python3"
  },
  "language_info": {
   "codemirror_mode": {
    "name": "ipython",
    "version": 3
   },
   "file_extension": ".py",
   "mimetype": "text/x-python",
   "name": "python",
   "nbconvert_exporter": "python",
   "pygments_lexer": "ipython3",
   "version": "3.6.7"
  }
 },
 "nbformat": 4,
 "nbformat_minor": 2
}
