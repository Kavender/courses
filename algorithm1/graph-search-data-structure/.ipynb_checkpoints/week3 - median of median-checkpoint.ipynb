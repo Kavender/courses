{
 "cells": [
  {
   "cell_type": "markdown",
   "metadata": {},
   "source": [
    "Implement Heap application: Median Maintenence.\n",
    "\n",
    "Median.txt: undirected weighted graph with 10,000 integers with unsorted order\n",
    "\n",
    "https://github.com/SSQ/Coursera-Stanford-Graph-Search-Shortest-Paths-and-Data-Structures/blob/master/Lecture%20Slides/12.2-slides_algo-ds-heaps-basics_typed.pdf"
   ]
  },
  {
   "cell_type": "code",
   "execution_count": 1,
   "metadata": {},
   "outputs": [],
   "source": [
    "import os\n",
    "import heapq"
   ]
  },
  {
   "cell_type": "code",
   "execution_count": 6,
   "metadata": {},
   "outputs": [],
   "source": [
    "data_folder = os.path.join(os.path.dirname(os.path.dirname(os.getcwd())), 'data')\n",
    "fname_input = os.path.join(data_folder, \"Median.txt\")"
   ]
  },
  {
   "cell_type": "code",
   "execution_count": 11,
   "metadata": {},
   "outputs": [
    {
     "name": "stdout",
     "output_type": "stream",
     "text": [
      "Check unsorted graph nodes: 10000 [6331, 2793, 1640, 9290, 225]\n"
     ]
    }
   ],
   "source": [
    "unsorted_nodes = []\n",
    "with open(fname_input, \"r\") as f:\n",
    "    for line in f:\n",
    "        unsorted_nodes.append(int(line.split()[0]))\n",
    "print(\"Check unsorted graph nodes:\", len(unsorted_nodes), unsorted_nodes[0:5])"
   ]
  },
  {
   "cell_type": "code",
   "execution_count": 133,
   "metadata": {},
   "outputs": [],
   "source": [
    "class MinHeap(object):\n",
    "    def __init__(self): \n",
    "        self.h = []\n",
    "    def heappush(self,x): \n",
    "        heapq.heappush(self.h, x)\n",
    "    def heappop(self): \n",
    "        return heapq.heappop(self.h)\n",
    "    def nsmallest(self, n):\n",
    "        return heapq.nsmallest(n, self.h)\n",
    "    def nlargest(self, n):\n",
    "        return heapq.nlargest(n, self.h)\n",
    "    def __getitem__(self,i): \n",
    "        return self.h[i]\n",
    "    def __len__(self): \n",
    "        return len(self.h)"
   ]
  },
  {
   "cell_type": "code",
   "execution_count": 134,
   "metadata": {},
   "outputs": [],
   "source": [
    "class MaxHeapObj(object):\n",
    "    def __init__(self, val): \n",
    "        self.val = val\n",
    "    def __lt__(self,other): \n",
    "        return self.val > other.val\n",
    "    def __eq__(self,other): \n",
    "        return self.val == other.val\n",
    "    def __str__(self): \n",
    "        return str(self.val)"
   ]
  },
  {
   "cell_type": "code",
   "execution_count": 153,
   "metadata": {},
   "outputs": [],
   "source": [
    "class MaxHeap(MinHeap):\n",
    "    def heappush(self,x): \n",
    "        heapq.heappush(self.h, MaxHeapObj(x))\n",
    "    def heappop(self):\n",
    "        return heapq.heappop(self.h).val\n",
    "    def nsmallest(self, n):\n",
    "        return [item.val for item in heapq.nlargest(n, self.h)]\n",
    "    def nlargest(self, n):\n",
    "        return [item.val for item in heapq.nsmallest(n, self.h)]\n",
    "    def __getitem__(self,i):\n",
    "        return self.h[i].val"
   ]
  },
  {
   "cell_type": "code",
   "execution_count": 157,
   "metadata": {},
   "outputs": [],
   "source": [
    "lowerh = MaxHeap() # Extract Max (heappop)\n",
    "higherh = MinHeap() # Extract Min (heappop)\n",
    "lst_median = []\n",
    "for node_val in unsorted_nodes:\n",
    "    if not lowerh:\n",
    "        lowerh.heappush(node_val)\n",
    "    elif node_val <= lowerh.nlargest(1)[0]:\n",
    "        lowerh.heappush(node_val)\n",
    "    else:\n",
    "        higherh.heappush(node_val)\n",
    "    if len(higherh) - len(lowerh) > 1:\n",
    "        lowerh.heappush(higherh.heappop())\n",
    "    elif len(lowerh) - len(higherh) > 1:\n",
    "        higherh.heappush(lowerh.heappop())\n",
    "    if len(lowerh) >= len(higherh):   \n",
    "        median = lowerh.nlargest(1)[0]\n",
    "    else:\n",
    "        median = higherh.nsmallest(1)[0]\n",
    "    lst_median.append(median)\n",
    "# expected: 1213"
   ]
  },
  {
   "cell_type": "code",
   "execution_count": 158,
   "metadata": {},
   "outputs": [
    {
     "data": {
      "text/plain": [
       "1213"
      ]
     },
     "execution_count": 158,
     "metadata": {},
     "output_type": "execute_result"
    }
   ],
   "source": [
    "sum(lst_median) % len(lst_median)"
   ]
  }
 ],
 "metadata": {
  "kernelspec": {
   "display_name": "Python 3",
   "language": "python",
   "name": "python3"
  },
  "language_info": {
   "codemirror_mode": {
    "name": "ipython",
    "version": 3
   },
   "file_extension": ".py",
   "mimetype": "text/x-python",
   "name": "python",
   "nbconvert_exporter": "python",
   "pygments_lexer": "ipython3",
   "version": "3.6.7"
  }
 },
 "nbformat": 4,
 "nbformat_minor": 2
}
