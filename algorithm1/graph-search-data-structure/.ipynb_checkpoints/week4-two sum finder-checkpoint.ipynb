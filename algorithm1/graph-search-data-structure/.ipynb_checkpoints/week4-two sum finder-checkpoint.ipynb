{
 "cells": [
  {
   "cell_type": "markdown",
   "metadata": {},
   "source": [
    "The goal of this problem is to implement a variant of the 2-SUM algorithm covered in this week's lectures.\n",
    "\n",
    "The file contains 1 million integers, both positive and negative (there might be some repetitions!).This is your array of integers, with the i^{th}i \n",
    "th\n",
    "  row of the file specifying the i^{th}i \n",
    "th\n",
    "  entry of the array.\n",
    "\n",
    "Your task is to compute the number of target values tt in the interval [-10000,10000] (inclusive) such that there are distinct numbers x,yx,y in the input file that satisfy x+y=t. (NOTE: ensuring distinctness requires a one-line addition to the algorithm from lecture.)\n",
    "\n",
    "Write your numeric answer (an integer between 0 and 20001) in the space provided.\n",
    "\n",
    "OPTIONAL CHALLENGE: If this problem is too easy for you, try implementing your own hash table for it. For example, you could compare performance under the chaining and open addressing approaches to resolving collisions."
   ]
  },
  {
   "cell_type": "code",
   "execution_count": 49,
   "metadata": {},
   "outputs": [],
   "source": [
    "import os\n",
    "import time\n",
    "from math import floor, ceil"
   ]
  },
  {
   "cell_type": "code",
   "execution_count": 6,
   "metadata": {},
   "outputs": [],
   "source": [
    "data_folder = os.path.join(os.path.dirname(os.path.dirname(os.getcwd())), 'data')\n",
    "fname_input = data_folder + \"/algo1-programming_prob-2sum.txt\""
   ]
  },
  {
   "cell_type": "code",
   "execution_count": 11,
   "metadata": {},
   "outputs": [
    {
     "name": "stdout",
     "output_type": "stream",
     "text": [
      "check input array: 1000000 | -99999887310 99999662302\n"
     ]
    }
   ],
   "source": [
    "lst_integer = []\n",
    "count = 0\n",
    "with open(fname_input, \"r\") as f:\n",
    "    for line in f:\n",
    "        lst_integer.append(int(line.split()[0]))\n",
    "print(\"check input array:\", len(lst_integer), \"|\", min(lst_integer), max(lst_integer))"
   ]
  },
  {
   "cell_type": "code",
   "execution_count": 55,
   "metadata": {},
   "outputs": [],
   "source": [
    "def binary_search(arr, start_idx, end_idx, x):\n",
    "    \"\"\"\n",
    "    Compare x with the middle element.\n",
    "    If x matches with middle element, we return the mid index.\n",
    "    Else If x is greater than the mid element, then x can only lie in right half subarray after the mid element. So we recur for right half.\n",
    "    Else (x is smaller) recur for the left half.\n",
    "    \"\"\"\n",
    "    if start_idx < end_idx:\n",
    "        mid_idx = start_idx + floor((end_idx - start_idx)/2)\n",
    "        if arr[mid_idx] == x:\n",
    "            return mid_idx\n",
    "        elif x > arr[mid_idx]:\n",
    "            return binary_search(arr, mid_idx + 1, end_idx, x)\n",
    "        else:\n",
    "            return binary_search(arr, start_idx, mid_idx, x)\n",
    "    return -1\n"
   ]
  },
  {
   "cell_type": "code",
   "execution_count": 66,
   "metadata": {},
   "outputs": [],
   "source": [
    "def binarySearch(arr, x):\n",
    "    low, high = 0, len(arr)-1\n",
    "    while low < high:\n",
    "        mid = (high + low)//2\n",
    "        if x == arr[mid]:\n",
    "            return mid\n",
    "        elif x > arr[mid]:\n",
    "            low = mid + 1\n",
    "        else:\n",
    "            high = mid -1\n",
    "    return -1"
   ]
  },
  {
   "cell_type": "code",
   "execution_count": 69,
   "metadata": {},
   "outputs": [
    {
     "name": "stdout",
     "output_type": "stream",
     "text": [
      "implementation time: 3 | 6.723403930664062e-05\n",
      "implementation time: 3 | 6.29425048828125e-05\n"
     ]
    }
   ],
   "source": [
    "# Check binary_search\n",
    "test_data = [ 2, 3, 4, 10, 40 ] \n",
    "x = 10\n",
    "start0 = time.time()\n",
    "find_x = binary_search(test_data, 0, len(test_data)-1, x)\n",
    "print(\"implementation time:\", find_x, \"|\", time.time()-start0)\n",
    "start0 = time.time()\n",
    "binarySearch(test_data, x)\n",
    "print(\"implementation time:\", find_x, \"|\", time.time()-start0)"
   ]
  },
  {
   "cell_type": "markdown",
   "metadata": {},
   "source": [
    "#### Method 1: With sorted array and binary search"
   ]
  },
  {
   "cell_type": "code",
   "execution_count": 45,
   "metadata": {},
   "outputs": [],
   "source": [
    "def two_sum_target_value_binary_search(sorted_arr):\n",
    "    target_value = {}\n",
    "    len_arr = len(sorted_arr)\n",
    "    for t in range(-10000, 10001):\n",
    "        for idx_x, x in enumerate(sorted_arr):\n",
    "            y = t - x\n",
    "            if y < x:\n",
    "                start_idx, end_idx = 0, idx_x\n",
    "            else:\n",
    "                start_idx, end_idx = idx_x + 1, len_arr -1\n",
    "            find_y = binary_search(sorted_arr, start_idx, end_idx, y)\n",
    "            if find_y == -1:\n",
    "                continue\n",
    "            target_value.setdefault(t, []).append((x, y)) \n",
    "    return target_value"
   ]
  },
  {
   "cell_type": "code",
   "execution_count": 46,
   "metadata": {},
   "outputs": [],
   "source": [
    "two_sum_target_value_binary_search(sorted(lst_integer))"
   ]
  },
  {
   "cell_type": "markdown",
   "metadata": {},
   "source": [
    "##### Method 2: With HashTable"
   ]
  },
  {
   "cell_type": "code",
   "execution_count": 51,
   "metadata": {},
   "outputs": [],
   "source": [
    "def two_sum_target_value_hash_table(input_data):\n",
    "    H_input = {val: True for val in input_data}\n",
    "    target_value = {}\n",
    "    for t in range(-1000, 1001):\n",
    "        for x in H_input:\n",
    "            y = t - x\n",
    "            if y in H_input:\n",
    "                target_value.setdefault(t, []).append((x, y))\n",
    "    return target_value"
   ]
  },
  {
   "cell_type": "code",
   "execution_count": 53,
   "metadata": {},
   "outputs": [],
   "source": [
    "start0 = time.time()\n",
    "target_sum = two_sum_target_value_hash_table(lst_integer)\n",
    "print(\"how much time for hashtable lookup:\", time.time() - start0)\n",
    "print(\"how many target values found in the array:\", len(target_sum))"
   ]
  },
  {
   "cell_type": "code",
   "execution_count": null,
   "metadata": {},
   "outputs": [],
   "source": []
  }
 ],
 "metadata": {
  "kernelspec": {
   "display_name": "Python 3",
   "language": "python",
   "name": "python3"
  },
  "language_info": {
   "codemirror_mode": {
    "name": "ipython",
    "version": 3
   },
   "file_extension": ".py",
   "mimetype": "text/x-python",
   "name": "python",
   "nbconvert_exporter": "python",
   "pygments_lexer": "ipython3",
   "version": "3.6.7"
  }
 },
 "nbformat": 4,
 "nbformat_minor": 2
}
