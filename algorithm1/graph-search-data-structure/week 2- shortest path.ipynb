{
 "cells": [
  {
   "cell_type": "markdown",
   "metadata": {},
   "source": [
    "The file contains an adjacency list representation of an undirected weighted graph with 200 vertices labeled 1 to 200. Each row consists of the node tuples that are adjacent to that particular vertex along with the length of that edge. For example, the 6th row has 6 as the first entry indicating that this row corresponds to the vertex labeled 6. The next entry of this row \"141,8200\" indicates that there is an edge between vertex 6 and vertex 141 that has length 8200. The rest of the pairs of this row indicate the other vertices adjacent to vertex 6 and the lengths of the corresponding edges.\n",
    "\n",
    "Your task is to run Dijkstra's shortest-path algorithm on this graph, using 1 (the first vertex) as the source vertex, and to compute the shortest-path distances between 1 and every other vertex of the graph. If there is no path between a vertex vv and vertex 1, we'll define the shortest-path distance between 1 and vv to be 1000000.\n",
    "\n",
    "You should report the shortest-path distances to the following ten vertices, in order: 7,37,59,82,99,115,133,165,188,197. You should encode the distances as a comma-separated string of integers. So if you find that all ten of these vertices except 115 are at distance 1000 away from vertex 1 and 115 is 2000 distance away, then your answer should be 1000,1000,1000,1000,1000,2000,1000,1000,1000,1000. Remember the order of reporting DOES MATTER, and the string should be in the same order in which the above ten vertices are given. The string should not contain any spaces. Please type your answer in the space provided.\n",
    "\n",
    "IMPLEMENTATION NOTES: This graph is small enough that the straightforward O(mn)O(mn) time implementation of Dijkstra's algorithm should work fine. OPTIONAL: For those of you seeking an additional challenge, try implementing the heap-based version. Note this requires a heap that supports deletions, and you'll probably need to maintain some kind of mapping between vertices and their positions in the heap."
   ]
  },
  {
   "cell_type": "code",
   "execution_count": 1,
   "metadata": {},
   "outputs": [],
   "source": [
    "import os\n",
    "from ast import literal_eval\n",
    "from operator import itemgetter"
   ]
  },
  {
   "cell_type": "code",
   "execution_count": 2,
   "metadata": {},
   "outputs": [
    {
     "name": "stdout",
     "output_type": "stream",
     "text": [
      "/Users/shisi/ipython_projects/data/dijkstraData.txt\n"
     ]
    }
   ],
   "source": [
    "data_folder = os.path.dirname(os.path.dirname(os.getcwd()))\n",
    "fname_input = data_folder + \"/data/dijkstraData.txt\"\n",
    "print(fname_input)"
   ]
  },
  {
   "cell_type": "code",
   "execution_count": 47,
   "metadata": {},
   "outputs": [],
   "source": [
    "lst_nodes = []\n",
    "lst_edge_weights = []\n",
    "\n",
    "graph = {}\n",
    "with open(fname_input, \"r\") as f:\n",
    "    prev_node = 0\n",
    "    edges_list = []\n",
    "    for row in f:\n",
    "        row_vals = row.split()\n",
    "        node = int(row_vals[0])\n",
    "        edge_weights = [literal_eval(val) for val in row_vals[1: ]]\n",
    "        graph.setdefault(node, []).extend(edge_weights)\n",
    "        if node == prev_node:\n",
    "            edges_list.extend(edge_weights)\n",
    "        else:\n",
    "            if prev_node:\n",
    "                lst_nodes.append(prev_node)\n",
    "                lst_edge_weights.append(edges_list)\n",
    "            prev_node = node\n",
    "            edges_list = edge_weights\n",
    "    if (prev_node not in lst_nodes) and edges_list:\n",
    "        lst_nodes.append(prev_node)\n",
    "        lst_edge_weights.append(edges_list)"
   ]
  },
  {
   "cell_type": "code",
   "execution_count": 94,
   "metadata": {},
   "outputs": [],
   "source": [
    "def find_shortest_path(source, nodes_list, edge_weights_list):\n",
    "    X_processed = [source]\n",
    "    shortest_path = {}\n",
    "    shortest_path[source] = [0, []]\n",
    "\n",
    "    while len(X_processed) != len(nodes_list):\n",
    "        source, min_edge = -1, ()\n",
    "        for vertix in X_processed:\n",
    "            # vertex = min(X_processed)\n",
    "            # processed_dict[vertex] = dist\n",
    "            # vertex = sorted(processed_dict.items(), key=lambda kv: kv[1])[0][0]\n",
    "            idx_vertix = nodes_list.index(vertix)\n",
    "            for edge, edge_weight in edge_weights_list[idx_vertix]:\n",
    "                if edge in X_processed:\n",
    "                    continue\n",
    "                if (not min_edge) or shortest_path[vertix][0] + edge_weight < min_edge[1]:\n",
    "                    min_edge = (edge, shortest_path[vertix][0] + edge_weight)\n",
    "                    source = vertix\n",
    "        shortest_path[min_edge[0]] = [min_edge[1], shortest_path[source][1] + [min_edge[0]]]\n",
    "        X_processed.append(min_edge[0])\n",
    "    return shortest_path\n",
    "                \n",
    "                "
   ]
  },
  {
   "cell_type": "code",
   "execution_count": 95,
   "metadata": {},
   "outputs": [],
   "source": [
    "short_paths1 = find_shortest_path(1, lst_nodes, lst_edge_weights)"
   ]
  },
  {
   "cell_type": "code",
   "execution_count": 90,
   "metadata": {},
   "outputs": [
    {
     "name": "stdout",
     "output_type": "stream",
     "text": [
      "7 | 2599 5\n",
      "37 | 2610 5\n",
      "59 | 2947 4\n",
      "82 | 2052 4\n",
      "99 | 2367 1\n",
      "115 | 2399 2\n",
      "133 | 2029 4\n",
      "165 | 2442 4\n",
      "188 | 2505 9\n",
      "197 | 3068 4\n"
     ]
    }
   ],
   "source": [
    "test_vertices = [7,37,59,82,99,115,133,165,188,197]\n",
    "for edge_node in test_vertices:\n",
    "    print(edge_node, \"|\", short_paths1[edge_node][0], len(short_paths1[edge_node][1]))"
   ]
  },
  {
   "cell_type": "code",
   "execution_count": null,
   "metadata": {},
   "outputs": [],
   "source": []
  },
  {
   "cell_type": "code",
   "execution_count": null,
   "metadata": {},
   "outputs": [],
   "source": []
  }
 ],
 "metadata": {
  "kernelspec": {
   "display_name": "Python 3",
   "language": "python",
   "name": "python3"
  },
  "language_info": {
   "codemirror_mode": {
    "name": "ipython",
    "version": 3
   },
   "file_extension": ".py",
   "mimetype": "text/x-python",
   "name": "python",
   "nbconvert_exporter": "python",
   "pygments_lexer": "ipython3",
   "version": "3.6.7"
  }
 },
 "nbformat": 4,
 "nbformat_minor": 2
}
