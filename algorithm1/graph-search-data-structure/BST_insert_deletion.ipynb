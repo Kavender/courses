{
 "cells": [
  {
   "cell_type": "code",
   "execution_count": 60,
   "metadata": {},
   "outputs": [],
   "source": [
    "COUNT = [10]  \n",
    "def print2DUtil(root, space): \n",
    "  # Base case  \n",
    "    if (root == None) : \n",
    "        return\n",
    "    space += COUNT[0] \n",
    "    print2DUtil(root.right, space)  \n",
    "\n",
    "    # Print current node after space  \n",
    "    print()  \n",
    "    for i in range(COUNT[0], space): \n",
    "        print(end = \" \")  \n",
    "    print(root.value)  \n",
    "\n",
    "    # Process left child  \n",
    "    print2DUtil(root.left, space)  \n",
    "    \n",
    "\n",
    "def print2D(root):  \n",
    "    print2DUtil(root, 0)  "
   ]
  },
  {
   "cell_type": "code",
   "execution_count": 61,
   "metadata": {},
   "outputs": [],
   "source": [
    "### build BST\n",
    "class Node:\n",
    "    def __init__(self, node_val):\n",
    "        self.value = node_val\n",
    "        self.left = None\n",
    "        self.right = None\n",
    "        self.is_root = False\n",
    "    \n",
    "    def __str__(self):\n",
    "        return str(self.value)\n",
    "\n",
    "def insert_node(root, node):\n",
    "    if root is None:\n",
    "        root = node\n",
    "    elif root.value < node.value:\n",
    "        # insert to the right child\n",
    "        if root.right:\n",
    "            insert_node(root.right, node)\n",
    "        else:\n",
    "            root.right = node\n",
    "    else:\n",
    "        if root.left: \n",
    "            insert_node(root.left, node)\n",
    "        else:\n",
    "            root.left = node"
   ]
  },
  {
   "cell_type": "code",
   "execution_count": 62,
   "metadata": {},
   "outputs": [],
   "source": [
    "def min_successor(node):\n",
    "    node_search = node.right \n",
    "    while (node_search.left is not None):\n",
    "        node_search = node_search.left\n",
    "    return node_search\n",
    "    \n",
    "def delete_node(root, key):\n",
    "    if root is None:\n",
    "        return root\n",
    "    # find the node to be deleted\n",
    "    if key < root.value:\n",
    "        root.left = delete_node(root.left, key)\n",
    "    elif key > root.value:\n",
    "        root.right = delete_node(root.right, key)\n",
    "    else:\n",
    "        if (root.left is None) and (root.right is None):\n",
    "            #case1-Node to be deleted is leaf, simply remove the node\n",
    "            root = None\n",
    "        elif root.left is None:\n",
    "            root = root.right\n",
    "            #case2-Node with only one child, replace the node with its single child & delete the child node\n",
    "        elif root.right is None:\n",
    "            root = root.left\n",
    "        else:\n",
    "            #case3-Node with two children, replace it with the child larger than it and delete the child node\n",
    "            next_child = min_successor(root)\n",
    "            root.value = next_child.value\n",
    "            root.right = delete_node(root.right, next_child.value) \n",
    "    return root \n",
    "    "
   ]
  },
  {
   "cell_type": "code",
   "execution_count": 63,
   "metadata": {},
   "outputs": [],
   "source": [
    "def min_successor2(node, parent):\n",
    "    parent = node\n",
    "    node_search = node.right \n",
    "    while (node_search.left is not None):\n",
    "        parent = node_search\n",
    "        node_search = node_search.left\n",
    "    return node_search, parent\n",
    "\n",
    "def search_node(root, key, parent):\n",
    "    if root.value == key:\n",
    "        return root, parent\n",
    "    elif root.left and (key < root.value):\n",
    "        return search_node(root.left, key, root)\n",
    "    elif root.right and (key > root.value):\n",
    "        return search_node(root.right, key, root)\n",
    "\n",
    "def delete_node2(root, key):\n",
    "    if root is None:\n",
    "        return root\n",
    "    \n",
    "    node, parent = search_node(root, key, None)\n",
    "    \n",
    "    if node.left is None and node.right is None:\n",
    "        node = None\n",
    "    elif node.left is None:\n",
    "        if parent.value < node.value:\n",
    "            parent.right = node.right\n",
    "        else:\n",
    "            parent.left = node.right\n",
    "    elif node.right is None:\n",
    "        if parent.value < node.value:\n",
    "            parent.right = node.left\n",
    "        else:\n",
    "            parent.left = node.left\n",
    "    else:\n",
    "        next_child, next_child_parent = min_successor2(node, parent)\n",
    "        # print(next_child.value, next_child_parent.value)\n",
    "        node.value = next_child.value\n",
    "        if next_child_parent == node:\n",
    "            next_child_parent.right = None\n",
    "        else:\n",
    "            next_child_parent.left = None\n",
    "        \n",
    "    return root"
   ]
  },
  {
   "cell_type": "code",
   "execution_count": 64,
   "metadata": {},
   "outputs": [
    {
     "name": "stdout",
     "output_type": "stream",
     "text": [
      "\n",
      "                    80\n",
      "\n",
      "          70\n",
      "\n",
      "                    60\n",
      "\n",
      "50\n",
      "\n",
      "                    40\n",
      "\n",
      "          30\n",
      "\n",
      "                    20\n"
     ]
    }
   ],
   "source": [
    "test_array = [50, 30, 20, 40, 70, 60, 80]\n",
    "\n",
    "root = None\n",
    "for val in test_array:\n",
    "    if root is None:\n",
    "        node = Node(val)\n",
    "        node.is_root = True\n",
    "        root = node\n",
    "    else:\n",
    "        insert_node(root, Node(val))\n",
    "print2D(root)"
   ]
  },
  {
   "cell_type": "code",
   "execution_count": 66,
   "metadata": {
    "scrolled": true
   },
   "outputs": [
    {
     "name": "stdout",
     "output_type": "stream",
     "text": [
      "\n",
      "                    80\n",
      "\n",
      "          70\n",
      "\n",
      "60\n",
      "\n",
      "                    40\n",
      "\n",
      "          30\n",
      "\n",
      "                    20\n"
     ]
    }
   ],
   "source": [
    "delete_node(root, 50)\n",
    "print2D(root)"
   ]
  },
  {
   "cell_type": "code",
   "execution_count": 65,
   "metadata": {
    "scrolled": true
   },
   "outputs": [
    {
     "name": "stdout",
     "output_type": "stream",
     "text": [
      "\n",
      "                    80\n",
      "\n",
      "          70\n",
      "\n",
      "60\n",
      "\n",
      "                    40\n",
      "\n",
      "          30\n",
      "\n",
      "                    20\n"
     ]
    }
   ],
   "source": [
    "delete_node2(root, 50)\n",
    "print2D(root)"
   ]
  },
  {
   "cell_type": "code",
   "execution_count": 47,
   "metadata": {},
   "outputs": [],
   "source": []
  },
  {
   "cell_type": "code",
   "execution_count": null,
   "metadata": {},
   "outputs": [],
   "source": []
  },
  {
   "cell_type": "code",
   "execution_count": null,
   "metadata": {},
   "outputs": [],
   "source": []
  }
 ],
 "metadata": {
  "kernelspec": {
   "display_name": "Python 3",
   "language": "python",
   "name": "python3"
  },
  "language_info": {
   "codemirror_mode": {
    "name": "ipython",
    "version": 3
   },
   "file_extension": ".py",
   "mimetype": "text/x-python",
   "name": "python",
   "nbconvert_exporter": "python",
   "pygments_lexer": "ipython3",
   "version": "3.6.7"
  }
 },
 "nbformat": 4,
 "nbformat_minor": 2
}
