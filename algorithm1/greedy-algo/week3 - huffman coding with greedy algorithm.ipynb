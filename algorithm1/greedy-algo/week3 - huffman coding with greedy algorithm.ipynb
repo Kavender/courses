{
 "cells": [
  {
   "cell_type": "code",
   "execution_count": 1,
   "metadata": {},
   "outputs": [],
   "source": [
    "import os\n",
    "import heapq\n",
    "from collections import namedtuple"
   ]
  },
  {
   "cell_type": "code",
   "execution_count": 5,
   "metadata": {},
   "outputs": [
    {
     "name": "stdout",
     "output_type": "stream",
     "text": [
      "/Users/shisi/ipython_projects/data/huffman.txt\n",
      "/Users/shisi/ipython_projects/data/mwis.txt\n"
     ]
    }
   ],
   "source": [
    "data_folder = os.path.dirname(os.path.dirname(os.getcwd())) + \"/data\"\n",
    "fname_input_weight = os.path.join(data_folder, 'huffman.txt')\n",
    "fname_min_weight_set = os.path.join(data_folder, \"mwis.txt\")\n",
    "print(fname_input_weight)\n",
    "print(fname_min_weight_set)"
   ]
  },
  {
   "cell_type": "markdown",
   "metadata": {},
   "source": [
    "### Huffman coding with Greedy Algorithm"
   ]
  },
  {
   "cell_type": "code",
   "execution_count": 3,
   "metadata": {},
   "outputs": [],
   "source": [
    "Node = namedtuple('Node', ('weight', 'index'))\n",
    "\n",
    "def combine_nodes(node1, node2):\n",
    "    return Node(node1.weight + node2.weight, \"+\".join([node1.index, node2.index]))\n",
    "\n",
    "def read_symbol_weights(fname):\n",
    "    nodes = []\n",
    "    with open(fname, 'rb') as file:\n",
    "        header = next(file)\n",
    "        for idx, line in enumerate(file):\n",
    "            nodes.append(Node(int(line), str(idx)))\n",
    "    return nodes"
   ]
  },
  {
   "cell_type": "code",
   "execution_count": 4,
   "metadata": {},
   "outputs": [],
   "source": [
    "tree = read_symbol_weights(fname_input_weight)\n",
    "heapq.heapify(tree)"
   ]
  },
  {
   "cell_type": "code",
   "execution_count": 37,
   "metadata": {},
   "outputs": [
    {
     "name": "stdout",
     "output_type": "stream",
     "text": [
      "len of code_lengths: 1000\n"
     ]
    }
   ],
   "source": [
    "code_lens = [0] * len(tree)\n",
    "print(\"len of code_lengths:\", len(code_lens))\n",
    "while len(tree) > 1:\n",
    "    # Pop two min items with smallest weights/lowest frequency\n",
    "    a = heapq.heappop(tree)\n",
    "    b = heapq.heappop(tree)\n",
    "    # Merge two min items into one node and push to the tree\n",
    "    combined_node = combine_nodes(a, b)\n",
    "    heapq.heappush(tree, combined_node)\n",
    "    # add 1 to the code length for a,b\n",
    "    for node_idx in combined_node.index.split(\"+\"):\n",
    "        code_lens[int(node_idx)] += 1"
   ]
  },
  {
   "cell_type": "code",
   "execution_count": 38,
   "metadata": {},
   "outputs": [
    {
     "name": "stdout",
     "output_type": "stream",
     "text": [
      "19\n",
      "9\n"
     ]
    }
   ],
   "source": [
    "\"Q1.What is the maximum length of a codeword in the resulting Huffman code\"\n",
    "print(max(code_lens))\n",
    "\"Q2.What is the minimum length of a codeword in your Huffman code?\"\n",
    "print(min(code_lens))"
   ]
  },
  {
   "cell_type": "markdown",
   "metadata": {},
   "source": [
    "### Dynamic programming algorithm for computing a maximum-weight independent set of a path graph\n",
    "Your task in this problem is to run the dynamic programming algorithm (and the reconstruction procedure) from lecture on this data set. The question is: of the vertices 1, 2, 3, 4, 17, 117, 517, and 997, which ones belong to the maximum-weight independent set?"
   ]
  },
  {
   "cell_type": "code",
   "execution_count": 9,
   "metadata": {},
   "outputs": [],
   "source": [
    "def read_weights(fname):\n",
    "    with open(fname, \"rb\") as f:\n",
    "        header = next(f)\n",
    "        weights = [0] * (int(header) + 1)\n",
    "        for idx, line in enumerate(f):\n",
    "            weights[idx + 1] += int(line)\n",
    "    return weights"
   ]
  },
  {
   "cell_type": "code",
   "execution_count": 20,
   "metadata": {},
   "outputs": [
    {
     "name": "stdout",
     "output_type": "stream",
     "text": [
      "num of node weights available: 1000 [0, 4962786, 6395702, 5601590, 3803402]\n"
     ]
    }
   ],
   "source": [
    "weights = read_weights(fname_min_weight_set)\n",
    "test_vertices = [1, 2, 3, 4, 17, 117, 517, 997]\n",
    "print(\"num of node weights available:\", len(weights)-1, weights[:5])"
   ]
  },
  {
   "cell_type": "code",
   "execution_count": 27,
   "metadata": {},
   "outputs": [],
   "source": [
    "def WIS(weights):\n",
    "    #https://github.com/SSQ/Coursera-Stanford-Greedy-Algorithms-Minimum-Spanning-Trees-and-Dynamic-Programming/blob/master/Lecture%20Slides/25.4-algo2-dp-wis4-typed.pdf\n",
    "    A = [0] * len(weights)\n",
    "    A[0] = 0\n",
    "    A[1] = weights[1]\n",
    "    # Foward search to find the optimal value\n",
    "    for node_idx in range(2, len(weights) -1):\n",
    "        A[node_idx] = max(A[node_idx - 1], A[node_idx - 2] + weights[node_idx])\n",
    "    # Backward reconstruct the optimal solution\n",
    "    S = []\n",
    "    i = len(weights) -1\n",
    "    \n",
    "    while i>=1:\n",
    "        if A[i-1] >= A[i-2] + weights[i]:\n",
    "            i -= 1\n",
    "        else:\n",
    "            S.append(i)\n",
    "            i -= 2\n",
    "    return S\n",
    "    "
   ]
  },
  {
   "cell_type": "code",
   "execution_count": 28,
   "metadata": {},
   "outputs": [],
   "source": [
    "optimal_mis = WIS(weights)"
   ]
  },
  {
   "cell_type": "code",
   "execution_count": 29,
   "metadata": {},
   "outputs": [
    {
     "name": "stdout",
     "output_type": "stream",
     "text": [
      "answer: 10100110\n"
     ]
    }
   ],
   "source": [
    "ans = \"\"\n",
    "for vid in test_vertices:\n",
    "    if vid in optimal_mis:\n",
    "        ans += \"1\"\n",
    "    else:\n",
    "        ans += \"0\"\n",
    "print(\"answer:\", ans)"
   ]
  },
  {
   "cell_type": "code",
   "execution_count": null,
   "metadata": {},
   "outputs": [],
   "source": []
  }
 ],
 "metadata": {
  "kernelspec": {
   "display_name": "Python 3",
   "language": "python",
   "name": "python3"
  },
  "language_info": {
   "codemirror_mode": {
    "name": "ipython",
    "version": 3
   },
   "file_extension": ".py",
   "mimetype": "text/x-python",
   "name": "python",
   "nbconvert_exporter": "python",
   "pygments_lexer": "ipython3",
   "version": "3.6.7"
  }
 },
 "nbformat": 4,
 "nbformat_minor": 2
}
