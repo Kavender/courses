{
 "cells": [
  {
   "cell_type": "code",
   "execution_count": 51,
   "metadata": {},
   "outputs": [],
   "source": [
    "import os\n",
    "import time\n",
    "from itertools import combinations\n",
    "from collections import namedtuple"
   ]
  },
  {
   "cell_type": "markdown",
   "metadata": {},
   "source": [
    "##### Section I: max-spacing kk-clustering.\n",
    "run the clustering algorithm from lecture on this data set, where the target number kk of clusters is set to 4. What is the maximum spacing of a 4-clustering?"
   ]
  },
  {
   "cell_type": "code",
   "execution_count": 72,
   "metadata": {},
   "outputs": [],
   "source": [
    "data_folder = os.path.dirname(os.path.dirname(os.getcwd())) +\"/data\"\n",
    "fname_clustering1 = data_folder + \"/clustering1.txt\"\n",
    "fname_clustering2 = data_folder + \"/clustering_big.txt\"\n",
    "# print(fname_clustering1)"
   ]
  },
  {
   "cell_type": "code",
   "execution_count": 41,
   "metadata": {},
   "outputs": [],
   "source": [
    "Edge = namedtuple('Edge', ('head', 'tail', 'cost'))\n",
    "\n",
    "def read_edges(fname):\n",
    "    nodes, edges = set([]), []\n",
    "    with open(fname, \"rb\") as f:\n",
    "        header = next(f)\n",
    "        for line in f:\n",
    "            head, tail, cost = [int(x) for x in line.split()]\n",
    "            edges.append(Edge(head, tail, cost))\n",
    "            nodes.update((head, tail))\n",
    "    return list(nodes), edges"
   ]
  },
  {
   "cell_type": "code",
   "execution_count": 63,
   "metadata": {},
   "outputs": [],
   "source": [
    "\"\"\"\n",
    "K-clustering algorithm using the Union-Find data structure.\n",
    "Proceeds similar to Kruskal's MST algorithm, differs in stopping when there are k components of a graph, instead of a connected graph.\"\"\"\n",
    "\n",
    "class UnionFind:\n",
    "    \n",
    "    def __init__(self, nodes):\n",
    "        self.nodes = nodes\n",
    "        self.components = {}\n",
    "        self.leaders = {}\n",
    "        for node in nodes:\n",
    "            #first, assign each node to its own cluster and mark itself as the leader\n",
    "            self.components.setdefault(str(node), []).append(node) #allow for duplicates\n",
    "            self.leaders[str(node)] = node\n",
    "    \n",
    "    def find(self, node): \n",
    "        #find the leader of the node\n",
    "        return self.leaders[str(node)]\n",
    "        \n",
    "    def union(self, node1, node2):\n",
    "        # keys in the same component, union already performed\n",
    "        node1_leader, node2_leader = self.find(str(node1)), self.find(str(node2))\n",
    "        if node1_leader == node2_leader:\n",
    "            return \n",
    "        if len(self.components[str(node1_leader)]) >= len(self.components[str(node2_leader)]):\n",
    "            new_leader = node1_leader\n",
    "            old_leader = node2_leader\n",
    "        else:\n",
    "            new_leader = node2_leader\n",
    "            old_leader = node1_leader\n",
    "        \n",
    "        # Add the old group the new group\n",
    "        old_group = self.components.pop(str(old_leader))\n",
    "        self.components[str(new_leader)].extend(old_group)\n",
    "        # Reassign the leaders in the old group to new leader\n",
    "        for node in old_group:\n",
    "            self.leaders[str(node)] = new_leader\n",
    "        return \n"
   ]
  },
  {
   "cell_type": "code",
   "execution_count": 64,
   "metadata": {},
   "outputs": [],
   "source": [
    "nodes, edges = read_edges(fname_clustering1)\n",
    "edges.sort(key=lambda x: x[2])"
   ]
  },
  {
   "cell_type": "code",
   "execution_count": 65,
   "metadata": {},
   "outputs": [
    {
     "name": "stdout",
     "output_type": "stream",
     "text": [
      "max spacing: 106\n",
      "time: 0.05011916160583496s \n",
      "time: 0.0008353193600972494min\n",
      "time: 1.3921989334954156e-05h\n"
     ]
    }
   ],
   "source": [
    "start_time = time.time()\n",
    "# set the number of clusters \n",
    "k = 4\n",
    "\n",
    "uf = UnionFind(nodes)\n",
    "while len(uf.components) >= k:\n",
    "    min_edge = edges.pop(0)\n",
    "    uf.union(min_edge.head, min_edge.tail)\n",
    "# max spacing is the smallest unused edge\n",
    "print(\"max spacing:\", min_edge.cost)\n",
    "    \n",
    "end_time = time.time()\n",
    "print('time: ' + str(end_time - start_time) + 's ')\n",
    "print('time: ' + str((end_time - start_time) / 60) + 'min')\n",
    "print('time: ' + str((end_time - start_time) / 3600) + 'h')"
   ]
  },
  {
   "cell_type": "markdown",
   "metadata": {},
   "source": [
    "#### section II: hamming dist clustering\n",
    "\"\"\"\n",
    "For example, the third line of the file \"0 1 1 0 0 1 1 0 0 1 0 1 1 1 1 1 1 0 1 0 1 1 0 1\" denotes the 24 bits associated with node #2.\n",
    "\n",
    "The distance between two nodes uu and vv in this problem is defined as the Hamming distance--- the number of differing bits --- between the two nodes' labels. For example, the Hamming distance between the 24-bit label of node #2 above and the label \"0 1 0 0 0 1 0 0 0 1 0 1 1 1 1 1 1 0 1 0 0 1 0 1\" is 3 (since they differ in the 3rd, 7th, and 21st bits)\n",
    "\n",
    "what is the largest value of kk such that there is a kk-clustering with spacing at least 3? That is, how many clusters are needed to ensure that no pair of nodes with all but 2 bits in common get split into different clusters?\n",
    "\"\"\""
   ]
  },
  {
   "cell_type": "code",
   "execution_count": 87,
   "metadata": {},
   "outputs": [],
   "source": [
    "def read_hamming(fname):\n",
    "    nodes = []\n",
    "    with open(fname, \"rb\") as f:\n",
    "        header = next(f)\n",
    "        num_nodes, node_bytes = map(int, header.split())\n",
    "        print(\"number of nodes-\", num_nodes, \" & byte size for node-\", node_bytes)\n",
    "        for line in f:\n",
    "            nodes.append([int(x) for x in line.split()])\n",
    "    return nodes\n",
    "\n",
    "def flip_bit(bit):\n",
    "    if bit == 1:\n",
    "        return 0\n",
    "    if bit == 0:\n",
    "        return 1"
   ]
  },
  {
   "cell_type": "code",
   "execution_count": 88,
   "metadata": {},
   "outputs": [
    {
     "name": "stdout",
     "output_type": "stream",
     "text": [
      "number of nodes- 200000  & byte size for node- 24\n"
     ]
    }
   ],
   "source": [
    "nodes = read_hamming(fname_clustering2)"
   ]
  },
  {
   "cell_type": "code",
   "execution_count": 107,
   "metadata": {},
   "outputs": [
    {
     "name": "stdout",
     "output_type": "stream",
     "text": [
      "total number of clusters left: 198788\n",
      "time: 345.94753217697144s \n",
      "time: 5.765792202949524min\n",
      "time: 0.0960965367158254h\n"
     ]
    }
   ],
   "source": [
    "start_time = time.time()\n",
    "max_spacing = 2\n",
    "uf = UnionFind(nodes)\n",
    "\n",
    "for node in uf.nodes:\n",
    "    for space in range(1, max_spacing + 1):\n",
    "        idx2replace = combinations(range(len(node)), space)\n",
    "        for idxs in idx2replace:\n",
    "            # trick is to build new node (`node_within_space`) with limited space distatnce instead looping of graph nodes\n",
    "            node_within_space = node.copy()\n",
    "            for pos in idxs:\n",
    "                node_within_space[pos] = flip_bit(node_within_space[pos])\n",
    "            try:\n",
    "                uf.union(node, node_within_space)\n",
    "            except:\n",
    "                pass\n",
    "\n",
    "print(\"total number of clusters left:\", len(uf.leaders))\n",
    "end_time = time.time()\n",
    "print('time: ' + str(end_time - start_time) + 's ')\n",
    "print('time: ' + str((end_time - start_time) / 60) + 'min')\n",
    "print('time: ' + str((end_time - start_time) / 3600) + 'h')"
   ]
  },
  {
   "cell_type": "code",
   "execution_count": 102,
   "metadata": {},
   "outputs": [
    {
     "name": "stdout",
     "output_type": "stream",
     "text": [
      "[0, 1, 1, 0, 0, 1, 1, 0, 0, 1, 0, 1, 1, 1, 1, 1, 1, 0, 1, 0, 1, 1, 0, 1]\n",
      "[1, 0, 0, 1, 1, 0, 0, 1, 1, 0, 1, 0, 0, 0, 0, 0, 0, 1, 0, 1, 0, 0, 1, 0]\n"
     ]
    }
   ],
   "source": [
    "print(nodes[1])\n",
    "print([flip_bit(i) for i in nodes[1]])"
   ]
  },
  {
   "cell_type": "code",
   "execution_count": null,
   "metadata": {},
   "outputs": [],
   "source": []
  },
  {
   "cell_type": "code",
   "execution_count": 103,
   "metadata": {},
   "outputs": [],
   "source": []
  }
 ],
 "metadata": {
  "kernelspec": {
   "display_name": "Python 3",
   "language": "python",
   "name": "python3"
  },
  "language_info": {
   "codemirror_mode": {
    "name": "ipython",
    "version": 3
   },
   "file_extension": ".py",
   "mimetype": "text/x-python",
   "name": "python",
   "nbconvert_exporter": "python",
   "pygments_lexer": "ipython3",
   "version": "3.6.7"
  }
 },
 "nbformat": 4,
 "nbformat_minor": 2
}
