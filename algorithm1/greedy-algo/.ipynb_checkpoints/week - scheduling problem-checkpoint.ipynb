{
 "cells": [
  {
   "cell_type": "code",
   "execution_count": 52,
   "metadata": {},
   "outputs": [],
   "source": [
    "import os, sys\n",
    "from numpy import inf\n",
    "from time import time\n",
    "from operator import itemgetter\n",
    "from heapq import heappush, heappop, heapify"
   ]
  },
  {
   "cell_type": "code",
   "execution_count": 6,
   "metadata": {},
   "outputs": [],
   "source": [
    "data_folder = os.path.join(os.path.dirname(os.path.dirname(os.getcwd())), 'data')\n",
    "input_job_data = data_folder + \"/job.txt\"\n",
    "input_edge_data = data_folder + \"/edges.txt\""
   ]
  },
  {
   "cell_type": "markdown",
   "metadata": {},
   "source": [
    "week 1: come up greedy algorithms from lecture for minimizing the weighted sum of completion times.\n",
    "This file describes a set of jobs with positive and integral weights and lengths. It has the format\n",
    "\n",
    "[number_of_jobs]\n",
    "\n",
    "[job_1_weight] [job_1_length]\n",
    "\n",
    "[job_2_weight] [job_2_length]\n",
    "\n",
    "...\n",
    "\n",
    "For example, the third line of the file is \"74 59\", indicating that the second job has weight 74 and length 59.\n",
    "\n",
    "You should NOT assume that edge weights or lengths are distinct.\n",
    "\n",
    "\n",
    "Q1: run greedy algorithm that schedules jobs in decreasing order of the difference (weight - length). IMPORTANT: if two jobs have equal difference (weight - length), you should schedule the job with higher weight first. \n",
    "\n",
    "Q2: run the greedy algorithm that schedules jobs (optimally) in decreasing order of the ratio (weight/length). In this algorithm, it does not matter how you break ties.\n"
   ]
  },
  {
   "cell_type": "code",
   "execution_count": 27,
   "metadata": {},
   "outputs": [
    {
     "name": "stdout",
     "output_type": "stream",
     "text": [
      "number_of_jobs : 10000\n",
      "\n",
      "len of job_data 10000 [[8, 50, -42, 0.16], [74, 59, 15, 1.2542372881355932]]\n"
     ]
    }
   ],
   "source": [
    "job_data = []\n",
    "with open(input_job_data, 'r') as f_job:\n",
    "    head_line = next(f_job)\n",
    "    print(\"number_of_jobs :\", head_line)\n",
    "    for line in f_job:\n",
    "        line_val = ([int(val) for val in line.split()])\n",
    "        val_diff = line_val[0] - line_val[1]\n",
    "        val_ratio = line_val[0]/line_val[1]\n",
    "        line_val.extend([val_diff, val_ratio])\n",
    "        job_data.append(line_val)\n",
    "print(\"len of job_data\", len(job_data), job_data[0:2])"
   ]
  },
  {
   "cell_type": "code",
   "execution_count": 25,
   "metadata": {},
   "outputs": [
    {
     "name": "stdout",
     "output_type": "stream",
     "text": [
      "total time required sort by diff: 69119377652\n"
     ]
    }
   ],
   "source": [
    "sort_by_diff_than_weight = sorted(job_data, key=itemgetter(2, 0), reverse=True)\n",
    "complete_time = 0\n",
    "result_time = 0\n",
    "for job in sort_by_diff_than_weight:\n",
    "    complete_time += job[1]\n",
    "    result_time += job[0] * complete_time\n",
    "print(\"total time required sort by diff:\", result_time)"
   ]
  },
  {
   "cell_type": "code",
   "execution_count": 26,
   "metadata": {},
   "outputs": [
    {
     "name": "stdout",
     "output_type": "stream",
     "text": [
      "total time required sort by ratio:  67311454237\n"
     ]
    }
   ],
   "source": [
    "sort_by_ratio = sorted(job_data, key=itemgetter(3), reverse=True)\n",
    "complete_time = 0\n",
    "result_time = 0\n",
    "for job in sort_by_ratio:\n",
    "    complete_time += job[1]\n",
    "    result_time += job[0] * complete_time\n",
    "print(\"total time required sort by ratio: \", result_time)"
   ]
  },
  {
   "cell_type": "markdown",
   "metadata": {},
   "source": [
    "---------------------------------------------------------------------\n",
    "Section II:\n",
    "This file describes an undirected graph with integer edge costs. It has the format\n",
    "\n",
    "[number_of_nodes] [number_of_edges]\n",
    "\n",
    "[one_node_of_edge_1] [other_node_of_edge_1] [edge_1_cost]\n",
    "\n",
    "[one_node_of_edge_2] [other_node_of_edge_2] [edge_2_cost]\n",
    "\n",
    "...\n",
    "\n",
    "For example, the third line of the file is \"2 3 -8874\", indicating that there is an edge connecting vertex #2 and vertex #3 that has cost -8874.\n",
    "\n",
    "You should NOT assume that edge costs are positive, nor should you assume that they are distinct.\n",
    "\n",
    "Q3: run Prim's minimum spanning tree algorithm on this graph. You should report the overall cost of a minimum spanning tree --- an integer, which may or may not be negative.\n",
    "IMPLEMENTATION NOTES: This graph is small enough that the straightforward O(mn) time implementation of Prim's algorithm should work fine. \n",
    "OPTIONAL: For those of you seeking an additional challenge, try implementing a heap-based version.\n",
    "    The simpler approach, which should already give you a healthy speed-up, is to maintain relevant edges in a heap (with keys = edge costs).\n",
    "    The superior approach stores the unprocessed vertices in the heap, as described in lecture. Note this requires a heap that supports deletions, and you'll probably need to maintain some kind of mapping between vertices and their positions in the heap."
   ]
  },
  {
   "cell_type": "code",
   "execution_count": 35,
   "metadata": {},
   "outputs": [
    {
     "name": "stdout",
     "output_type": "stream",
     "text": [
      "num of nodes and edges are corresponding: 10000\n",
      "\n",
      "double check node edge inputs: 500\n"
     ]
    }
   ],
   "source": [
    "node_edges = {}\n",
    "with open(input_edge_data, \"r\") as f_edges:\n",
    "    header_line = next(f_edges)\n",
    "    print(\"num of nodes and edges are corresponding:\", head_line)\n",
    "    for line in f_edges:\n",
    "        line_vals = [int(val) for val in line.split()]\n",
    "        node1, node2, edge_cost = line_vals[0], line_vals[1], line_vals[2]\n",
    "        node_edges.setdefault(node1, []).append((node2, edge_cost))\n",
    "        node_edges.setdefault(node2, []).append((node1, edge_cost))\n",
    "print(\"double check node edge inputs:\", len(node_edges))"
   ]
  },
  {
   "cell_type": "code",
   "execution_count": 68,
   "metadata": {},
   "outputs": [
    {
     "name": "stdout",
     "output_type": "stream",
     "text": [
      "Bad prims: -3612829, Time: 0.1640021800994873\n"
     ]
    }
   ],
   "source": [
    "#straightforward O(mn) time implementation of Prim's algorithm \n",
    "start_node = next(iter(node_edges))\n",
    "explored_nodes = set([start_node])\n",
    "tree_cost = 0\n",
    "startTime = time()\n",
    "while len(explored_nodes) != len(node_edges):\n",
    "    min_cost, winner = inf, None\n",
    "    for u in explored_nodes:\n",
    "        for v, edge_cost in node_edges[u]:\n",
    "            if (v not in explored_nodes) and (edge_cost <= min_cost):\n",
    "                min_cost = edge_cost\n",
    "                winner = v\n",
    "    explored_nodes.add(winner)\n",
    "    tree_cost += min_cost\n",
    "\n",
    "\n",
    "print('Bad prims: ' + str(tree_cost) + ', ' + 'Time: ' + str(time() - startTime))"
   ]
  },
  {
   "cell_type": "code",
   "execution_count": 69,
   "metadata": {},
   "outputs": [
    {
     "name": "stdout",
     "output_type": "stream",
     "text": [
      "He-basedap prims: -3612829, Time: 0.14175105094909668\n"
     ]
    }
   ],
   "source": [
    "#speed up with heap implementation\n",
    "start_node = next(iter(node_edges))\n",
    "explored_nodes = set([start_node])\n",
    "tree_cost = 0\n",
    "startTime = time()\n",
    "unexplored_nodes = []\n",
    "\n",
    "for v, edge_cost in node_edges[start_node]:\n",
    "    heappush(unexplored_nodes, (edge_cost, v))\n",
    "\n",
    "while len(explored_nodes) != len(node_edges):\n",
    "    min_cost, winner = heappop(unexplored_nodes)\n",
    "    # add the winnder node to explored and mark it's adjacent edge case with explored node to inf\n",
    "    explored_nodes.add(winner)\n",
    "    tree_cost += min_cost\n",
    "    \n",
    "    for idx, edge_cost_node in enumerate(unexplored_nodes):\n",
    "        if edge_cost_node[1] == winner:\n",
    "            unexplored_nodes[idx] = (inf, winner)\n",
    "    heapify(unexplored_nodes)\n",
    "    \n",
    "    for v, edge_cost in node_edges[winner]:\n",
    "        if v not in explored_nodes:\n",
    "            heappush(unexplored_nodes, (edge_cost, v))\n",
    "print('He-basedap prims: ' + str(tree_cost) + ', ' + 'Time: ' + str(time() - startTime))"
   ]
  },
  {
   "cell_type": "code",
   "execution_count": null,
   "metadata": {},
   "outputs": [],
   "source": []
  },
  {
   "cell_type": "code",
   "execution_count": null,
   "metadata": {},
   "outputs": [],
   "source": []
  },
  {
   "cell_type": "code",
   "execution_count": null,
   "metadata": {},
   "outputs": [],
   "source": []
  }
 ],
 "metadata": {
  "kernelspec": {
   "display_name": "Python 3",
   "language": "python",
   "name": "python3"
  },
  "language_info": {
   "codemirror_mode": {
    "name": "ipython",
    "version": 3
   },
   "file_extension": ".py",
   "mimetype": "text/x-python",
   "name": "python",
   "nbconvert_exporter": "python",
   "pygments_lexer": "ipython3",
   "version": "3.6.7"
  }
 },
 "nbformat": 4,
 "nbformat_minor": 2
}
