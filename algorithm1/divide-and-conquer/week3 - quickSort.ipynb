{
 "cells": [
  {
   "cell_type": "markdown",
   "metadata": {},
   "source": [
    "Goal\n",
    "QuickSort the the array\n",
    "compute the total number of comparisions\n",
    "\n",
    ".txt files is data file.\n",
    "QuickSort.txt consists of 10,000 integers.\n",
    ".py file is the solution of Week 3 program assignment\n",
    "QuickSort.py\n",
    "\n",
    "Implementation:\n",
    "1. First pivot\n",
    "2. Last pivot\n",
    "3. Medium pivot"
   ]
  },
  {
   "cell_type": "code",
   "execution_count": 1,
   "metadata": {},
   "outputs": [],
   "source": [
    "import os, sys\n",
    "from math import floor\n",
    "data_folder = os.path.dirname(os.path.dirname(os.getcwd()))\n",
    "fname_input = os.path.join(data_folder, \"data/QuickSort.txt\")"
   ]
  },
  {
   "cell_type": "code",
   "execution_count": 2,
   "metadata": {},
   "outputs": [
    {
     "name": "stdout",
     "output_type": "stream",
     "text": [
      "double check the input array for quickSort: 10000 [2148, 9058, 7742, 3153, 6324]\n"
     ]
    }
   ],
   "source": [
    "input_data = []\n",
    "with open(fname_input, \"r\") as f:\n",
    "    for line in f:\n",
    "        input_data.append(int(line.strip()))\n",
    "print(\"double check the input array for quickSort:\", len(input_data), input_data[0:5])"
   ]
  },
  {
   "cell_type": "code",
   "execution_count": 3,
   "metadata": {},
   "outputs": [],
   "source": [
    "def Swap(data, i, j):\n",
    "    val_i = data[i]\n",
    "    val_j = data[j]\n",
    "    data[i] = val_j\n",
    "    data[j] = val_i\n",
    "    return data"
   ]
  },
  {
   "cell_type": "code",
   "execution_count": 59,
   "metadata": {},
   "outputs": [],
   "source": [
    "def ChoosePivot(data, flag):\n",
    "    n = len(data)\n",
    "    if n == 1:\n",
    "        # return the index of data\n",
    "        return 0\n",
    "    if flag == \"first\":\n",
    "        # choose first element as pivot\n",
    "        return 0\n",
    "    if flag == \"last\":\n",
    "        # choose last element as pivot\n",
    "        return n - 1\n",
    "    if flag == \"median\":\n",
    "        # choose median as pivot\n",
    "        k = floor(n/2)\n",
    "        if k * 2 < n :\n",
    "            return k + 1\n",
    "        return k \n",
    "    else:\n",
    "        raise ValueError(\"not method of choosing pivot to test\")"
   ]
  },
  {
   "cell_type": "code",
   "execution_count": 5,
   "metadata": {},
   "outputs": [],
   "source": [
    "def PartitionByFirst(data, l, r):\n",
    "    if l > r:\n",
    "        return data, r\n",
    "    pivot = data[l]\n",
    "    i = l + 1\n",
    "    # last: i = 0, range(0, pivot_pos - 1)\n",
    "    for j in range(l+1 , r):\n",
    "        if data[j] < pivot:\n",
    "            data = Swap(data, j, i)\n",
    "            i = i + 1\n",
    "    data = Swap(data, l, i-1)\n",
    "    return data[0: i - 1], data[i: ]"
   ]
  },
  {
   "cell_type": "code",
   "execution_count": 65,
   "metadata": {},
   "outputs": [],
   "source": [
    "def PartitionByLast(data, l, r):\n",
    "    if l > r :\n",
    "        return data, l\n",
    "    pivot = data[r]\n",
    "    i = l\n",
    "    for j in range(l, r):\n",
    "        if data[j] < pivot:\n",
    "            data = Swap(data, j, i)\n",
    "            i = i + 1\n",
    "    data = Swap(data, r, i)\n",
    "    return data[: i], data[i+1: ]"
   ]
  },
  {
   "cell_type": "code",
   "execution_count": 64,
   "metadata": {},
   "outputs": [],
   "source": [
    "#test_data = [12, 2, 14, 3, 10, 6, 5]\n",
    "#PartitionByLast(test_data, 0, len(test_data) - 1)"
   ]
  },
  {
   "cell_type": "code",
   "execution_count": 144,
   "metadata": {},
   "outputs": [],
   "source": [
    "def PartitionByMedium(data, l, r):\n",
    "    left = []\n",
    "    right = []\n",
    "    pivot = data[l]\n",
    "    for idx in range(0, r):\n",
    "        if idx == l:\n",
    "            continue\n",
    "        if data[idx] <= pivot:\n",
    "            left.append(data[idx])\n",
    "        else:\n",
    "            right.append(data[idx])\n",
    "    return left, right"
   ]
  },
  {
   "cell_type": "code",
   "execution_count": 50,
   "metadata": {},
   "outputs": [],
   "source": [
    "def QuickSort(data, flag):\n",
    "    n = len(data)\n",
    "    if n <= 1:\n",
    "        return data\n",
    "    pivot_pos = ChoosePivot(data, flag)\n",
    "    p = data[pivot_pos]\n",
    "    if flag == \"first\":\n",
    "        left_partition, right_partition = PartitionByFirst(data, pivot_pos, n)\n",
    "    if flag == \"last\":\n",
    "        left_partition, right_partition = PartitionByLast(data, 0, pivot_pos)\n",
    "    if flag == \"median\":\n",
    "        left_partition, right_partition = PartitionByMedium(data, pivot_pos, n)\n",
    "#     print(left_partition[0:5], \"|\", right_partition[0:5], \"||\", pivot_pos, \"_\", data[pivot_pos])\n",
    "    return QuickSort(left_partition, flag) + [p]+ QuickSort(right_partition, flag)"
   ]
  },
  {
   "cell_type": "code",
   "execution_count": 121,
   "metadata": {
    "scrolled": true
   },
   "outputs": [
    {
     "name": "stdout",
     "output_type": "stream",
     "text": [
      "check quickSort output: 10000 [1, 2, 3, 4, 5, 6, 7, 8, 9, 10]\n"
     ]
    }
   ],
   "source": [
    "# quickSort with first element as pivot\n",
    "sorted_output1 = QuickSort(input_data, 'first')\n",
    "print(\"check quickSort output:\", len(sorted_output1), sorted_output1[0:10])"
   ]
  },
  {
   "cell_type": "code",
   "execution_count": 66,
   "metadata": {
    "scrolled": false
   },
   "outputs": [
    {
     "name": "stdout",
     "output_type": "stream",
     "text": [
      "check quickSort output: 10000 [1, 2, 3, 4, 5, 6, 7, 8, 9, 10]\n"
     ]
    }
   ],
   "source": [
    "# quickSort with last element as pivot\n",
    "sorted_output2 = QuickSort(input_data, 'last')\n",
    "print(\"check quickSort output:\", len(sorted_output2), sorted_output2[0:10])"
   ]
  },
  {
   "cell_type": "code",
   "execution_count": 146,
   "metadata": {},
   "outputs": [
    {
     "name": "stdout",
     "output_type": "stream",
     "text": [
      "check quickSort output: 10000 [1, 2, 3, 4, 5, 6, 7, 8, 9, 10]\n"
     ]
    }
   ],
   "source": [
    "# quickSort with median element as pivot\n",
    "sorted_output3 = QuickSort(input_data, 'median')\n",
    "print(\"check quickSort output:\", len(sorted_output3), sorted_output3[0:10])"
   ]
  }
 ],
 "metadata": {
  "kernelspec": {
   "display_name": "Python 3",
   "language": "python",
   "name": "python3"
  },
  "language_info": {
   "codemirror_mode": {
    "name": "ipython",
    "version": 3
   },
   "file_extension": ".py",
   "mimetype": "text/x-python",
   "name": "python",
   "nbconvert_exporter": "python",
   "pygments_lexer": "ipython3",
   "version": "3.6.7"
  }
 },
 "nbformat": 4,
 "nbformat_minor": 2
}
