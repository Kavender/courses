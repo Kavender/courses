{
 "cells": [
  {
   "cell_type": "markdown",
   "metadata": {},
   "source": [
    "In this programming assignment you will implement one or more of the integer multiplication algorithms described in lecture.\n",
    "\n",
    "To get the most out of this assignment, your program should restrict itself to multiplying only pairs of single-digit numbers. You can implement the grade-school algorithm if you want, but to get the most out of the assignment you'll want to implement recursive integer multiplication and/or Karatsuba's algorithm.\n",
    "\n",
    "So: what's the product of the following two 64-digit numbers?\n",
    "\n",
    "3141592653589793238462643383279502884197169399375105820974944592\n",
    "\n",
    "2718281828459045235360287471352662497757247093699959574966967627\n",
    "\n",
    "[TIP: before submitting, first test the correctness of your program on some small test cases of your own devising. Then post your best test cases to the discussion forums to help your fellow students!]\n",
    "\n",
    "[Food for thought: the number of digits in each input number is a power of 2. Does this make your life easier? Does it depend on which algorithm you're implementing?]\n",
    "\n",
    "The numeric answer should be typed in the space below. So if your answer is 1198233847, then just type 1198233847 in the space provided without any space / commas / any other punctuation marks.\n"
   ]
  },
  {
   "cell_type": "code",
   "execution_count": 25,
   "metadata": {},
   "outputs": [],
   "source": [
    "def split_number_string(num_string, max_length):\n",
    "    # max_length may equal or larger than the num_string, be careful to fill 0\n",
    "    split_pos = round(max_length/2)\n",
    "    if (split_pos >= len(num_string)) or (len(num_string) == 1):\n",
    "        return 0, int(num_string)\n",
    "    left_num = num_string[0: split_pos]\n",
    "    right_num = num_string[split_pos: ]\n",
    "    return int(left_num), int(right_num)\n",
    "    "
   ]
  },
  {
   "cell_type": "code",
   "execution_count": 26,
   "metadata": {},
   "outputs": [],
   "source": [
    "def product(num1, num2):\n",
    "    num1_string = str(num1)\n",
    "    num2_string = str(num2)\n",
    "    max_length = max([len(num1_string), len(num2_string)])\n",
    "    if max_length == 1:\n",
    "        return num1 * num2\n",
    "    upper_a, upper_b = split_number_string(num1_string, max_length)\n",
    "    lower_c, lower_d = split_number_string(num2_string, max_length)\n",
    "    a_c = product(upper_a, lower_c)\n",
    "    b_d = product(upper_b, lower_d)\n",
    "    ab_cd = product(upper_a + upper_b, lower_c + lower_d)\n",
    "    gauss_trick = ab_cd - a_c - b_d\n",
    "    num_power = round(max_length/2)*2\n",
    "    return a_c * (10**num_power) + gauss_trick * (10**(num_power/2)) + b_d\n",
    "    \n"
   ]
  },
  {
   "cell_type": "code",
   "execution_count": 27,
   "metadata": {},
   "outputs": [
    {
     "name": "stdout",
     "output_type": "stream",
     "text": [
      "8.540962734970484e+126\n"
     ]
    }
   ],
   "source": [
    "large_num1 = 3141592653589793238462643383279502884197169399375105820974944592\n",
    "large_num2 = 2718281828459045235360287471352662497757247093699959574966967627\n",
    "print(product(large_num1, large_num2))"
   ]
  },
  {
   "cell_type": "code",
   "execution_count": null,
   "metadata": {},
   "outputs": [],
   "source": []
  }
 ],
 "metadata": {
  "kernelspec": {
   "display_name": "Python 3",
   "language": "python",
   "name": "python3"
  },
  "language_info": {
   "codemirror_mode": {
    "name": "ipython",
    "version": 3
   },
   "file_extension": ".py",
   "mimetype": "text/x-python",
   "name": "python",
   "nbconvert_exporter": "python",
   "pygments_lexer": "ipython3",
   "version": "3.6.7"
  }
 },
 "nbformat": 4,
 "nbformat_minor": 2
}
