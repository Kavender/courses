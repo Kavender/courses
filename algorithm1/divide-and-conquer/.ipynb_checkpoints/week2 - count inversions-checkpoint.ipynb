{
 "cells": [
  {
   "cell_type": "markdown",
   "metadata": {},
   "source": [
    "Goal\n",
    "Your task is to compute the number of inversions in the file given, where the ith row of the file indicates the ith entry of an array.\n",
    "\n",
    "File Description\n",
    ".txt files is data file.\n",
    "IntegerArray.txt consists of 100,000 integers between 1 and 100,000 (inclusive) in some order, with no integer repeated..\n",
    ".py file is the solution of Week 2 program assignment\n",
    "IntegerArray.py"
   ]
  },
  {
   "cell_type": "code",
   "execution_count": 1,
   "metadata": {},
   "outputs": [],
   "source": [
    "import os\n",
    "import numpy as np"
   ]
  },
  {
   "cell_type": "code",
   "execution_count": 5,
   "metadata": {},
   "outputs": [],
   "source": [
    "data_folder = os.path.dirname(os.path.dirname(os.getcwd()))\n",
    "fname_input = os.path.join(data_folder, \"data/IntegerArray.txt\")\n",
    "print(fname_input)"
   ]
  },
  {
   "cell_type": "code",
   "execution_count": 7,
   "metadata": {},
   "outputs": [
    {
     "name": "stdout",
     "output_type": "stream",
     "text": [
      "check the input array: 100000 [54044, 14108, 79294, 29649, 25260]\n"
     ]
    }
   ],
   "source": [
    "input_array = []\n",
    "with open(fname_input, \"r\") as f:\n",
    "    for row in f:\n",
    "        input_array.append(int(row))\n",
    "print(\"check the input array:\", len(input_array), input_array[0:5])"
   ]
  },
  {
   "cell_type": "code",
   "execution_count": 10,
   "metadata": {},
   "outputs": [],
   "source": [
    "def Count_Split_Inv(left_sorted, right_sorted):\n",
    "    sorted_arrary = []\n",
    "    i, j =0 ,0 \n",
    "    cnt_inv = 0\n",
    "    while i < len(left_sorted) and j < len(right_sorted):\n",
    "        if left_sorted[i] < right_sorted[j]:\n",
    "            sorted_arrary.append(left_sorted[i])\n",
    "            i = i + 1\n",
    "        else:\n",
    "            sorted_arrary.append(right_sorted[j])\n",
    "            cnt_inv = cnt_inv + 1\n",
    "            j = j + 1\n",
    "    sorted_arrary.extend(left_sorted[i: ])\n",
    "    sorted_arrary.extend(right_sorted[j: ])\n",
    "    return sorted_arrary, cnt_inv"
   ]
  },
  {
   "cell_type": "code",
   "execution_count": 9,
   "metadata": {},
   "outputs": [],
   "source": [
    "def Count_and_Sort(data):\n",
    "    if len(data) == 1:\n",
    "        return data, 0\n",
    "    split_pos = round(len(data)/2)\n",
    "    left_sorted, cnt_inv_left = Count_and_Sort(data[: split_pos])\n",
    "    right_sorted, cnt_inv_right = Count_and_Sort(data[split_pos: ])\n",
    "    sorted_data, cnt_inv_split = Count_Split_Inv(left_sorted, right_sorted)\n",
    "    cnt_inv = cnt_inv_left + cnt_inv_right + cnt_inv_split\n",
    "    return sorted_data, cnt_inv"
   ]
  },
  {
   "cell_type": "code",
   "execution_count": 11,
   "metadata": {},
   "outputs": [
    {
     "name": "stdout",
     "output_type": "stream",
     "text": [
      "how many invesrsion found: 764513 \n",
      " and the sorted output looks like: [1, 2, 3, 4, 5, 6, 7, 8, 9, 10]\n"
     ]
    }
   ],
   "source": [
    "sorted_output, cnt_inversion = Count_and_Sort(input_array)\n",
    "print(\"how many invesrsion found:\", cnt_inversion, \"\\n and the sorted output looks like:\", sorted_output[0:10])"
   ]
  },
  {
   "cell_type": "code",
   "execution_count": null,
   "metadata": {},
   "outputs": [],
   "source": []
  }
 ],
 "metadata": {
  "kernelspec": {
   "display_name": "Python 3",
   "language": "python",
   "name": "python3"
  },
  "language_info": {
   "codemirror_mode": {
    "name": "ipython",
    "version": 3
   },
   "file_extension": ".py",
   "mimetype": "text/x-python",
   "name": "python",
   "nbconvert_exporter": "python",
   "pygments_lexer": "ipython3",
   "version": "3.6.7"
  }
 },
 "nbformat": 4,
 "nbformat_minor": 2
}
