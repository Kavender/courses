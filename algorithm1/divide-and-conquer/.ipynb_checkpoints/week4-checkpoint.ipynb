{
 "cells": [
  {
   "cell_type": "markdown",
   "metadata": {},
   "source": [
    "The file contains the adjacency list representation of a simple undirected graph. There are 200 vertices labeled 1 to 200. The first column in the file represents the vertex label, and the particular row (other entries except the first column) tells all the vertices that the vertex is adjacent to. So for example, the 6^{th}6 \n",
    "th\n",
    "  row looks like : \"6\t155\t56\t52\t120\t......\". This just means that the vertex with label 6 is adjacent to (i.e., shares an edge with) the vertices with labels 155,56,52,120,......,etc\n",
    "\n",
    "Your task is to code up and run the randomized contraction algorithm for the min cut problem and use it on the above graph to compute the min cut. (HINT: Note that you'll have to figure out an implementation of edge contractions. Initially, you might want to do this naively, creating a new graph from the old every time there's an edge contraction. But you should also think about more efficient implementations.) (WARNING: As per the video lectures, please make sure to run the algorithm many times with different random seeds, and remember the smallest cut that you ever find.) Write your numeric answer in the space provided. So e.g., if your answer is 5, just type 5 in the space provided.\n",
    "\n"
   ]
  },
  {
   "cell_type": "code",
   "execution_count": 12,
   "metadata": {},
   "outputs": [],
   "source": [
    "import os\n",
    "import random"
   ]
  },
  {
   "cell_type": "code",
   "execution_count": 7,
   "metadata": {},
   "outputs": [],
   "source": [
    "data_folder = os.path.join(os.path.dirname(os.path.dirname(os.getcwd())), 'data')\n",
    "fname_input = os.path.join(data_folder, \"kargerMinCut.txt\")"
   ]
  },
  {
   "cell_type": "code",
   "execution_count": 13,
   "metadata": {},
   "outputs": [
    {
     "name": "stdout",
     "output_type": "stream",
     "text": [
      "check the input size of vertices: 200 [25, 24, 27, 27, 22]\n"
     ]
    }
   ],
   "source": [
    "# READ INPUT FILE WITH LIST OF VERTICES\n",
    "vertices = []\n",
    "with open(fname_input, \"r\") as f:\n",
    "    for line in f:\n",
    "        line2int = [int(num) for num in line.split()]\n",
    "        vertices.append(line2int)\n",
    "print(\"check the input size of vertices:\", len(vertices), [len(dt) for dt in vertices[0:5]])"
   ]
  },
  {
   "cell_type": "code",
   "execution_count": 34,
   "metadata": {},
   "outputs": [],
   "source": [
    "def form_graph(vertice_labels):\n",
    "    graph = {}\n",
    "    for labels in vertice_labels:\n",
    "        u_label = labels[0]\n",
    "        v_labels = labels[1: ]\n",
    "        graph[u_label] = v_labels\n",
    "    return graph"
   ]
  },
  {
   "cell_type": "code",
   "execution_count": 58,
   "metadata": {},
   "outputs": [],
   "source": [
    "def pick_random_edge(graph):\n",
    "    # random pick an edge from the graph\n",
    "    random_vertex = random.choice(list(graph.keys()))\n",
    "    random_endvertex = random.choice(graph[random_vertex])\n",
    "    return random_vertex, random_endvertex"
   ]
  },
  {
   "cell_type": "code",
   "execution_count": 134,
   "metadata": {},
   "outputs": [],
   "source": [
    "def merge_vertices(graph, u, v):\n",
    "    #remove self loop - merge v into u\n",
    "    end_vertex_u = graph[u] # 34: 65, 1，2，3，4\n",
    "    end_vertex_v = graph[v] # 65: 34, 9，10，11， 12， 4\n",
    "    merged_end = [e for e in end_vertex_u if e != v]\n",
    "    merged_end.extend([e for e in end_vertex_v if e != u])\n",
    "    \n",
    "    for end_vertex in end_vertex_v:\n",
    "        end_end = [et for et in graph[end_vertex] if et != v] + [u]\n",
    "        graph[end_vertex] = end_end\n",
    "    graph[u] = merged_end\n",
    "    graph.pop(v)\n"
   ]
  },
  {
   "cell_type": "code",
   "execution_count": 137,
   "metadata": {},
   "outputs": [],
   "source": [
    "def cal_min_cut(vertices):\n",
    "    # calculate the fewest number of crossing edges of a undirected graph\n",
    "    min_cut = 2 # cannot be lower than 2 vertices forming the graph\n",
    "    graph = form_graph(vertices) # not sure whether it's really necessary\n",
    "    while len(graph) > 2:\n",
    "        u, v = pick_random_edge(graph)\n",
    "        merge_vertices(graph, u, v)\n",
    "    for k in graph:\n",
    "        min_cut = len(graph[k])\n",
    "    return min_cut"
   ]
  },
  {
   "cell_type": "code",
   "execution_count": 29,
   "metadata": {},
   "outputs": [
    {
     "name": "stdout",
     "output_type": "stream",
     "text": [
      "random seeds and selected edge to merge: 10 -> 29 2\n",
      "random seeds for pick another edge to merge: 134 17\n"
     ]
    }
   ],
   "source": [
    "seed = random.randint(0, 10)"
   ]
  },
  {
   "cell_type": "code",
   "execution_count": null,
   "metadata": {},
   "outputs": [],
   "source": [
    "min_cut_global = 99999\n",
    "for run_id in range(100):\n",
    "    min_cutf = cal_min_cut(vertices)\n",
    "    if min_cutf < min_cut_global:\n",
    "        min_cut_global = min_cutf\n",
    "print(\"the multiple min_cut found:\", min_cut_global)"
   ]
  },
  {
   "cell_type": "code",
   "execution_count": null,
   "metadata": {},
   "outputs": [],
   "source": [
    "# def pick_random_edge(vertice_labels):\n",
    "#     #uniform random selection\n",
    "#     random_vertex = random.randint(0, len(vertice_labels))\n",
    "#     random_endvertex = random.randint(0, len(vertice_labels[random_vertex]))\n",
    "#     return random_vertex, random_endvertex"
   ]
  }
 ],
 "metadata": {
  "kernelspec": {
   "display_name": "Python 3",
   "language": "python",
   "name": "python3"
  },
  "language_info": {
   "codemirror_mode": {
    "name": "ipython",
    "version": 3
   },
   "file_extension": ".py",
   "mimetype": "text/x-python",
   "name": "python",
   "nbconvert_exporter": "python",
   "pygments_lexer": "ipython3",
   "version": "3.6.7"
  }
 },
 "nbformat": 4,
 "nbformat_minor": 2
}
